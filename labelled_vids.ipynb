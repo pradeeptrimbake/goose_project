{
 "cells": [
  {
   "cell_type": "code",
   "execution_count": 51,
   "metadata": {},
   "outputs": [],
   "source": [
    "import deeplabcut\n",
    "import os"
   ]
  },
  {
   "cell_type": "code",
   "execution_count": 52,
   "metadata": {},
   "outputs": [],
   "source": [
    "project_name = \"gooseproj2022\"\n",
    "experimenter = \"grprattenborg\"\n",
    "config_path = \"L:\\gooseproject15092022\\gooseproj2022-grprattenborg-2022-09-15\\config.yaml\""
   ]
  },
  {
   "cell_type": "code",
   "execution_count": 53,
   "metadata": {},
   "outputs": [
    {
     "name": "stdout",
     "output_type": "stream",
     "text": [
      "Processing...  H:/20220919_chunks/bs6165_down\\bs6165_10downsampledcropped.mp4\n"
     ]
    },
    {
     "name": "stderr",
     "output_type": "stream",
     "text": [
      "100%|██████████| 5/5 [00:00<00:00, 1671.30it/s]\n",
      "c:\\Users\\labgrprattenborg\\Anaconda3\\envs\\DEEPLABCUT\\lib\\site-packages\\deeplabcut\\refine_training_dataset\\stitch.py:676: UserWarning: No optimal solution found. Employing black magic...\n",
      "  warnings.warn(\"No optimal solution found. Employing black magic...\")\n"
     ]
    },
    {
     "name": "stdout",
     "output_type": "stream",
     "text": [
      "Very mean error\n",
      "Processing...  H:/20220919_chunks/bs6165_down\\bs6165_11downsampledcropped.mp4\n"
     ]
    },
    {
     "name": "stderr",
     "output_type": "stream",
     "text": [
      "100%|██████████| 4/4 [00:00<00:00, 2004.69it/s]\n"
     ]
    },
    {
     "name": "stdout",
     "output_type": "stream",
     "text": [
      "Very mean error\n",
      "Processing...  H:/20220919_chunks/bs6165_down\\bs6165_12downsampledcropped.mp4\n"
     ]
    },
    {
     "name": "stderr",
     "output_type": "stream",
     "text": [
      "100%|██████████| 35/35 [00:00<00:00, 2924.37it/s]\n"
     ]
    },
    {
     "name": "stdout",
     "output_type": "stream",
     "text": [
      "Processing...  H:/20220919_chunks/bs6165_down\\bs6165_13downsampledcropped.mp4\n"
     ]
    },
    {
     "name": "stderr",
     "output_type": "stream",
     "text": [
      "100%|██████████| 6/6 [00:00<00:00, 3007.39it/s]"
     ]
    },
    {
     "name": "stdout",
     "output_type": "stream",
     "text": [
      "Very mean error\n"
     ]
    },
    {
     "name": "stderr",
     "output_type": "stream",
     "text": [
      "\n",
      "c:\\Users\\labgrprattenborg\\Anaconda3\\envs\\DEEPLABCUT\\lib\\site-packages\\deeplabcut\\refine_training_dataset\\stitch.py:676: UserWarning: No optimal solution found. Employing black magic...\n",
      "  warnings.warn(\"No optimal solution found. Employing black magic...\")\n"
     ]
    },
    {
     "name": "stdout",
     "output_type": "stream",
     "text": [
      "Processing...  H:/20220919_chunks/bs6165_down\\bs6165_14downsampledcropped.mp4\n"
     ]
    },
    {
     "name": "stderr",
     "output_type": "stream",
     "text": [
      "100%|██████████| 35/35 [00:00<00:00, 2193.44it/s]\n"
     ]
    },
    {
     "name": "stdout",
     "output_type": "stream",
     "text": [
      "Processing...  H:/20220919_chunks/bs6165_down\\bs6165_15downsampledcropped.mp4\n"
     ]
    },
    {
     "name": "stderr",
     "output_type": "stream",
     "text": [
      "100%|██████████| 10/10 [00:00<00:00, 2506.46it/s]\n",
      "c:\\Users\\labgrprattenborg\\Anaconda3\\envs\\DEEPLABCUT\\lib\\site-packages\\deeplabcut\\refine_training_dataset\\stitch.py:676: UserWarning: No optimal solution found. Employing black magic...\n",
      "  warnings.warn(\"No optimal solution found. Employing black magic...\")\n"
     ]
    },
    {
     "name": "stdout",
     "output_type": "stream",
     "text": [
      "Very mean error\n",
      "Processing...  H:/20220919_chunks/bs6165_down\\bs6165_16downsampledcropped.mp4\n"
     ]
    },
    {
     "name": "stderr",
     "output_type": "stream",
     "text": [
      "100%|██████████| 16/16 [00:00<00:00, 3208.65it/s]\n"
     ]
    },
    {
     "name": "stdout",
     "output_type": "stream",
     "text": [
      "Very mean error\n",
      "Processing...  H:/20220919_chunks/bs6165_down\\bs6165_17downsampledcropped.mp4\n"
     ]
    },
    {
     "name": "stderr",
     "output_type": "stream",
     "text": [
      "100%|██████████| 67/67 [00:00<00:00, 1638.53it/s]\n"
     ]
    },
    {
     "name": "stdout",
     "output_type": "stream",
     "text": [
      "Processing...  H:/20220919_chunks/bs6165_down\\bs6165_18downsampledcropped.mp4\n"
     ]
    },
    {
     "name": "stderr",
     "output_type": "stream",
     "text": [
      "100%|██████████| 3/3 [00:00<00:00, 3005.95it/s]\n",
      "c:\\Users\\labgrprattenborg\\Anaconda3\\envs\\DEEPLABCUT\\lib\\site-packages\\deeplabcut\\refine_training_dataset\\stitch.py:676: UserWarning: No optimal solution found. Employing black magic...\n",
      "  warnings.warn(\"No optimal solution found. Employing black magic...\")\n"
     ]
    },
    {
     "name": "stdout",
     "output_type": "stream",
     "text": [
      "Very mean error\n",
      "Processing...  H:/20220919_chunks/bs6165_down\\bs6165_19downsampledcropped.mp4\n"
     ]
    },
    {
     "name": "stderr",
     "output_type": "stream",
     "text": [
      "100%|██████████| 5/5 [00:00<00:00, 2506.16it/s]\n"
     ]
    },
    {
     "name": "stdout",
     "output_type": "stream",
     "text": [
      "Very mean error\n",
      "Processing...  H:/20220919_chunks/bs6165_down\\bs6165_1downsampledcropped.mp4\n",
      "Very mean error\n",
      "Processing...  H:/20220919_chunks/bs6165_down\\bs6165_20downsampledcropped.mp4\n"
     ]
    },
    {
     "name": "stderr",
     "output_type": "stream",
     "text": [
      "100%|██████████| 5/5 [00:00<00:00, 2507.36it/s]"
     ]
    },
    {
     "name": "stdout",
     "output_type": "stream",
     "text": [
      "Very mean error\n",
      "Processing...  H:/20220919_chunks/bs6165_down\\bs6165_21downsampledcropped.mp4\n"
     ]
    },
    {
     "name": "stderr",
     "output_type": "stream",
     "text": [
      "\n",
      "100%|██████████| 12/12 [00:00<00:00, 3008.29it/s]\n"
     ]
    },
    {
     "name": "stdout",
     "output_type": "stream",
     "text": [
      "Very mean error\n",
      "Processing...  H:/20220919_chunks/bs6165_down\\bs6165_22downsampledcropped.mp4\n"
     ]
    },
    {
     "name": "stderr",
     "output_type": "stream",
     "text": [
      "100%|██████████| 12/12 [00:00<00:00, 4010.49it/s]\n"
     ]
    },
    {
     "name": "stdout",
     "output_type": "stream",
     "text": [
      "Very mean error\n",
      "Processing...  H:/20220919_chunks/bs6165_down\\bs6165_23downsampledcropped.mp4\n"
     ]
    },
    {
     "name": "stderr",
     "output_type": "stream",
     "text": [
      "100%|██████████| 12/12 [00:00<00:00, 3008.11it/s]\n"
     ]
    },
    {
     "name": "stdout",
     "output_type": "stream",
     "text": [
      "Very mean error\n",
      "Processing...  H:/20220919_chunks/bs6165_down\\bs6165_24downsampledcropped.mp4\n"
     ]
    },
    {
     "name": "stderr",
     "output_type": "stream",
     "text": [
      "100%|██████████| 5/5 [00:00<00:00, 5008.72it/s]"
     ]
    },
    {
     "name": "stdout",
     "output_type": "stream",
     "text": [
      "Very mean error\n"
     ]
    },
    {
     "name": "stderr",
     "output_type": "stream",
     "text": [
      "\n"
     ]
    },
    {
     "name": "stdout",
     "output_type": "stream",
     "text": [
      "Processing...  H:/20220919_chunks/bs6165_down\\bs6165_25downsampledcropped.mp4\n"
     ]
    },
    {
     "name": "stderr",
     "output_type": "stream",
     "text": [
      "100%|██████████| 10/10 [00:00<00:00, 3342.87it/s]\n"
     ]
    },
    {
     "name": "stdout",
     "output_type": "stream",
     "text": [
      "Very mean error\n",
      "Processing...  H:/20220919_chunks/bs6165_down\\bs6165_26downsampledcropped.mp4\n"
     ]
    },
    {
     "name": "stderr",
     "output_type": "stream",
     "text": [
      "100%|██████████| 2/2 [00:00<?, ?it/s]"
     ]
    },
    {
     "name": "stdout",
     "output_type": "stream",
     "text": [
      "Very mean error\n"
     ]
    },
    {
     "name": "stderr",
     "output_type": "stream",
     "text": [
      "\n"
     ]
    },
    {
     "name": "stdout",
     "output_type": "stream",
     "text": [
      "Processing...  H:/20220919_chunks/bs6165_down\\bs6165_27downsampledcropped.mp4\n"
     ]
    },
    {
     "name": "stderr",
     "output_type": "stream",
     "text": [
      "100%|██████████| 6/6 [00:00<00:00, 3007.03it/s]"
     ]
    },
    {
     "name": "stdout",
     "output_type": "stream",
     "text": [
      "Very mean error\n",
      "Processing...  H:/20220919_chunks/bs6165_down\\bs6165_28downsampledcropped.mp4\n"
     ]
    },
    {
     "name": "stderr",
     "output_type": "stream",
     "text": [
      "\n",
      "100%|██████████| 3/3 [00:00<00:00, 3010.99it/s]\n"
     ]
    },
    {
     "name": "stdout",
     "output_type": "stream",
     "text": [
      "Very mean error\n",
      "Processing...  H:/20220919_chunks/bs6165_down\\bs6165_29downsampledcropped.mp4\n",
      "Very mean error\n",
      "Processing...  H:/20220919_chunks/bs6165_down\\bs6165_2downsampledcropped.mp4\n",
      "Very mean error\n",
      "Processing...  H:/20220919_chunks/bs6165_down\\bs6165_30downsampledcropped.mp4\n"
     ]
    },
    {
     "name": "stderr",
     "output_type": "stream",
     "text": [
      "100%|██████████| 16/16 [00:00<00:00, 2673.77it/s]\n"
     ]
    },
    {
     "name": "stdout",
     "output_type": "stream",
     "text": [
      "Very mean error\n",
      "Processing...  H:/20220919_chunks/bs6165_down\\bs6165_31downsampledcropped.mp4\n"
     ]
    },
    {
     "name": "stderr",
     "output_type": "stream",
     "text": [
      "100%|██████████| 9/9 [00:00<00:00, 4510.54it/s]\n",
      "c:\\Users\\labgrprattenborg\\Anaconda3\\envs\\DEEPLABCUT\\lib\\site-packages\\deeplabcut\\refine_training_dataset\\stitch.py:676: UserWarning: No optimal solution found. Employing black magic...\n",
      "  warnings.warn(\"No optimal solution found. Employing black magic...\")\n"
     ]
    },
    {
     "name": "stdout",
     "output_type": "stream",
     "text": [
      "Very mean error\n",
      "Processing...  H:/20220919_chunks/bs6165_down\\bs6165_32downsampledcropped.mp4\n"
     ]
    },
    {
     "name": "stderr",
     "output_type": "stream",
     "text": [
      "100%|██████████| 3/3 [00:00<00:00, 3009.55it/s]\n"
     ]
    },
    {
     "name": "stdout",
     "output_type": "stream",
     "text": [
      "Very mean error\n",
      "Processing...  H:/20220919_chunks/bs6165_down\\bs6165_33downsampledcropped.mp4\n"
     ]
    },
    {
     "name": "stderr",
     "output_type": "stream",
     "text": [
      "100%|██████████| 1/1 [00:00<?, ?it/s]\n"
     ]
    },
    {
     "name": "stdout",
     "output_type": "stream",
     "text": [
      "Very mean error\n",
      "Processing...  H:/20220919_chunks/bs6165_down\\bs6165_34downsampledcropped.mp4\n"
     ]
    },
    {
     "name": "stderr",
     "output_type": "stream",
     "text": [
      "100%|██████████| 15/15 [00:00<00:00, 3760.58it/s]"
     ]
    },
    {
     "name": "stdout",
     "output_type": "stream",
     "text": [
      "Very mean error\n",
      "Processing...  H:/20220919_chunks/bs6165_down\\bs6165_35downsampledcropped.mp4\n"
     ]
    },
    {
     "name": "stderr",
     "output_type": "stream",
     "text": [
      "\n",
      "100%|██████████| 13/13 [00:00<00:00, 4345.39it/s]\n"
     ]
    },
    {
     "name": "stdout",
     "output_type": "stream",
     "text": [
      "Very mean error\n",
      "Processing...  H:/20220919_chunks/bs6165_down\\bs6165_3downsampledcropped.mp4\n"
     ]
    },
    {
     "name": "stderr",
     "output_type": "stream",
     "text": [
      "100%|██████████| 1/1 [00:00<?, ?it/s]\n"
     ]
    },
    {
     "name": "stdout",
     "output_type": "stream",
     "text": [
      "Very mean error\n",
      "Processing...  H:/20220919_chunks/bs6165_down\\bs6165_4downsampledcropped.mp4\n"
     ]
    },
    {
     "name": "stderr",
     "output_type": "stream",
     "text": [
      "100%|██████████| 7/7 [00:00<00:00, 2339.08it/s]\n"
     ]
    },
    {
     "name": "stdout",
     "output_type": "stream",
     "text": [
      "Very mean error\n",
      "Processing...  H:/20220919_chunks/bs6165_down\\bs6165_5downsampledcropped.mp4\n"
     ]
    },
    {
     "name": "stderr",
     "output_type": "stream",
     "text": [
      "100%|██████████| 94/94 [00:00<00:00, 1178.14it/s]\n"
     ]
    },
    {
     "name": "stdout",
     "output_type": "stream",
     "text": [
      "Processing...  H:/20220919_chunks/bs6165_down\\bs6165_6downsampledcropped.mp4\n"
     ]
    },
    {
     "name": "stderr",
     "output_type": "stream",
     "text": [
      "100%|██████████| 12/12 [00:00<00:00, 3007.93it/s]"
     ]
    },
    {
     "name": "stdout",
     "output_type": "stream",
     "text": [
      "Very mean error\n"
     ]
    },
    {
     "name": "stderr",
     "output_type": "stream",
     "text": [
      "\n",
      "c:\\Users\\labgrprattenborg\\Anaconda3\\envs\\DEEPLABCUT\\lib\\site-packages\\deeplabcut\\refine_training_dataset\\stitch.py:676: UserWarning: No optimal solution found. Employing black magic...\n",
      "  warnings.warn(\"No optimal solution found. Employing black magic...\")\n"
     ]
    },
    {
     "name": "stdout",
     "output_type": "stream",
     "text": [
      "Processing...  H:/20220919_chunks/bs6165_down\\bs6165_7downsampledcropped.mp4\n"
     ]
    },
    {
     "name": "stderr",
     "output_type": "stream",
     "text": [
      "100%|██████████| 5/5 [00:00<00:00, 5012.31it/s]\n"
     ]
    },
    {
     "name": "stdout",
     "output_type": "stream",
     "text": [
      "Very mean error\n",
      "Processing...  H:/20220919_chunks/bs6165_down\\bs6165_8downsampledcropped.mp4\n"
     ]
    },
    {
     "name": "stderr",
     "output_type": "stream",
     "text": [
      "100%|██████████| 15/15 [00:00<00:00, 3008.68it/s]\n"
     ]
    },
    {
     "name": "stdout",
     "output_type": "stream",
     "text": [
      "Very mean error\n",
      "Processing...  H:/20220919_chunks/bs6165_down\\bs6165_9downsampledcropped.mp4\n"
     ]
    },
    {
     "name": "stderr",
     "output_type": "stream",
     "text": [
      "100%|██████████| 1/1 [00:00<?, ?it/s]"
     ]
    },
    {
     "name": "stdout",
     "output_type": "stream",
     "text": [
      "Very mean error\n"
     ]
    },
    {
     "name": "stderr",
     "output_type": "stream",
     "text": [
      "\n"
     ]
    }
   ],
   "source": [
    "lst=[]\n",
    "cwd = 'H:/20220919_chunks/bs6165_down'\n",
    "for file in os.listdir(cwd):\n",
    "    if file.endswith(\"cropped.mp4\"):\n",
    "        lst.append(file)\n",
    "\n",
    "for vids in lst:\n",
    "    try:          \n",
    "        deeplabcut.stitch_tracklets(config_path, os.path.join(cwd, vids), videotype='mp4', shuffle=1, trainingsetindex=0, n_tracks = 17)\n",
    "    except (ValueError,OSError): \n",
    "        print('Very mean error')"
   ]
  },
  {
   "cell_type": "code",
   "execution_count": 54,
   "metadata": {},
   "outputs": [
    {
     "name": "stdout",
     "output_type": "stream",
     "text": [
      "Processing...  H:/20220919_chunks/bs6167_down\\bs6167_10downsampledcropped.mp4\n",
      "Very mean error\n",
      "Processing...  H:/20220919_chunks/bs6167_down\\bs6167_11downsampledcropped.mp4\n",
      "Very mean error\n",
      "Processing...  H:/20220919_chunks/bs6167_down\\bs6167_12downsampledcropped.mp4\n"
     ]
    },
    {
     "name": "stderr",
     "output_type": "stream",
     "text": [
      "100%|██████████| 21/21 [00:00<00:00, 3509.32it/s]\n"
     ]
    },
    {
     "name": "stdout",
     "output_type": "stream",
     "text": [
      "Processing...  H:/20220919_chunks/bs6167_down\\bs6167_13downsampledcropped.mp4\n"
     ]
    },
    {
     "name": "stderr",
     "output_type": "stream",
     "text": [
      "100%|██████████| 66/66 [00:00<00:00, 1946.35it/s]\n"
     ]
    },
    {
     "name": "stdout",
     "output_type": "stream",
     "text": [
      "Processing...  H:/20220919_chunks/bs6167_down\\bs6167_14downsampledcropped.mp4\n"
     ]
    },
    {
     "name": "stderr",
     "output_type": "stream",
     "text": [
      "100%|██████████| 11/11 [00:00<00:00, 3676.87it/s]"
     ]
    },
    {
     "name": "stdout",
     "output_type": "stream",
     "text": [
      "Very mean error\n",
      "Processing...  H:/20220919_chunks/bs6167_down\\bs6167_15downsampledcropped.mp4\n"
     ]
    },
    {
     "name": "stderr",
     "output_type": "stream",
     "text": [
      "\n",
      "c:\\Users\\labgrprattenborg\\Anaconda3\\envs\\DEEPLABCUT\\lib\\site-packages\\deeplabcut\\refine_training_dataset\\stitch.py:676: UserWarning: No optimal solution found. Employing black magic...\n",
      "  warnings.warn(\"No optimal solution found. Employing black magic...\")\n",
      "100%|██████████| 19/19 [00:00<00:00, 3175.35it/s]\n"
     ]
    },
    {
     "name": "stdout",
     "output_type": "stream",
     "text": [
      "Processing...  H:/20220919_chunks/bs6167_down\\bs6167_16downsampledcropped.mp4\n"
     ]
    },
    {
     "name": "stderr",
     "output_type": "stream",
     "text": [
      "100%|██████████| 67/67 [00:00<00:00, 1492.85it/s]\n"
     ]
    },
    {
     "name": "stdout",
     "output_type": "stream",
     "text": [
      "Processing...  H:/20220919_chunks/bs6167_down\\bs6167_17downsampledcropped.mp4\n",
      "Very mean error\n",
      "Processing...  H:/20220919_chunks/bs6167_down\\bs6167_18downsampledcropped.mp4\n",
      "Very mean error\n",
      "Processing...  H:/20220919_chunks/bs6167_down\\bs6167_19downsampledcropped.mp4\n"
     ]
    },
    {
     "name": "stderr",
     "output_type": "stream",
     "text": [
      "100%|██████████| 23/23 [00:00<00:00, 2882.08it/s]\n"
     ]
    },
    {
     "name": "stdout",
     "output_type": "stream",
     "text": [
      "Processing...  H:/20220919_chunks/bs6167_down\\bs6167_1downsampledcropped.mp4\n"
     ]
    },
    {
     "name": "stderr",
     "output_type": "stream",
     "text": [
      "100%|██████████| 1/1 [00:00<?, ?it/s]\n",
      "c:\\Users\\labgrprattenborg\\Anaconda3\\envs\\DEEPLABCUT\\lib\\site-packages\\deeplabcut\\refine_training_dataset\\stitch.py:676: UserWarning: No optimal solution found. Employing black magic...\n",
      "  warnings.warn(\"No optimal solution found. Employing black magic...\")\n"
     ]
    },
    {
     "name": "stdout",
     "output_type": "stream",
     "text": [
      "Very mean error\n",
      "Processing...  H:/20220919_chunks/bs6167_down\\bs6167_20downsampledcropped.mp4\n"
     ]
    },
    {
     "name": "stderr",
     "output_type": "stream",
     "text": [
      "100%|██████████| 2/2 [00:00<00:00, 2004.93it/s]\n"
     ]
    },
    {
     "name": "stdout",
     "output_type": "stream",
     "text": [
      "Very mean error\n",
      "Processing...  H:/20220919_chunks/bs6167_down\\bs6167_21downsampledcropped.mp4\n"
     ]
    },
    {
     "name": "stderr",
     "output_type": "stream",
     "text": [
      "100%|██████████| 3/3 [00:00<00:00, 3008.11it/s]\n"
     ]
    },
    {
     "name": "stdout",
     "output_type": "stream",
     "text": [
      "Very mean error\n",
      "Processing...  H:/20220919_chunks/bs6167_down\\bs6167_22downsampledcropped.mp4\n"
     ]
    },
    {
     "name": "stderr",
     "output_type": "stream",
     "text": [
      "100%|██████████| 2/2 [00:00<00:00, 2006.84it/s]\n"
     ]
    },
    {
     "name": "stdout",
     "output_type": "stream",
     "text": [
      "Very mean error\n",
      "Processing...  H:/20220919_chunks/bs6167_down\\bs6167_23downsampledcropped.mp4\n",
      "Very mean error\n",
      "Processing...  H:/20220919_chunks/bs6167_down\\bs6167_24downsampledcropped.mp4\n",
      "Very mean error\n",
      "Processing...  H:/20220919_chunks/bs6167_down\\bs6167_25downsampledcropped.mp4\n"
     ]
    },
    {
     "name": "stderr",
     "output_type": "stream",
     "text": [
      "100%|██████████| 36/36 [00:00<00:00, 2776.71it/s]\n"
     ]
    },
    {
     "name": "stdout",
     "output_type": "stream",
     "text": [
      "Processing...  H:/20220919_chunks/bs6167_down\\bs6167_26downsampledcropped.mp4\n",
      "Very mean error\n",
      "Processing...  H:/20220919_chunks/bs6167_down\\bs6167_27downsampledcropped.mp4\n"
     ]
    },
    {
     "name": "stderr",
     "output_type": "stream",
     "text": [
      "100%|██████████| 46/46 [00:00<00:00, 1844.65it/s]\n"
     ]
    },
    {
     "name": "stdout",
     "output_type": "stream",
     "text": [
      "Processing...  H:/20220919_chunks/bs6167_down\\bs6167_28downsampledcropped.mp4\n",
      "Very mean error\n",
      "Processing...  H:/20220919_chunks/bs6167_down\\bs6167_29downsampledcropped.mp4\n",
      "Very mean error\n",
      "Processing...  H:/20220919_chunks/bs6167_down\\bs6167_2downsampledcropped.mp4\n"
     ]
    },
    {
     "name": "stderr",
     "output_type": "stream",
     "text": [
      "100%|██████████| 3/3 [00:00<00:00, 1504.59it/s]\n",
      "c:\\Users\\labgrprattenborg\\Anaconda3\\envs\\DEEPLABCUT\\lib\\site-packages\\deeplabcut\\refine_training_dataset\\stitch.py:676: UserWarning: No optimal solution found. Employing black magic...\n",
      "  warnings.warn(\"No optimal solution found. Employing black magic...\")\n"
     ]
    },
    {
     "name": "stdout",
     "output_type": "stream",
     "text": [
      "Very mean error\n",
      "Processing...  H:/20220919_chunks/bs6167_down\\bs6167_30downsampledcropped.mp4\n",
      "Very mean error\n",
      "Processing...  H:/20220919_chunks/bs6167_down\\bs6167_31downsampledcropped.mp4\n",
      "Very mean error\n",
      "Processing...  H:/20220919_chunks/bs6167_down\\bs6167_32downsampledcropped.mp4\n",
      "Very mean error\n",
      "Processing...  H:/20220919_chunks/bs6167_down\\bs6167_33downsampledcropped.mp4\n",
      "Very mean error\n",
      "Processing...  H:/20220919_chunks/bs6167_down\\bs6167_34downsampledcropped.mp4\n",
      "Very mean error\n",
      "Processing...  H:/20220919_chunks/bs6167_down\\bs6167_3downsampledcropped.mp4\n"
     ]
    },
    {
     "name": "stderr",
     "output_type": "stream",
     "text": [
      "100%|██████████| 46/46 [00:00<00:00, 1708.26it/s]\n"
     ]
    },
    {
     "name": "stdout",
     "output_type": "stream",
     "text": [
      "Processing...  H:/20220919_chunks/bs6167_down\\bs6167_4downsampledcropped.mp4\n",
      "Very mean error\n",
      "Processing...  H:/20220919_chunks/bs6167_down\\bs6167_5downsampledcropped.mp4\n"
     ]
    },
    {
     "name": "stderr",
     "output_type": "stream",
     "text": [
      "100%|██████████| 1/1 [00:00<?, ?it/s]"
     ]
    },
    {
     "name": "stdout",
     "output_type": "stream",
     "text": [
      "Very mean error\n"
     ]
    },
    {
     "name": "stderr",
     "output_type": "stream",
     "text": [
      "\n",
      "c:\\Users\\labgrprattenborg\\Anaconda3\\envs\\DEEPLABCUT\\lib\\site-packages\\deeplabcut\\refine_training_dataset\\stitch.py:676: UserWarning: No optimal solution found. Employing black magic...\n",
      "  warnings.warn(\"No optimal solution found. Employing black magic...\")\n"
     ]
    },
    {
     "name": "stdout",
     "output_type": "stream",
     "text": [
      "Processing...  H:/20220919_chunks/bs6167_down\\bs6167_6downsampledcropped.mp4\n"
     ]
    },
    {
     "name": "stderr",
     "output_type": "stream",
     "text": [
      "100%|██████████| 83/83 [00:00<00:00, 1410.52it/s]\n"
     ]
    },
    {
     "name": "stdout",
     "output_type": "stream",
     "text": [
      "Processing...  H:/20220919_chunks/bs6167_down\\bs6167_7downsampledcropped.mp4\n"
     ]
    },
    {
     "name": "stderr",
     "output_type": "stream",
     "text": [
      "100%|██████████| 2/2 [00:00<00:00, 2006.84it/s]\n",
      "c:\\Users\\labgrprattenborg\\Anaconda3\\envs\\DEEPLABCUT\\lib\\site-packages\\deeplabcut\\refine_training_dataset\\stitch.py:676: UserWarning: No optimal solution found. Employing black magic...\n",
      "  warnings.warn(\"No optimal solution found. Employing black magic...\")\n"
     ]
    },
    {
     "name": "stdout",
     "output_type": "stream",
     "text": [
      "Very mean error\n",
      "Processing...  H:/20220919_chunks/bs6167_down\\bs6167_8downsampledcropped.mp4\n"
     ]
    },
    {
     "name": "stderr",
     "output_type": "stream",
     "text": [
      "100%|██████████| 2/2 [00:00<00:00, 2005.88it/s]\n"
     ]
    },
    {
     "name": "stdout",
     "output_type": "stream",
     "text": [
      "Very mean error\n",
      "Processing...  H:/20220919_chunks/bs6167_down\\bs6167_9downsampledcropped.mp4\n"
     ]
    },
    {
     "name": "stderr",
     "output_type": "stream",
     "text": [
      "100%|██████████| 26/26 [00:00<00:00, 2896.54it/s]\n"
     ]
    }
   ],
   "source": [
    "lst=[]\n",
    "cwd = 'H:/20220919_chunks/bs6167_down'\n",
    "for file in os.listdir(cwd):\n",
    "    if file.endswith(\"cropped.mp4\"):\n",
    "        lst.append(file)\n",
    "\n",
    "for vids in lst:\n",
    "    try:          \n",
    "        deeplabcut.stitch_tracklets(config_path, os.path.join(cwd, vids), videotype='mp4', shuffle=1, trainingsetindex=0, n_tracks = 17)\n",
    "    except (ValueError,OSError): \n",
    "        print('Very mean error')"
   ]
  },
  {
   "cell_type": "code",
   "execution_count": 55,
   "metadata": {},
   "outputs": [
    {
     "name": "stdout",
     "output_type": "stream",
     "text": [
      "Processing...  H:/20220919_chunks/bs6169_down\\bs6169_10downsampledcropped.mp4\n"
     ]
    },
    {
     "name": "stderr",
     "output_type": "stream",
     "text": [
      "100%|██████████| 11/11 [00:00<00:00, 3676.28it/s]"
     ]
    },
    {
     "name": "stdout",
     "output_type": "stream",
     "text": [
      "Very mean error\n",
      "Processing...  H:/20220919_chunks/bs6169_down\\bs6169_11downsampledcropped.mp4\n"
     ]
    },
    {
     "name": "stderr",
     "output_type": "stream",
     "text": [
      "\n",
      "c:\\Users\\labgrprattenborg\\Anaconda3\\envs\\DEEPLABCUT\\lib\\site-packages\\deeplabcut\\refine_training_dataset\\stitch.py:676: UserWarning: No optimal solution found. Employing black magic...\n",
      "  warnings.warn(\"No optimal solution found. Employing black magic...\")\n",
      "100%|██████████| 10/10 [00:00<00:00, 5014.11it/s]\n"
     ]
    },
    {
     "name": "stdout",
     "output_type": "stream",
     "text": [
      "Very mean error\n",
      "Processing...  H:/20220919_chunks/bs6169_down\\bs6169_12downsampledcropped.mp4\n"
     ]
    },
    {
     "name": "stderr",
     "output_type": "stream",
     "text": [
      "100%|██████████| 5/5 [00:00<00:00, 2507.66it/s]\n"
     ]
    },
    {
     "name": "stdout",
     "output_type": "stream",
     "text": [
      "Very mean error\n",
      "Processing...  H:/20220919_chunks/bs6169_down\\bs6169_13downsampledcropped.mp4\n"
     ]
    },
    {
     "name": "stderr",
     "output_type": "stream",
     "text": [
      "100%|██████████| 6/6 [00:00<00:00, 6014.78it/s]"
     ]
    },
    {
     "name": "stdout",
     "output_type": "stream",
     "text": [
      "Very mean error\n",
      "Processing...  H:/20220919_chunks/bs6169_down\\bs6169_14downsampledcropped.mp4\n"
     ]
    },
    {
     "name": "stderr",
     "output_type": "stream",
     "text": [
      "\n",
      "100%|██████████| 8/8 [00:00<00:00, 4011.29it/s]\n"
     ]
    },
    {
     "name": "stdout",
     "output_type": "stream",
     "text": [
      "Very mean error\n",
      "Processing...  H:/20220919_chunks/bs6169_down\\bs6169_15downsampledcropped.mp4\n"
     ]
    },
    {
     "name": "stderr",
     "output_type": "stream",
     "text": [
      "100%|██████████| 72/72 [00:00<00:00, 2005.30it/s]\n"
     ]
    },
    {
     "name": "stdout",
     "output_type": "stream",
     "text": [
      "Processing...  H:/20220919_chunks/bs6169_down\\bs6169_16downsampledcropped.mp4\n"
     ]
    },
    {
     "name": "stderr",
     "output_type": "stream",
     "text": [
      "100%|██████████| 15/15 [00:00<00:00, 3760.13it/s]\n",
      "c:\\Users\\labgrprattenborg\\Anaconda3\\envs\\DEEPLABCUT\\lib\\site-packages\\deeplabcut\\refine_training_dataset\\stitch.py:676: UserWarning: No optimal solution found. Employing black magic...\n",
      "  warnings.warn(\"No optimal solution found. Employing black magic...\")\n"
     ]
    },
    {
     "name": "stdout",
     "output_type": "stream",
     "text": [
      "Very mean error\n",
      "Processing...  H:/20220919_chunks/bs6169_down\\bs6169_17downsampledcropped.mp4\n"
     ]
    },
    {
     "name": "stderr",
     "output_type": "stream",
     "text": [
      "100%|██████████| 105/105 [00:00<00:00, 1753.62it/s]\n"
     ]
    },
    {
     "name": "stdout",
     "output_type": "stream",
     "text": [
      "Processing...  H:/20220919_chunks/bs6169_down\\bs6169_18downsampledcropped.mp4\n"
     ]
    },
    {
     "name": "stderr",
     "output_type": "stream",
     "text": [
      "100%|██████████| 3/3 [00:00<?, ?it/s]"
     ]
    },
    {
     "name": "stdout",
     "output_type": "stream",
     "text": [
      "Very mean error\n",
      "Processing...  H:/20220919_chunks/bs6169_down\\bs6169_19downsampledcropped.mp4\n"
     ]
    },
    {
     "name": "stderr",
     "output_type": "stream",
     "text": [
      "\n",
      "c:\\Users\\labgrprattenborg\\Anaconda3\\envs\\DEEPLABCUT\\lib\\site-packages\\deeplabcut\\refine_training_dataset\\stitch.py:676: UserWarning: No optimal solution found. Employing black magic...\n",
      "  warnings.warn(\"No optimal solution found. Employing black magic...\")\n",
      "100%|██████████| 6/6 [00:00<00:00, 6017.65it/s]\n"
     ]
    },
    {
     "name": "stdout",
     "output_type": "stream",
     "text": [
      "Very mean error\n",
      "Processing...  H:/20220919_chunks/bs6169_down\\bs6169_1downsampledcropped.mp4\n",
      "Very mean error\n",
      "Processing...  H:/20220919_chunks/bs6169_down\\bs6169_20downsampledcropped.mp4\n"
     ]
    },
    {
     "name": "stderr",
     "output_type": "stream",
     "text": [
      "100%|██████████| 18/18 [00:00<00:00, 3007.99it/s]\n"
     ]
    },
    {
     "name": "stdout",
     "output_type": "stream",
     "text": [
      "Processing...  H:/20220919_chunks/bs6169_down\\bs6169_21downsampledcropped.mp4\n"
     ]
    },
    {
     "name": "stderr",
     "output_type": "stream",
     "text": [
      "100%|██████████| 15/15 [00:00<00:00, 5015.91it/s]"
     ]
    },
    {
     "name": "stdout",
     "output_type": "stream",
     "text": [
      "Very mean error\n",
      "Processing...  H:/20220919_chunks/bs6169_down\\bs6169_22downsampledcropped.mp4\n"
     ]
    },
    {
     "name": "stderr",
     "output_type": "stream",
     "text": [
      "\n",
      "c:\\Users\\labgrprattenborg\\Anaconda3\\envs\\DEEPLABCUT\\lib\\site-packages\\deeplabcut\\refine_training_dataset\\stitch.py:676: UserWarning: No optimal solution found. Employing black magic...\n",
      "  warnings.warn(\"No optimal solution found. Employing black magic...\")\n",
      "100%|██████████| 17/17 [00:00<00:00, 3409.03it/s]\n"
     ]
    },
    {
     "name": "stdout",
     "output_type": "stream",
     "text": [
      "Processing...  H:/20220919_chunks/bs6169_down\\bs6169_23downsampledcropped.mp4\n"
     ]
    },
    {
     "name": "stderr",
     "output_type": "stream",
     "text": [
      "100%|██████████| 9/9 [00:00<00:00, 3007.63it/s]"
     ]
    },
    {
     "name": "stdout",
     "output_type": "stream",
     "text": [
      "Very mean error\n"
     ]
    },
    {
     "name": "stderr",
     "output_type": "stream",
     "text": [
      "\n",
      "c:\\Users\\labgrprattenborg\\Anaconda3\\envs\\DEEPLABCUT\\lib\\site-packages\\deeplabcut\\refine_training_dataset\\stitch.py:676: UserWarning: No optimal solution found. Employing black magic...\n",
      "  warnings.warn(\"No optimal solution found. Employing black magic...\")\n"
     ]
    },
    {
     "name": "stdout",
     "output_type": "stream",
     "text": [
      "Processing...  H:/20220919_chunks/bs6169_down\\bs6169_24downsampledcropped.mp4\n"
     ]
    },
    {
     "name": "stderr",
     "output_type": "stream",
     "text": [
      "100%|██████████| 3/3 [00:00<00:00, 3010.27it/s]\n"
     ]
    },
    {
     "name": "stdout",
     "output_type": "stream",
     "text": [
      "Very mean error\n",
      "Processing...  H:/20220919_chunks/bs6169_down\\bs6169_25downsampledcropped.mp4\n"
     ]
    },
    {
     "name": "stderr",
     "output_type": "stream",
     "text": [
      "100%|██████████| 3/3 [00:00<00:00, 3007.39it/s]\n"
     ]
    },
    {
     "name": "stdout",
     "output_type": "stream",
     "text": [
      "Very mean error\n",
      "Processing...  H:/20220919_chunks/bs6169_down\\bs6169_26downsampledcropped.mp4\n"
     ]
    },
    {
     "name": "stderr",
     "output_type": "stream",
     "text": [
      "100%|██████████| 3/3 [00:00<?, ?it/s]\n"
     ]
    },
    {
     "name": "stdout",
     "output_type": "stream",
     "text": [
      "Very mean error\n",
      "Processing...  H:/20220919_chunks/bs6169_down\\bs6169_27downsampledcropped.mp4\n",
      "Very mean error\n",
      "Processing...  H:/20220919_chunks/bs6169_down\\bs6169_28downsampledcropped.mp4\n",
      "Very mean error\n",
      "Processing...  H:/20220919_chunks/bs6169_down\\bs6169_29downsampledcropped.mp4\n",
      "Very mean error\n",
      "Processing...  H:/20220919_chunks/bs6169_down\\bs6169_2downsampledcropped.mp4\n"
     ]
    },
    {
     "name": "stderr",
     "output_type": "stream",
     "text": [
      "100%|██████████| 1/1 [00:00<?, ?it/s]\n"
     ]
    },
    {
     "name": "stdout",
     "output_type": "stream",
     "text": [
      "Very mean error\n",
      "Processing...  H:/20220919_chunks/bs6169_down\\bs6169_30downsampledcropped.mp4\n"
     ]
    },
    {
     "name": "stderr",
     "output_type": "stream",
     "text": [
      "100%|██████████| 18/18 [00:00<00:00, 2578.38it/s]\n"
     ]
    },
    {
     "name": "stdout",
     "output_type": "stream",
     "text": [
      "Processing...  H:/20220919_chunks/bs6169_down\\bs6169_31downsampledcropped.mp4\n"
     ]
    },
    {
     "name": "stderr",
     "output_type": "stream",
     "text": [
      "100%|██████████| 9/9 [00:00<00:00, 4513.24it/s]"
     ]
    },
    {
     "name": "stdout",
     "output_type": "stream",
     "text": [
      "Very mean error\n"
     ]
    },
    {
     "name": "stderr",
     "output_type": "stream",
     "text": [
      "\n",
      "c:\\Users\\labgrprattenborg\\Anaconda3\\envs\\DEEPLABCUT\\lib\\site-packages\\deeplabcut\\refine_training_dataset\\stitch.py:676: UserWarning: No optimal solution found. Employing black magic...\n",
      "  warnings.warn(\"No optimal solution found. Employing black magic...\")\n"
     ]
    },
    {
     "name": "stdout",
     "output_type": "stream",
     "text": [
      "Processing...  H:/20220919_chunks/bs6169_down\\bs6169_32downsampledcropped.mp4\n",
      "Very mean error\n",
      "Processing...  H:/20220919_chunks/bs6169_down\\bs6169_33downsampledcropped.mp4\n"
     ]
    },
    {
     "name": "stderr",
     "output_type": "stream",
     "text": [
      "100%|██████████| 2/2 [00:00<00:00, 2003.01it/s]"
     ]
    },
    {
     "name": "stdout",
     "output_type": "stream",
     "text": [
      "Very mean error\n",
      "Processing...  H:/20220919_chunks/bs6169_down\\bs6169_34downsampledcropped.mp4\n"
     ]
    },
    {
     "name": "stderr",
     "output_type": "stream",
     "text": [
      "\n",
      "100%|██████████| 1/1 [00:00<?, ?it/s]\n"
     ]
    },
    {
     "name": "stdout",
     "output_type": "stream",
     "text": [
      "Very mean error\n",
      "Processing...  H:/20220919_chunks/bs6169_down\\bs6169_35downsampledcropped.mp4\n"
     ]
    },
    {
     "name": "stderr",
     "output_type": "stream",
     "text": [
      "100%|██████████| 9/9 [00:00<00:00, 3005.95it/s]\n"
     ]
    },
    {
     "name": "stdout",
     "output_type": "stream",
     "text": [
      "Very mean error\n",
      "Processing...  H:/20220919_chunks/bs6169_down\\bs6169_36downsampledcropped.mp4\n",
      "Very mean error\n",
      "Processing...  H:/20220919_chunks/bs6169_down\\bs6169_37downsampledcropped.mp4\n",
      "Very mean error\n",
      "Processing...  H:/20220919_chunks/bs6169_down\\bs6169_38downsampledcropped.mp4\n"
     ]
    },
    {
     "name": "stderr",
     "output_type": "stream",
     "text": [
      "100%|██████████| 11/11 [00:00<00:00, 5514.86it/s]\n"
     ]
    },
    {
     "name": "stdout",
     "output_type": "stream",
     "text": [
      "Very mean error\n",
      "Processing...  H:/20220919_chunks/bs6169_down\\bs6169_39downsampledcropped.mp4\n",
      "Very mean error\n",
      "Processing...  H:/20220919_chunks/bs6169_down\\bs6169_3downsampledcropped.mp4\n",
      "Very mean error\n",
      "Processing...  H:/20220919_chunks/bs6169_down\\bs6169_40downsampledcropped.mp4\n",
      "Very mean error\n",
      "Processing...  H:/20220919_chunks/bs6169_down\\bs6169_41downsampledcropped.mp4\n",
      "Very mean error\n",
      "Processing...  H:/20220919_chunks/bs6169_down\\bs6169_42downsampledcropped.mp4\n",
      "Very mean error\n",
      "Processing...  H:/20220919_chunks/bs6169_down\\bs6169_43downsampledcropped.mp4\n",
      "Very mean error\n",
      "Processing...  H:/20220919_chunks/bs6169_down\\bs6169_44downsampledcropped.mp4\n",
      "Very mean error\n",
      "Processing...  H:/20220919_chunks/bs6169_down\\bs6169_4downsampledcropped.mp4\n"
     ]
    },
    {
     "name": "stderr",
     "output_type": "stream",
     "text": [
      "100%|██████████| 11/11 [00:00<00:00, 2757.60it/s]\n"
     ]
    },
    {
     "name": "stdout",
     "output_type": "stream",
     "text": [
      "Very mean error\n",
      "Processing...  H:/20220919_chunks/bs6169_down\\bs6169_5downsampledcropped.mp4\n"
     ]
    },
    {
     "name": "stderr",
     "output_type": "stream",
     "text": [
      "100%|██████████| 51/51 [00:00<00:00, 2223.36it/s]\n"
     ]
    },
    {
     "name": "stdout",
     "output_type": "stream",
     "text": [
      "Processing...  H:/20220919_chunks/bs6169_down\\bs6169_6downsampledcropped.mp4\n",
      "Very mean error\n",
      "Processing...  H:/20220919_chunks/bs6169_down\\bs6169_7downsampledcropped.mp4\n"
     ]
    },
    {
     "name": "stderr",
     "output_type": "stream",
     "text": [
      "100%|██████████| 17/17 [00:00<00:00, 3409.03it/s]\n"
     ]
    },
    {
     "name": "stdout",
     "output_type": "stream",
     "text": [
      "Processing...  H:/20220919_chunks/bs6169_down\\bs6169_8downsampledcropped.mp4\n"
     ]
    },
    {
     "name": "stderr",
     "output_type": "stream",
     "text": [
      "100%|██████████| 22/22 [00:00<00:00, 2205.89it/s]\n"
     ]
    },
    {
     "name": "stdout",
     "output_type": "stream",
     "text": [
      "Processing...  H:/20220919_chunks/bs6169_down\\bs6169_9downsampledcropped.mp4\n"
     ]
    },
    {
     "name": "stderr",
     "output_type": "stream",
     "text": [
      "100%|██████████| 1/1 [00:00<?, ?it/s]"
     ]
    },
    {
     "name": "stdout",
     "output_type": "stream",
     "text": [
      "Very mean error\n"
     ]
    },
    {
     "name": "stderr",
     "output_type": "stream",
     "text": [
      "\n",
      "c:\\Users\\labgrprattenborg\\Anaconda3\\envs\\DEEPLABCUT\\lib\\site-packages\\deeplabcut\\refine_training_dataset\\stitch.py:676: UserWarning: No optimal solution found. Employing black magic...\n",
      "  warnings.warn(\"No optimal solution found. Employing black magic...\")\n"
     ]
    }
   ],
   "source": [
    "lst=[]\n",
    "cwd = 'H:/20220919_chunks/bs6169_down'\n",
    "for file in os.listdir(cwd):\n",
    "    if file.endswith(\"cropped.mp4\"):\n",
    "        lst.append(file)\n",
    "\n",
    "for vids in lst:\n",
    "    try:          \n",
    "        deeplabcut.stitch_tracklets(config_path, os.path.join(cwd, vids), videotype='mp4', shuffle=1, trainingsetindex=0, n_tracks = 17)\n",
    "    except (ValueError,OSError): \n",
    "        print('Very mean error')"
   ]
  },
  {
   "cell_type": "code",
   "execution_count": 56,
   "metadata": {},
   "outputs": [
    {
     "name": "stdout",
     "output_type": "stream",
     "text": [
      "Processing...  H:/20220919_chunks/bs6170_down\\bs6170_10downsampledcropped.mp4\n"
     ]
    },
    {
     "name": "stderr",
     "output_type": "stream",
     "text": [
      "100%|██████████| 5/5 [00:00<00:00, 5014.71it/s]\n"
     ]
    },
    {
     "name": "stdout",
     "output_type": "stream",
     "text": [
      "Very mean error\n",
      "Processing...  H:/20220919_chunks/bs6170_down\\bs6170_11downsampledcropped.mp4\n"
     ]
    },
    {
     "name": "stderr",
     "output_type": "stream",
     "text": [
      "100%|██████████| 5/5 [00:00<00:00, 2505.56it/s]\n"
     ]
    },
    {
     "name": "stdout",
     "output_type": "stream",
     "text": [
      "Very mean error\n",
      "Processing...  H:/20220919_chunks/bs6170_down\\bs6170_12downsampledcropped.mp4\n",
      "Very mean error\n",
      "Processing...  H:/20220919_chunks/bs6170_down\\bs6170_13downsampledcropped.mp4\n",
      "Very mean error\n",
      "Processing...  H:/20220919_chunks/bs6170_down\\bs6170_14downsampledcropped.mp4\n"
     ]
    },
    {
     "name": "stderr",
     "output_type": "stream",
     "text": [
      "100%|██████████| 21/21 [00:00<00:00, 3509.32it/s]\n"
     ]
    },
    {
     "name": "stdout",
     "output_type": "stream",
     "text": [
      "Processing...  H:/20220919_chunks/bs6170_down\\bs6170_15downsampledcropped.mp4\n"
     ]
    },
    {
     "name": "stderr",
     "output_type": "stream",
     "text": [
      "100%|██████████| 59/59 [00:00<00:00, 2464.88it/s]\n"
     ]
    },
    {
     "name": "stdout",
     "output_type": "stream",
     "text": [
      "Processing...  H:/20220919_chunks/bs6170_down\\bs6170_16downsampledcropped.mp4\n"
     ]
    },
    {
     "name": "stderr",
     "output_type": "stream",
     "text": [
      "100%|██████████| 12/12 [00:00<00:00, 3008.11it/s]\n",
      "c:\\Users\\labgrprattenborg\\Anaconda3\\envs\\DEEPLABCUT\\lib\\site-packages\\deeplabcut\\refine_training_dataset\\stitch.py:676: UserWarning: No optimal solution found. Employing black magic...\n",
      "  warnings.warn(\"No optimal solution found. Employing black magic...\")\n"
     ]
    },
    {
     "name": "stdout",
     "output_type": "stream",
     "text": [
      "Very mean error\n",
      "Processing...  H:/20220919_chunks/bs6170_down\\bs6170_17downsampledcropped.mp4\n"
     ]
    },
    {
     "name": "stderr",
     "output_type": "stream",
     "text": [
      "100%|██████████| 9/9 [00:00<00:00, 3005.47it/s]\n"
     ]
    },
    {
     "name": "stdout",
     "output_type": "stream",
     "text": [
      "Very mean error\n",
      "Processing...  H:/20220919_chunks/bs6170_down\\bs6170_18downsampledcropped.mp4\n"
     ]
    },
    {
     "name": "stderr",
     "output_type": "stream",
     "text": [
      "100%|██████████| 20/20 [00:00<00:00, 2865.26it/s]\n"
     ]
    },
    {
     "name": "stdout",
     "output_type": "stream",
     "text": [
      "Processing...  H:/20220919_chunks/bs6170_down\\bs6170_19downsampledcropped.mp4\n"
     ]
    },
    {
     "name": "stderr",
     "output_type": "stream",
     "text": [
      "100%|██████████| 2/2 [00:00<00:00, 2005.40it/s]"
     ]
    },
    {
     "name": "stdout",
     "output_type": "stream",
     "text": [
      "Very mean error\n",
      "Processing...  H:/20220919_chunks/bs6170_down\\bs6170_1downsampledcropped.mp4\n"
     ]
    },
    {
     "name": "stderr",
     "output_type": "stream",
     "text": [
      "\n",
      "c:\\Users\\labgrprattenborg\\Anaconda3\\envs\\DEEPLABCUT\\lib\\site-packages\\deeplabcut\\refine_training_dataset\\stitch.py:676: UserWarning: No optimal solution found. Employing black magic...\n",
      "  warnings.warn(\"No optimal solution found. Employing black magic...\")\n"
     ]
    },
    {
     "name": "stdout",
     "output_type": "stream",
     "text": [
      "Very mean error\n",
      "Processing...  H:/20220919_chunks/bs6170_down\\bs6170_20downsampledcropped.mp4\n",
      "Very mean error\n",
      "Processing...  H:/20220919_chunks/bs6170_down\\bs6170_21downsampledcropped.mp4\n"
     ]
    },
    {
     "name": "stderr",
     "output_type": "stream",
     "text": [
      "100%|██████████| 48/48 [00:00<00:00, 2187.64it/s]\n"
     ]
    },
    {
     "name": "stdout",
     "output_type": "stream",
     "text": [
      "Processing...  H:/20220919_chunks/bs6170_down\\bs6170_22downsampledcropped.mp4\n"
     ]
    },
    {
     "name": "stderr",
     "output_type": "stream",
     "text": [
      "100%|██████████| 12/12 [00:00<00:00, 2406.95it/s]"
     ]
    },
    {
     "name": "stdout",
     "output_type": "stream",
     "text": [
      "Very mean error\n",
      "Processing...  H:/20220919_chunks/bs6170_down\\bs6170_23downsampledcropped.mp4\n"
     ]
    },
    {
     "name": "stderr",
     "output_type": "stream",
     "text": [
      "\n",
      "c:\\Users\\labgrprattenborg\\Anaconda3\\envs\\DEEPLABCUT\\lib\\site-packages\\deeplabcut\\refine_training_dataset\\stitch.py:676: UserWarning: No optimal solution found. Employing black magic...\n",
      "  warnings.warn(\"No optimal solution found. Employing black magic...\")\n",
      "100%|██████████| 14/14 [00:00<00:00, 4679.65it/s]\n"
     ]
    },
    {
     "name": "stdout",
     "output_type": "stream",
     "text": [
      "Very mean error\n",
      "Processing...  H:/20220919_chunks/bs6170_down\\bs6170_24downsampledcropped.mp4\n"
     ]
    },
    {
     "name": "stderr",
     "output_type": "stream",
     "text": [
      "100%|██████████| 5/5 [00:00<00:00, 2506.46it/s]\n"
     ]
    },
    {
     "name": "stdout",
     "output_type": "stream",
     "text": [
      "Very mean error\n",
      "Processing...  H:/20220919_chunks/bs6170_down\\bs6170_25downsampledcropped.mp4\n"
     ]
    },
    {
     "name": "stderr",
     "output_type": "stream",
     "text": [
      "100%|██████████| 57/57 [00:00<00:00, 3361.86it/s]\n"
     ]
    },
    {
     "name": "stdout",
     "output_type": "stream",
     "text": [
      "Processing...  H:/20220919_chunks/bs6170_down\\bs6170_26downsampledcropped.mp4\n",
      "Very mean error\n",
      "Processing...  H:/20220919_chunks/bs6170_down\\bs6170_27downsampledcropped.mp4\n",
      "Very mean error\n",
      "Processing...  H:/20220919_chunks/bs6170_down\\bs6170_28downsampledcropped.mp4\n"
     ]
    },
    {
     "name": "stderr",
     "output_type": "stream",
     "text": [
      "100%|██████████| 20/20 [00:00<00:00, 2507.06it/s]\n"
     ]
    },
    {
     "name": "stdout",
     "output_type": "stream",
     "text": [
      "Processing...  H:/20220919_chunks/bs6170_down\\bs6170_29downsampledcropped.mp4\n"
     ]
    },
    {
     "name": "stderr",
     "output_type": "stream",
     "text": [
      "100%|██████████| 1/1 [00:00<?, ?it/s]"
     ]
    },
    {
     "name": "stdout",
     "output_type": "stream",
     "text": [
      "Very mean error\n",
      "Processing...  H:/20220919_chunks/bs6170_down\\bs6170_2downsampledcropped.mp4\n"
     ]
    },
    {
     "name": "stderr",
     "output_type": "stream",
     "text": [
      "\n",
      "c:\\Users\\labgrprattenborg\\Anaconda3\\envs\\DEEPLABCUT\\lib\\site-packages\\deeplabcut\\refine_training_dataset\\stitch.py:676: UserWarning: No optimal solution found. Employing black magic...\n",
      "  warnings.warn(\"No optimal solution found. Employing black magic...\")\n"
     ]
    },
    {
     "name": "stdout",
     "output_type": "stream",
     "text": [
      "Very mean error\n",
      "Processing...  H:/20220919_chunks/bs6170_down\\bs6170_30downsampledcropped.mp4\n"
     ]
    },
    {
     "name": "stderr",
     "output_type": "stream",
     "text": [
      "100%|██████████| 30/30 [00:00<00:00, 3342.34it/s]\n"
     ]
    },
    {
     "name": "stdout",
     "output_type": "stream",
     "text": [
      "Processing...  H:/20220919_chunks/bs6170_down\\bs6170_31downsampledcropped.mp4\n"
     ]
    },
    {
     "name": "stderr",
     "output_type": "stream",
     "text": [
      "100%|██████████| 6/6 [00:00<00:00, 3007.03it/s]\n",
      "c:\\Users\\labgrprattenborg\\Anaconda3\\envs\\DEEPLABCUT\\lib\\site-packages\\deeplabcut\\refine_training_dataset\\stitch.py:676: UserWarning: No optimal solution found. Employing black magic...\n",
      "  warnings.warn(\"No optimal solution found. Employing black magic...\")\n"
     ]
    },
    {
     "name": "stdout",
     "output_type": "stream",
     "text": [
      "Very mean error\n",
      "Processing...  H:/20220919_chunks/bs6170_down\\bs6170_32downsampledcropped.mp4\n"
     ]
    },
    {
     "name": "stderr",
     "output_type": "stream",
     "text": [
      "100%|██████████| 12/12 [00:00<00:00, 4010.49it/s]\n"
     ]
    },
    {
     "name": "stdout",
     "output_type": "stream",
     "text": [
      "Very mean error\n",
      "Processing...  H:/20220919_chunks/bs6170_down\\bs6170_33downsampledcropped.mp4\n"
     ]
    },
    {
     "name": "stderr",
     "output_type": "stream",
     "text": [
      "100%|██████████| 32/32 [00:00<00:00, 2468.15it/s]\n"
     ]
    },
    {
     "name": "stdout",
     "output_type": "stream",
     "text": [
      "Processing...  H:/20220919_chunks/bs6170_down\\bs6170_34downsampledcropped.mp4\n"
     ]
    },
    {
     "name": "stderr",
     "output_type": "stream",
     "text": [
      "100%|██████████| 24/24 [00:00<00:00, 4011.29it/s]\n"
     ]
    },
    {
     "name": "stdout",
     "output_type": "stream",
     "text": [
      "Processing...  H:/20220919_chunks/bs6170_down\\bs6170_35downsampledcropped.mp4\n"
     ]
    },
    {
     "name": "stderr",
     "output_type": "stream",
     "text": [
      "100%|██████████| 44/44 [00:00<00:00, 2595.30it/s]\n"
     ]
    },
    {
     "name": "stdout",
     "output_type": "stream",
     "text": [
      "Processing...  H:/20220919_chunks/bs6170_down\\bs6170_36downsampledcropped.mp4\n",
      "Very mean error\n",
      "Processing...  H:/20220919_chunks/bs6170_down\\bs6170_37downsampledcropped.mp4\n",
      "Very mean error\n",
      "Processing...  H:/20220919_chunks/bs6170_down\\bs6170_38downsampledcropped.mp4\n"
     ]
    },
    {
     "name": "stderr",
     "output_type": "stream",
     "text": [
      "100%|██████████| 11/11 [00:00<00:00, 2756.77it/s]\n",
      "c:\\Users\\labgrprattenborg\\Anaconda3\\envs\\DEEPLABCUT\\lib\\site-packages\\deeplabcut\\refine_training_dataset\\stitch.py:676: UserWarning: No optimal solution found. Employing black magic...\n",
      "  warnings.warn(\"No optimal solution found. Employing black magic...\")\n"
     ]
    },
    {
     "name": "stdout",
     "output_type": "stream",
     "text": [
      "Very mean error\n",
      "Processing...  H:/20220919_chunks/bs6170_down\\bs6170_39downsampledcropped.mp4\n"
     ]
    },
    {
     "name": "stderr",
     "output_type": "stream",
     "text": [
      "100%|██████████| 25/25 [00:00<00:00, 3133.44it/s]\n"
     ]
    },
    {
     "name": "stdout",
     "output_type": "stream",
     "text": [
      "Processing...  H:/20220919_chunks/bs6170_down\\bs6170_3downsampledcropped.mp4\n",
      "Very mean error\n",
      "Processing...  H:/20220919_chunks/bs6170_down\\bs6170_40downsampledcropped.mp4\n",
      "Very mean error\n",
      "Processing...  H:/20220919_chunks/bs6170_down\\bs6170_41downsampledcropped.mp4\n"
     ]
    },
    {
     "name": "stderr",
     "output_type": "stream",
     "text": [
      "100%|██████████| 10/10 [00:00<00:00, 3341.81it/s]\n",
      "c:\\Users\\labgrprattenborg\\Anaconda3\\envs\\DEEPLABCUT\\lib\\site-packages\\deeplabcut\\refine_training_dataset\\stitch.py:676: UserWarning: No optimal solution found. Employing black magic...\n",
      "  warnings.warn(\"No optimal solution found. Employing black magic...\")\n"
     ]
    },
    {
     "name": "stdout",
     "output_type": "stream",
     "text": [
      "Very mean error\n",
      "Processing...  H:/20220919_chunks/bs6170_down\\bs6170_42downsampledcropped.mp4\n",
      "Very mean error\n",
      "Processing...  H:/20220919_chunks/bs6170_down\\bs6170_43downsampledcropped.mp4\n"
     ]
    },
    {
     "name": "stderr",
     "output_type": "stream",
     "text": [
      "100%|██████████| 11/11 [00:00<00:00, 3673.36it/s]\n"
     ]
    },
    {
     "name": "stdout",
     "output_type": "stream",
     "text": [
      "Very mean error\n",
      "Processing...  H:/20220919_chunks/bs6170_down\\bs6170_44downsampledcropped.mp4\n",
      "Very mean error\n",
      "Processing...  H:/20220919_chunks/bs6170_down\\bs6170_45downsampledcropped.mp4\n"
     ]
    },
    {
     "name": "stderr",
     "output_type": "stream",
     "text": [
      "100%|██████████| 5/5 [00:00<00:00, 2506.46it/s]"
     ]
    },
    {
     "name": "stdout",
     "output_type": "stream",
     "text": [
      "Very mean error\n",
      "Processing...  H:/20220919_chunks/bs6170_down\\bs6170_46downsampledcropped.mp4\n"
     ]
    },
    {
     "name": "stderr",
     "output_type": "stream",
     "text": [
      "\n"
     ]
    },
    {
     "name": "stdout",
     "output_type": "stream",
     "text": [
      "Very mean error\n",
      "Processing...  H:/20220919_chunks/bs6170_down\\bs6170_47downsampledcropped.mp4\n"
     ]
    },
    {
     "name": "stderr",
     "output_type": "stream",
     "text": [
      "100%|██████████| 6/6 [00:00<00:00, 6016.21it/s]"
     ]
    },
    {
     "name": "stdout",
     "output_type": "stream",
     "text": [
      "Very mean error\n",
      "Processing...  H:/20220919_chunks/bs6170_down\\bs6170_48downsampledcropped.mp4\n"
     ]
    },
    {
     "name": "stderr",
     "output_type": "stream",
     "text": [
      "\n",
      "100%|██████████| 14/14 [00:00<00:00, 2807.84it/s]\n"
     ]
    },
    {
     "name": "stdout",
     "output_type": "stream",
     "text": [
      "Very mean error\n",
      "Processing...  H:/20220919_chunks/bs6170_down\\bs6170_49downsampledcropped.mp4\n",
      "Very mean error\n",
      "Processing...  H:/20220919_chunks/bs6170_down\\bs6170_4downsampledcropped.mp4\n",
      "Very mean error\n",
      "Processing...  H:/20220919_chunks/bs6170_down\\bs6170_50downsampledcropped.mp4\n",
      "Very mean error\n",
      "Processing...  H:/20220919_chunks/bs6170_down\\bs6170_51downsampledcropped.mp4\n"
     ]
    },
    {
     "name": "stderr",
     "output_type": "stream",
     "text": [
      "100%|██████████| 9/9 [00:00<00:00, 4511.62it/s]"
     ]
    },
    {
     "name": "stdout",
     "output_type": "stream",
     "text": [
      "Very mean error\n"
     ]
    },
    {
     "name": "stderr",
     "output_type": "stream",
     "text": [
      "\n"
     ]
    },
    {
     "name": "stdout",
     "output_type": "stream",
     "text": [
      "Processing...  H:/20220919_chunks/bs6170_down\\bs6170_52downsampledcropped.mp4\n",
      "Very mean error\n",
      "Processing...  H:/20220919_chunks/bs6170_down\\bs6170_53downsampledcropped.mp4\n"
     ]
    },
    {
     "name": "stderr",
     "output_type": "stream",
     "text": [
      "100%|██████████| 2/2 [00:00<?, ?it/s]\n"
     ]
    },
    {
     "name": "stdout",
     "output_type": "stream",
     "text": [
      "Very mean error\n",
      "Processing...  H:/20220919_chunks/bs6170_down\\bs6170_54downsampledcropped.mp4\n",
      "Very mean error\n",
      "Processing...  H:/20220919_chunks/bs6170_down\\bs6170_55downsampledcropped.mp4\n"
     ]
    },
    {
     "name": "stderr",
     "output_type": "stream",
     "text": [
      "100%|██████████| 2/2 [00:00<00:00, 2005.88it/s]\n"
     ]
    },
    {
     "name": "stdout",
     "output_type": "stream",
     "text": [
      "Very mean error\n",
      "Processing...  H:/20220919_chunks/bs6170_down\\bs6170_56downsampledcropped.mp4\n"
     ]
    },
    {
     "name": "stderr",
     "output_type": "stream",
     "text": [
      "100%|██████████| 3/3 [00:00<?, ?it/s]\n"
     ]
    },
    {
     "name": "stdout",
     "output_type": "stream",
     "text": [
      "Very mean error\n",
      "Processing...  H:/20220919_chunks/bs6170_down\\bs6170_57downsampledcropped.mp4\n",
      "Very mean error\n",
      "Processing...  H:/20220919_chunks/bs6170_down\\bs6170_58downsampledcropped.mp4\n",
      "Very mean error\n",
      "Processing...  H:/20220919_chunks/bs6170_down\\bs6170_59downsampledcropped.mp4\n",
      "Very mean error\n",
      "Processing...  H:/20220919_chunks/bs6170_down\\bs6170_5downsampledcropped.mp4\n"
     ]
    },
    {
     "name": "stderr",
     "output_type": "stream",
     "text": [
      "100%|██████████| 3/3 [00:00<00:00, 3007.39it/s]"
     ]
    },
    {
     "name": "stdout",
     "output_type": "stream",
     "text": [
      "Very mean error\n",
      "Processing...  H:/20220919_chunks/bs6170_down\\bs6170_60downsampledcropped.mp4\n"
     ]
    },
    {
     "name": "stderr",
     "output_type": "stream",
     "text": [
      "\n"
     ]
    },
    {
     "name": "stdout",
     "output_type": "stream",
     "text": [
      "Very mean error\n",
      "Processing...  H:/20220919_chunks/bs6170_down\\bs6170_61downsampledcropped.mp4\n",
      "Very mean error\n",
      "Processing...  H:/20220919_chunks/bs6170_down\\bs6170_62downsampledcropped.mp4\n",
      "Very mean error\n",
      "Processing...  H:/20220919_chunks/bs6170_down\\bs6170_63downsampledcropped.mp4\n",
      "Very mean error\n",
      "Processing...  H:/20220919_chunks/bs6170_down\\bs6170_64downsampledcropped.mp4\n",
      "Very mean error\n",
      "Processing...  H:/20220919_chunks/bs6170_down\\bs6170_65downsampledcropped.mp4\n",
      "Very mean error\n",
      "Processing...  H:/20220919_chunks/bs6170_down\\bs6170_66downsampledcropped.mp4\n",
      "Very mean error\n",
      "Processing...  H:/20220919_chunks/bs6170_down\\bs6170_67downsampledcropped.mp4\n",
      "Very mean error\n",
      "Processing...  H:/20220919_chunks/bs6170_down\\bs6170_68downsampledcropped.mp4\n",
      "Very mean error\n",
      "Processing...  H:/20220919_chunks/bs6170_down\\bs6170_69downsampledcropped.mp4\n",
      "Very mean error\n",
      "Processing...  H:/20220919_chunks/bs6170_down\\bs6170_6downsampledcropped.mp4\n"
     ]
    },
    {
     "name": "stderr",
     "output_type": "stream",
     "text": [
      "100%|██████████| 43/43 [00:00<00:00, 1796.47it/s]\n"
     ]
    },
    {
     "name": "stdout",
     "output_type": "stream",
     "text": [
      "Processing...  H:/20220919_chunks/bs6170_down\\bs6170_70downsampledcropped.mp4\n",
      "Very mean error\n",
      "Processing...  H:/20220919_chunks/bs6170_down\\bs6170_71downsampledcropped.mp4\n",
      "Very mean error\n",
      "Processing...  H:/20220919_chunks/bs6170_down\\bs6170_72downsampledcropped.mp4\n",
      "Very mean error\n",
      "Processing...  H:/20220919_chunks/bs6170_down\\bs6170_73downsampledcropped.mp4\n",
      "Very mean error\n",
      "Processing...  H:/20220919_chunks/bs6170_down\\bs6170_74downsampledcropped.mp4\n",
      "Very mean error\n",
      "Processing...  H:/20220919_chunks/bs6170_down\\bs6170_75downsampledcropped.mp4\n",
      "Very mean error\n",
      "Processing...  H:/20220919_chunks/bs6170_down\\bs6170_76downsampledcropped.mp4\n",
      "Very mean error\n",
      "Processing...  H:/20220919_chunks/bs6170_down\\bs6170_77downsampledcropped.mp4\n",
      "Very mean error\n",
      "Processing...  H:/20220919_chunks/bs6170_down\\bs6170_7downsampledcropped.mp4\n",
      "Very mean error\n",
      "Processing...  H:/20220919_chunks/bs6170_down\\bs6170_8downsampledcropped.mp4\n",
      "Very mean error\n",
      "Processing...  H:/20220919_chunks/bs6170_down\\bs6170_9downsampledcropped.mp4\n"
     ]
    },
    {
     "name": "stderr",
     "output_type": "stream",
     "text": [
      "100%|██████████| 21/21 [00:00<00:00, 2339.58it/s]\n"
     ]
    }
   ],
   "source": [
    "lst=[]\n",
    "cwd = 'H:/20220919_chunks/bs6170_down'\n",
    "for file in os.listdir(cwd):\n",
    "    if file.endswith(\"cropped.mp4\"):\n",
    "        lst.append(file)\n",
    "\n",
    "for vids in lst:\n",
    "    try:          \n",
    "        deeplabcut.stitch_tracklets(config_path, os.path.join(cwd, vids), videotype='mp4', shuffle=1, trainingsetindex=0, n_tracks = 17)\n",
    "    except (ValueError,OSError): \n",
    "        print('Very mean error')"
   ]
  },
  {
   "cell_type": "code",
   "execution_count": 57,
   "metadata": {},
   "outputs": [
    {
     "name": "stdout",
     "output_type": "stream",
     "text": [
      "Processing...  H:/20220919_chunks/bs6171_down\\bs6171_10downsampledcropped.mp4\n"
     ]
    },
    {
     "name": "stderr",
     "output_type": "stream",
     "text": [
      "100%|██████████| 1/1 [00:00<?, ?it/s]"
     ]
    },
    {
     "name": "stdout",
     "output_type": "stream",
     "text": [
      "Very mean error\n",
      "Processing...  H:/20220919_chunks/bs6171_down\\bs6171_11downsampledcropped.mp4\n"
     ]
    },
    {
     "name": "stderr",
     "output_type": "stream",
     "text": [
      "\n",
      "c:\\Users\\labgrprattenborg\\Anaconda3\\envs\\DEEPLABCUT\\lib\\site-packages\\deeplabcut\\refine_training_dataset\\stitch.py:676: UserWarning: No optimal solution found. Employing black magic...\n",
      "  warnings.warn(\"No optimal solution found. Employing black magic...\")\n",
      "100%|██████████| 4/4 [00:00<00:00, 2004.93it/s]\n"
     ]
    },
    {
     "name": "stdout",
     "output_type": "stream",
     "text": [
      "Very mean error\n",
      "Processing...  H:/20220919_chunks/bs6171_down\\bs6171_12downsampledcropped.mp4\n"
     ]
    },
    {
     "name": "stderr",
     "output_type": "stream",
     "text": [
      "100%|██████████| 34/34 [00:00<00:00, 1704.55it/s]\n"
     ]
    },
    {
     "name": "stdout",
     "output_type": "stream",
     "text": [
      "Processing...  H:/20220919_chunks/bs6171_down\\bs6171_13downsampledcropped.mp4\n"
     ]
    },
    {
     "name": "stderr",
     "output_type": "stream",
     "text": [
      "100%|██████████| 1/1 [00:00<00:00, 1002.70it/s]"
     ]
    },
    {
     "name": "stdout",
     "output_type": "stream",
     "text": [
      "Very mean error\n",
      "Processing...  H:/20220919_chunks/bs6171_down\\bs6171_14downsampledcropped.mp4\n"
     ]
    },
    {
     "name": "stderr",
     "output_type": "stream",
     "text": [
      "\n",
      "c:\\Users\\labgrprattenborg\\Anaconda3\\envs\\DEEPLABCUT\\lib\\site-packages\\deeplabcut\\refine_training_dataset\\stitch.py:676: UserWarning: No optimal solution found. Employing black magic...\n",
      "  warnings.warn(\"No optimal solution found. Employing black magic...\")\n",
      "100%|██████████| 2/2 [00:00<00:00, 2005.40it/s]\n"
     ]
    },
    {
     "name": "stdout",
     "output_type": "stream",
     "text": [
      "Very mean error\n",
      "Processing...  H:/20220919_chunks/bs6171_down\\bs6171_15downsampledcropped.mp4\n"
     ]
    },
    {
     "name": "stderr",
     "output_type": "stream",
     "text": [
      "100%|██████████| 1/1 [00:00<?, ?it/s]\n"
     ]
    },
    {
     "name": "stdout",
     "output_type": "stream",
     "text": [
      "Very mean error\n",
      "Processing...  H:/20220919_chunks/bs6171_down\\bs6171_16downsampledcropped.mp4\n"
     ]
    },
    {
     "name": "stderr",
     "output_type": "stream",
     "text": [
      "100%|██████████| 8/8 [00:00<00:00, 8023.54it/s]\n"
     ]
    },
    {
     "name": "stdout",
     "output_type": "stream",
     "text": [
      "Very mean error\n",
      "Processing...  H:/20220919_chunks/bs6171_down\\bs6171_17downsampledcropped.mp4\n"
     ]
    },
    {
     "name": "stderr",
     "output_type": "stream",
     "text": [
      "100%|██████████| 12/12 [00:00<00:00, 4011.13it/s]"
     ]
    },
    {
     "name": "stdout",
     "output_type": "stream",
     "text": [
      "Very mean error\n",
      "Processing...  H:/20220919_chunks/bs6171_down\\bs6171_18downsampledcropped.mp4\n"
     ]
    },
    {
     "name": "stderr",
     "output_type": "stream",
     "text": [
      "\n",
      "100%|██████████| 8/8 [00:00<00:00, 4010.33it/s]\n"
     ]
    },
    {
     "name": "stdout",
     "output_type": "stream",
     "text": [
      "Very mean error\n",
      "Processing...  H:/20220919_chunks/bs6171_down\\bs6171_19downsampledcropped.mp4\n",
      "Very mean error\n",
      "Processing...  H:/20220919_chunks/bs6171_down\\bs6171_1downsampledcropped.mp4\n"
     ]
    },
    {
     "name": "stderr",
     "output_type": "stream",
     "text": [
      "100%|██████████| 1/1 [00:00<?, ?it/s]\n"
     ]
    },
    {
     "name": "stdout",
     "output_type": "stream",
     "text": [
      "Very mean error\n",
      "Processing...  H:/20220919_chunks/bs6171_down\\bs6171_20downsampledcropped.mp4\n"
     ]
    },
    {
     "name": "stderr",
     "output_type": "stream",
     "text": [
      "100%|██████████| 11/11 [00:00<00:00, 3676.28it/s]\n"
     ]
    },
    {
     "name": "stdout",
     "output_type": "stream",
     "text": [
      "Very mean error\n",
      "Processing...  H:/20220919_chunks/bs6171_down\\bs6171_21downsampledcropped.mp4\n"
     ]
    },
    {
     "name": "stderr",
     "output_type": "stream",
     "text": [
      "100%|██████████| 138/138 [00:00<00:00, 804.47it/s]\n"
     ]
    },
    {
     "name": "stdout",
     "output_type": "stream",
     "text": [
      "Processing...  H:/20220919_chunks/bs6171_down\\bs6171_22downsampledcropped.mp4\n"
     ]
    },
    {
     "name": "stderr",
     "output_type": "stream",
     "text": [
      "100%|██████████| 49/49 [00:00<00:00, 2339.56it/s]\n"
     ]
    },
    {
     "name": "stdout",
     "output_type": "stream",
     "text": [
      "Processing...  H:/20220919_chunks/bs6171_down\\bs6171_23downsampledcropped.mp4\n"
     ]
    },
    {
     "name": "stderr",
     "output_type": "stream",
     "text": [
      "100%|██████████| 4/4 [00:00<00:00, 4008.89it/s]"
     ]
    },
    {
     "name": "stdout",
     "output_type": "stream",
     "text": [
      "Very mean error\n"
     ]
    },
    {
     "name": "stderr",
     "output_type": "stream",
     "text": [
      "\n",
      "c:\\Users\\labgrprattenborg\\Anaconda3\\envs\\DEEPLABCUT\\lib\\site-packages\\deeplabcut\\refine_training_dataset\\stitch.py:676: UserWarning: No optimal solution found. Employing black magic...\n",
      "  warnings.warn(\"No optimal solution found. Employing black magic...\")\n"
     ]
    },
    {
     "name": "stdout",
     "output_type": "stream",
     "text": [
      "Processing...  H:/20220919_chunks/bs6171_down\\bs6171_24downsampledcropped.mp4\n"
     ]
    },
    {
     "name": "stderr",
     "output_type": "stream",
     "text": [
      "100%|██████████| 6/6 [00:00<00:00, 3007.39it/s]"
     ]
    },
    {
     "name": "stdout",
     "output_type": "stream",
     "text": [
      "Very mean error\n",
      "Processing...  H:/20220919_chunks/bs6171_down\\bs6171_25downsampledcropped.mp4\n"
     ]
    },
    {
     "name": "stderr",
     "output_type": "stream",
     "text": [
      "\n",
      "100%|██████████| 13/13 [00:00<00:00, 3258.39it/s]\n"
     ]
    },
    {
     "name": "stdout",
     "output_type": "stream",
     "text": [
      "Very mean error\n",
      "Processing...  H:/20220919_chunks/bs6171_down\\bs6171_26downsampledcropped.mp4\n"
     ]
    },
    {
     "name": "stderr",
     "output_type": "stream",
     "text": [
      "100%|██████████| 19/19 [00:00<00:00, 3810.09it/s]\n"
     ]
    },
    {
     "name": "stdout",
     "output_type": "stream",
     "text": [
      "Processing...  H:/20220919_chunks/bs6171_down\\bs6171_27downsampledcropped.mp4\n",
      "Very mean error\n",
      "Processing...  H:/20220919_chunks/bs6171_down\\bs6171_28downsampledcropped.mp4\n"
     ]
    },
    {
     "name": "stderr",
     "output_type": "stream",
     "text": [
      "100%|██████████| 13/13 [00:00<00:00, 3258.78it/s]\n",
      "c:\\Users\\labgrprattenborg\\Anaconda3\\envs\\DEEPLABCUT\\lib\\site-packages\\deeplabcut\\refine_training_dataset\\stitch.py:676: UserWarning: No optimal solution found. Employing black magic...\n",
      "  warnings.warn(\"No optimal solution found. Employing black magic...\")\n"
     ]
    },
    {
     "name": "stdout",
     "output_type": "stream",
     "text": [
      "Very mean error\n",
      "Processing...  H:/20220919_chunks/bs6171_down\\bs6171_29downsampledcropped.mp4\n"
     ]
    },
    {
     "name": "stderr",
     "output_type": "stream",
     "text": [
      "100%|██████████| 2/2 [00:00<?, ?it/s]\n"
     ]
    },
    {
     "name": "stdout",
     "output_type": "stream",
     "text": [
      "Very mean error\n",
      "Processing...  H:/20220919_chunks/bs6171_down\\bs6171_2downsampledcropped.mp4\n"
     ]
    },
    {
     "name": "stderr",
     "output_type": "stream",
     "text": [
      "100%|██████████| 4/4 [00:00<00:00, 4009.85it/s]\n"
     ]
    },
    {
     "name": "stdout",
     "output_type": "stream",
     "text": [
      "Very mean error\n",
      "Processing...  H:/20220919_chunks/bs6171_down\\bs6171_30downsampledcropped.mp4\n"
     ]
    },
    {
     "name": "stderr",
     "output_type": "stream",
     "text": [
      "100%|██████████| 10/10 [00:00<00:00, 3342.07it/s]"
     ]
    },
    {
     "name": "stdout",
     "output_type": "stream",
     "text": [
      "Very mean error\n",
      "Processing...  H:/20220919_chunks/bs6171_down\\bs6171_31downsampledcropped.mp4\n"
     ]
    },
    {
     "name": "stderr",
     "output_type": "stream",
     "text": [
      "\n",
      "100%|██████████| 11/11 [00:00<00:00, 3676.28it/s]\n"
     ]
    },
    {
     "name": "stdout",
     "output_type": "stream",
     "text": [
      "Very mean error\n",
      "Processing...  H:/20220919_chunks/bs6171_down\\bs6171_32downsampledcropped.mp4\n",
      "Very mean error\n",
      "Processing...  H:/20220919_chunks/bs6171_down\\bs6171_33downsampledcropped.mp4\n",
      "Very mean error\n",
      "Processing...  H:/20220919_chunks/bs6171_down\\bs6171_34downsampledcropped.mp4\n",
      "Very mean error\n",
      "Processing...  H:/20220919_chunks/bs6171_down\\bs6171_35downsampledcropped.mp4\n",
      "Very mean error\n",
      "Processing...  H:/20220919_chunks/bs6171_down\\bs6171_36downsampledcropped.mp4\n"
     ]
    },
    {
     "name": "stderr",
     "output_type": "stream",
     "text": [
      "100%|██████████| 14/14 [00:00<00:00, 3509.46it/s]\n"
     ]
    },
    {
     "name": "stdout",
     "output_type": "stream",
     "text": [
      "Very mean error\n",
      "Processing...  H:/20220919_chunks/bs6171_down\\bs6171_37downsampledcropped.mp4\n"
     ]
    },
    {
     "name": "stderr",
     "output_type": "stream",
     "text": [
      "100%|██████████| 11/11 [00:00<00:00, 5514.86it/s]"
     ]
    },
    {
     "name": "stdout",
     "output_type": "stream",
     "text": [
      "Very mean error\n"
     ]
    },
    {
     "name": "stderr",
     "output_type": "stream",
     "text": [
      "\n"
     ]
    },
    {
     "name": "stdout",
     "output_type": "stream",
     "text": [
      "Processing...  H:/20220919_chunks/bs6171_down\\bs6171_38downsampledcropped.mp4\n",
      "Very mean error\n",
      "Processing...  H:/20220919_chunks/bs6171_down\\bs6171_39downsampledcropped.mp4\n",
      "Very mean error\n",
      "Processing...  H:/20220919_chunks/bs6171_down\\bs6171_3downsampledcropped.mp4\n"
     ]
    },
    {
     "name": "stderr",
     "output_type": "stream",
     "text": [
      "100%|██████████| 1/1 [00:00<?, ?it/s]"
     ]
    },
    {
     "name": "stdout",
     "output_type": "stream",
     "text": [
      "Very mean error\n",
      "Processing...  H:/20220919_chunks/bs6171_down\\bs6171_40downsampledcropped.mp4\n"
     ]
    },
    {
     "name": "stderr",
     "output_type": "stream",
     "text": [
      "\n",
      "100%|██████████| 30/30 [00:00<00:00, 2005.37it/s]\n"
     ]
    },
    {
     "name": "stdout",
     "output_type": "stream",
     "text": [
      "Processing...  H:/20220919_chunks/bs6171_down\\bs6171_41downsampledcropped.mp4\n",
      "Very mean error\n",
      "Processing...  H:/20220919_chunks/bs6171_down\\bs6171_42downsampledcropped.mp4\n",
      "Very mean error\n",
      "Processing...  H:/20220919_chunks/bs6171_down\\bs6171_43downsampledcropped.mp4\n",
      "Very mean error\n",
      "Processing...  H:/20220919_chunks/bs6171_down\\bs6171_44downsampledcropped.mp4\n",
      "Very mean error\n",
      "Processing...  H:/20220919_chunks/bs6171_down\\bs6171_45downsampledcropped.mp4\n",
      "Very mean error\n",
      "Processing...  H:/20220919_chunks/bs6171_down\\bs6171_4downsampledcropped.mp4\n"
     ]
    },
    {
     "name": "stderr",
     "output_type": "stream",
     "text": [
      "100%|██████████| 7/7 [00:00<00:00, 3510.30it/s]\n",
      "c:\\Users\\labgrprattenborg\\Anaconda3\\envs\\DEEPLABCUT\\lib\\site-packages\\deeplabcut\\refine_training_dataset\\stitch.py:676: UserWarning: No optimal solution found. Employing black magic...\n",
      "  warnings.warn(\"No optimal solution found. Employing black magic...\")\n"
     ]
    },
    {
     "name": "stdout",
     "output_type": "stream",
     "text": [
      "Very mean error\n",
      "Processing...  H:/20220919_chunks/bs6171_down\\bs6171_5downsampledcropped.mp4\n"
     ]
    },
    {
     "name": "stderr",
     "output_type": "stream",
     "text": [
      "100%|██████████| 8/8 [00:00<00:00, 2674.30it/s]\n"
     ]
    },
    {
     "name": "stdout",
     "output_type": "stream",
     "text": [
      "Very mean error\n",
      "Processing...  H:/20220919_chunks/bs6171_down\\bs6171_6downsampledcropped.mp4\n"
     ]
    },
    {
     "name": "stderr",
     "output_type": "stream",
     "text": [
      "100%|██████████| 1/1 [00:00<?, ?it/s]\n"
     ]
    },
    {
     "name": "stdout",
     "output_type": "stream",
     "text": [
      "Very mean error\n",
      "Processing...  H:/20220919_chunks/bs6171_down\\bs6171_7downsampledcropped.mp4\n",
      "Very mean error\n",
      "Processing...  H:/20220919_chunks/bs6171_down\\bs6171_8downsampledcropped.mp4\n",
      "Very mean error\n",
      "Processing...  H:/20220919_chunks/bs6171_down\\bs6171_9downsampledcropped.mp4\n"
     ]
    },
    {
     "name": "stderr",
     "output_type": "stream",
     "text": [
      "100%|██████████| 1/1 [00:00<?, ?it/s]"
     ]
    },
    {
     "name": "stdout",
     "output_type": "stream",
     "text": [
      "Very mean error\n"
     ]
    },
    {
     "name": "stderr",
     "output_type": "stream",
     "text": [
      "\n"
     ]
    }
   ],
   "source": [
    "lst=[]\n",
    "cwd = 'H:/20220919_chunks/bs6171_down'\n",
    "for file in os.listdir(cwd):\n",
    "    if file.endswith(\"cropped.mp4\"):\n",
    "        lst.append(file)\n",
    "\n",
    "for vids in lst:\n",
    "    try:          \n",
    "        deeplabcut.stitch_tracklets(config_path, os.path.join(cwd, vids), videotype='mp4', shuffle=1, trainingsetindex=0, n_tracks = 17)\n",
    "    except (ValueError,OSError): \n",
    "        print('Very mean error')"
   ]
  },
  {
   "cell_type": "code",
   "execution_count": 58,
   "metadata": {},
   "outputs": [
    {
     "name": "stdout",
     "output_type": "stream",
     "text": [
      "Processing...  H:/20220919_chunks/bs6172_down\\bs6172_10downsampledcropped.mp4\n",
      "Very mean error\n",
      "Processing...  H:/20220919_chunks/bs6172_down\\bs6172_11downsampledcropped.mp4\n",
      "Very mean error\n",
      "Processing...  H:/20220919_chunks/bs6172_down\\bs6172_12downsampledcropped.mp4\n"
     ]
    },
    {
     "name": "stderr",
     "output_type": "stream",
     "text": [
      "100%|██████████| 27/27 [00:00<00:00, 2082.42it/s]\n"
     ]
    },
    {
     "name": "stdout",
     "output_type": "stream",
     "text": [
      "Processing...  H:/20220919_chunks/bs6172_down\\bs6172_13downsampledcropped.mp4\n"
     ]
    },
    {
     "name": "stderr",
     "output_type": "stream",
     "text": [
      "100%|██████████| 49/49 [00:00<00:00, 2339.53it/s]\n"
     ]
    },
    {
     "name": "stdout",
     "output_type": "stream",
     "text": [
      "Processing...  H:/20220919_chunks/bs6172_down\\bs6172_14downsampledcropped.mp4\n"
     ]
    },
    {
     "name": "stderr",
     "output_type": "stream",
     "text": [
      "100%|██████████| 14/14 [00:00<00:00, 2807.97it/s]\n",
      "c:\\Users\\labgrprattenborg\\Anaconda3\\envs\\DEEPLABCUT\\lib\\site-packages\\deeplabcut\\refine_training_dataset\\stitch.py:676: UserWarning: No optimal solution found. Employing black magic...\n",
      "  warnings.warn(\"No optimal solution found. Employing black magic...\")\n"
     ]
    },
    {
     "name": "stdout",
     "output_type": "stream",
     "text": [
      "Very mean error\n",
      "Processing...  H:/20220919_chunks/bs6172_down\\bs6172_15downsampledcropped.mp4\n"
     ]
    },
    {
     "name": "stderr",
     "output_type": "stream",
     "text": [
      "100%|██████████| 22/22 [00:00<00:00, 2757.35it/s]\n"
     ]
    },
    {
     "name": "stdout",
     "output_type": "stream",
     "text": [
      "Processing...  H:/20220919_chunks/bs6172_down\\bs6172_16downsampledcropped.mp4\n"
     ]
    },
    {
     "name": "stderr",
     "output_type": "stream",
     "text": [
      "100%|██████████| 63/63 [00:00<00:00, 2256.00it/s]\n"
     ]
    },
    {
     "name": "stdout",
     "output_type": "stream",
     "text": [
      "Processing...  H:/20220919_chunks/bs6172_down\\bs6172_17downsampledcropped.mp4\n",
      "Very mean error\n",
      "Processing...  H:/20220919_chunks/bs6172_down\\bs6172_18downsampledcropped.mp4\n",
      "Very mean error\n",
      "Processing...  H:/20220919_chunks/bs6172_down\\bs6172_19downsampledcropped.mp4\n"
     ]
    },
    {
     "name": "stderr",
     "output_type": "stream",
     "text": [
      "100%|██████████| 25/25 [00:00<00:00, 3132.70it/s]\n"
     ]
    },
    {
     "name": "stdout",
     "output_type": "stream",
     "text": [
      "Processing...  H:/20220919_chunks/bs6172_down\\bs6172_1downsampledcropped.mp4\n"
     ]
    },
    {
     "name": "stderr",
     "output_type": "stream",
     "text": [
      "100%|██████████| 1/1 [00:00<?, ?it/s]\n",
      "c:\\Users\\labgrprattenborg\\Anaconda3\\envs\\DEEPLABCUT\\lib\\site-packages\\deeplabcut\\refine_training_dataset\\stitch.py:676: UserWarning: No optimal solution found. Employing black magic...\n",
      "  warnings.warn(\"No optimal solution found. Employing black magic...\")\n"
     ]
    },
    {
     "name": "stdout",
     "output_type": "stream",
     "text": [
      "Very mean error\n",
      "Processing...  H:/20220919_chunks/bs6172_down\\bs6172_20downsampledcropped.mp4\n"
     ]
    },
    {
     "name": "stderr",
     "output_type": "stream",
     "text": [
      "100%|██████████| 2/2 [00:00<00:00, 2001.10it/s]\n"
     ]
    },
    {
     "name": "stdout",
     "output_type": "stream",
     "text": [
      "Very mean error\n",
      "Processing...  H:/20220919_chunks/bs6172_down\\bs6172_21downsampledcropped.mp4\n"
     ]
    },
    {
     "name": "stderr",
     "output_type": "stream",
     "text": [
      "100%|██████████| 2/2 [00:00<00:00, 2004.45it/s]\n"
     ]
    },
    {
     "name": "stdout",
     "output_type": "stream",
     "text": [
      "Very mean error\n",
      "Processing...  H:/20220919_chunks/bs6172_down\\bs6172_22downsampledcropped.mp4\n"
     ]
    },
    {
     "name": "stderr",
     "output_type": "stream",
     "text": [
      "100%|██████████| 2/2 [00:00<00:00, 2005.88it/s]\n"
     ]
    },
    {
     "name": "stdout",
     "output_type": "stream",
     "text": [
      "Very mean error\n",
      "Processing...  H:/20220919_chunks/bs6172_down\\bs6172_23downsampledcropped.mp4\n",
      "Very mean error\n",
      "Processing...  H:/20220919_chunks/bs6172_down\\bs6172_24downsampledcropped.mp4\n",
      "Very mean error\n",
      "Processing...  H:/20220919_chunks/bs6172_down\\bs6172_25downsampledcropped.mp4\n"
     ]
    },
    {
     "name": "stderr",
     "output_type": "stream",
     "text": [
      "100%|██████████| 22/22 [00:00<00:00, 2757.51it/s]\n"
     ]
    },
    {
     "name": "stdout",
     "output_type": "stream",
     "text": [
      "Processing...  H:/20220919_chunks/bs6172_down\\bs6172_26downsampledcropped.mp4\n",
      "Very mean error\n",
      "Processing...  H:/20220919_chunks/bs6172_down\\bs6172_27downsampledcropped.mp4\n"
     ]
    },
    {
     "name": "stderr",
     "output_type": "stream",
     "text": [
      "100%|██████████| 64/64 [00:00<00:00, 1887.35it/s]\n"
     ]
    },
    {
     "name": "stdout",
     "output_type": "stream",
     "text": [
      "Processing...  H:/20220919_chunks/bs6172_down\\bs6172_28downsampledcropped.mp4\n",
      "Very mean error\n",
      "Processing...  H:/20220919_chunks/bs6172_down\\bs6172_29downsampledcropped.mp4\n",
      "Very mean error\n",
      "Processing...  H:/20220919_chunks/bs6172_down\\bs6172_2downsampledcropped.mp4\n"
     ]
    },
    {
     "name": "stderr",
     "output_type": "stream",
     "text": [
      "100%|██████████| 4/4 [00:00<00:00, 4009.85it/s]"
     ]
    },
    {
     "name": "stdout",
     "output_type": "stream",
     "text": [
      "Very mean error\n"
     ]
    },
    {
     "name": "stderr",
     "output_type": "stream",
     "text": [
      "\n",
      "c:\\Users\\labgrprattenborg\\Anaconda3\\envs\\DEEPLABCUT\\lib\\site-packages\\deeplabcut\\refine_training_dataset\\stitch.py:676: UserWarning: No optimal solution found. Employing black magic...\n",
      "  warnings.warn(\"No optimal solution found. Employing black magic...\")\n"
     ]
    },
    {
     "name": "stdout",
     "output_type": "stream",
     "text": [
      "Processing...  H:/20220919_chunks/bs6172_down\\bs6172_30downsampledcropped.mp4\n",
      "Very mean error\n",
      "Processing...  H:/20220919_chunks/bs6172_down\\bs6172_31downsampledcropped.mp4\n",
      "Very mean error\n",
      "Processing...  H:/20220919_chunks/bs6172_down\\bs6172_32downsampledcropped.mp4\n",
      "Very mean error\n",
      "Processing...  H:/20220919_chunks/bs6172_down\\bs6172_33downsampledcropped.mp4\n",
      "Very mean error\n",
      "Processing...  H:/20220919_chunks/bs6172_down\\bs6172_34downsampledcropped.mp4\n",
      "Very mean error\n",
      "Processing...  H:/20220919_chunks/bs6172_down\\bs6172_3downsampledcropped.mp4\n"
     ]
    },
    {
     "name": "stderr",
     "output_type": "stream",
     "text": [
      "100%|██████████| 38/38 [00:00<00:00, 1905.11it/s]\n"
     ]
    },
    {
     "name": "stdout",
     "output_type": "stream",
     "text": [
      "Processing...  H:/20220919_chunks/bs6172_down\\bs6172_4downsampledcropped.mp4\n",
      "Very mean error\n",
      "Processing...  H:/20220919_chunks/bs6172_down\\bs6172_5downsampledcropped.mp4\n"
     ]
    },
    {
     "name": "stderr",
     "output_type": "stream",
     "text": [
      "100%|██████████| 1/1 [00:00<?, ?it/s]\n",
      "c:\\Users\\labgrprattenborg\\Anaconda3\\envs\\DEEPLABCUT\\lib\\site-packages\\deeplabcut\\refine_training_dataset\\stitch.py:676: UserWarning: No optimal solution found. Employing black magic...\n",
      "  warnings.warn(\"No optimal solution found. Employing black magic...\")\n"
     ]
    },
    {
     "name": "stdout",
     "output_type": "stream",
     "text": [
      "Very mean error\n",
      "Processing...  H:/20220919_chunks/bs6172_down\\bs6172_6downsampledcropped.mp4\n"
     ]
    },
    {
     "name": "stderr",
     "output_type": "stream",
     "text": [
      "100%|██████████| 79/79 [00:00<00:00, 2140.86it/s]\n"
     ]
    },
    {
     "name": "stdout",
     "output_type": "stream",
     "text": [
      "Processing...  H:/20220919_chunks/bs6172_down\\bs6172_7downsampledcropped.mp4\n"
     ]
    },
    {
     "name": "stderr",
     "output_type": "stream",
     "text": [
      "100%|██████████| 2/2 [00:00<00:00, 2003.49it/s]"
     ]
    },
    {
     "name": "stdout",
     "output_type": "stream",
     "text": [
      "Very mean error\n"
     ]
    },
    {
     "name": "stderr",
     "output_type": "stream",
     "text": [
      "\n",
      "c:\\Users\\labgrprattenborg\\Anaconda3\\envs\\DEEPLABCUT\\lib\\site-packages\\deeplabcut\\refine_training_dataset\\stitch.py:676: UserWarning: No optimal solution found. Employing black magic...\n",
      "  warnings.warn(\"No optimal solution found. Employing black magic...\")\n"
     ]
    },
    {
     "name": "stdout",
     "output_type": "stream",
     "text": [
      "Processing...  H:/20220919_chunks/bs6172_down\\bs6172_8downsampledcropped.mp4\n"
     ]
    },
    {
     "name": "stderr",
     "output_type": "stream",
     "text": [
      "100%|██████████| 2/2 [00:00<00:00, 1996.34it/s]\n"
     ]
    },
    {
     "name": "stdout",
     "output_type": "stream",
     "text": [
      "Very mean error\n",
      "Processing...  H:/20220919_chunks/bs6172_down\\bs6172_9downsampledcropped.mp4\n"
     ]
    },
    {
     "name": "stderr",
     "output_type": "stream",
     "text": [
      "100%|██████████| 35/35 [00:00<00:00, 2923.79it/s]\n"
     ]
    }
   ],
   "source": [
    "lst=[]\n",
    "cwd = 'H:/20220919_chunks/bs6172_down'\n",
    "for file in os.listdir(cwd):\n",
    "    if file.endswith(\"cropped.mp4\"):\n",
    "        lst.append(file)\n",
    "\n",
    "for vids in lst:\n",
    "    try:          \n",
    "        deeplabcut.stitch_tracklets(config_path, os.path.join(cwd, vids), videotype='mp4', shuffle=1, trainingsetindex=0, n_tracks = 17)\n",
    "    except (ValueError,OSError): \n",
    "        print('Very mean error')"
   ]
  },
  {
   "cell_type": "code",
   "execution_count": 59,
   "metadata": {},
   "outputs": [
    {
     "name": "stdout",
     "output_type": "stream",
     "text": [
      "Processing...  H:/20220919_chunks/bs6173_down\\bs6173_10downsampledcropped.mp4\n",
      "Very mean error\n",
      "Processing...  H:/20220919_chunks/bs6173_down\\bs6173_11downsampledcropped.mp4\n"
     ]
    },
    {
     "name": "stderr",
     "output_type": "stream",
     "text": [
      "100%|██████████| 37/37 [00:00<00:00, 3091.60it/s]\n"
     ]
    },
    {
     "name": "stdout",
     "output_type": "stream",
     "text": [
      "Processing...  H:/20220919_chunks/bs6173_down\\bs6173_12downsampledcropped.mp4\n"
     ]
    },
    {
     "name": "stderr",
     "output_type": "stream",
     "text": [
      "100%|██████████| 2/2 [00:00<00:00, 1999.19it/s]"
     ]
    },
    {
     "name": "stdout",
     "output_type": "stream",
     "text": [
      "Very mean error\n"
     ]
    },
    {
     "name": "stderr",
     "output_type": "stream",
     "text": [
      "\n",
      "c:\\Users\\labgrprattenborg\\Anaconda3\\envs\\DEEPLABCUT\\lib\\site-packages\\deeplabcut\\refine_training_dataset\\stitch.py:676: UserWarning: No optimal solution found. Employing black magic...\n",
      "  warnings.warn(\"No optimal solution found. Employing black magic...\")\n"
     ]
    },
    {
     "name": "stdout",
     "output_type": "stream",
     "text": [
      "Processing...  H:/20220919_chunks/bs6173_down\\bs6173_13downsampledcropped.mp4\n"
     ]
    },
    {
     "name": "stderr",
     "output_type": "stream",
     "text": [
      "100%|██████████| 3/3 [00:00<00:00, 3007.39it/s]"
     ]
    },
    {
     "name": "stdout",
     "output_type": "stream",
     "text": [
      "Very mean error\n",
      "Processing...  H:/20220919_chunks/bs6173_down\\bs6173_14downsampledcropped.mp4\n"
     ]
    },
    {
     "name": "stderr",
     "output_type": "stream",
     "text": [
      "\n",
      "100%|██████████| 49/49 [00:00<00:00, 2889.90it/s]\n"
     ]
    },
    {
     "name": "stdout",
     "output_type": "stream",
     "text": [
      "Processing...  H:/20220919_chunks/bs6173_down\\bs6173_15downsampledcropped.mp4\n"
     ]
    },
    {
     "name": "stderr",
     "output_type": "stream",
     "text": [
      "100%|██████████| 7/7 [00:00<00:00, 3509.46it/s]\n",
      "c:\\Users\\labgrprattenborg\\Anaconda3\\envs\\DEEPLABCUT\\lib\\site-packages\\deeplabcut\\refine_training_dataset\\stitch.py:676: UserWarning: No optimal solution found. Employing black magic...\n",
      "  warnings.warn(\"No optimal solution found. Employing black magic...\")\n"
     ]
    },
    {
     "name": "stdout",
     "output_type": "stream",
     "text": [
      "Very mean error\n",
      "Processing...  H:/20220919_chunks/bs6173_down\\bs6173_16downsampledcropped.mp4\n"
     ]
    },
    {
     "name": "stderr",
     "output_type": "stream",
     "text": [
      "100%|██████████| 26/26 [00:00<00:00, 2606.22it/s]\n"
     ]
    },
    {
     "name": "stdout",
     "output_type": "stream",
     "text": [
      "Processing...  H:/20220919_chunks/bs6173_down\\bs6173_17downsampledcropped.mp4\n"
     ]
    },
    {
     "name": "stderr",
     "output_type": "stream",
     "text": [
      "100%|██████████| 3/3 [00:00<00:00, 3007.39it/s]\n",
      "c:\\Users\\labgrprattenborg\\Anaconda3\\envs\\DEEPLABCUT\\lib\\site-packages\\deeplabcut\\refine_training_dataset\\stitch.py:676: UserWarning: No optimal solution found. Employing black magic...\n",
      "  warnings.warn(\"No optimal solution found. Employing black magic...\")\n"
     ]
    },
    {
     "name": "stdout",
     "output_type": "stream",
     "text": [
      "Very mean error\n",
      "Processing...  H:/20220919_chunks/bs6173_down\\bs6173_18downsampledcropped.mp4\n"
     ]
    },
    {
     "name": "stderr",
     "output_type": "stream",
     "text": [
      "100%|██████████| 13/13 [00:00<00:00, 3260.93it/s]\n"
     ]
    },
    {
     "name": "stdout",
     "output_type": "stream",
     "text": [
      "Very mean error\n",
      "Processing...  H:/20220919_chunks/bs6173_down\\bs6173_19downsampledcropped.mp4\n"
     ]
    },
    {
     "name": "stderr",
     "output_type": "stream",
     "text": [
      "100%|██████████| 27/27 [00:00<00:00, 2256.08it/s]\n"
     ]
    },
    {
     "name": "stdout",
     "output_type": "stream",
     "text": [
      "Processing...  H:/20220919_chunks/bs6173_down\\bs6173_1downsampledcropped.mp4\n",
      "Very mean error\n",
      "Processing...  H:/20220919_chunks/bs6173_down\\bs6173_20downsampledcropped.mp4\n"
     ]
    },
    {
     "name": "stderr",
     "output_type": "stream",
     "text": [
      "100%|██████████| 15/15 [00:00<00:00, 2505.56it/s]\n",
      "c:\\Users\\labgrprattenborg\\Anaconda3\\envs\\DEEPLABCUT\\lib\\site-packages\\deeplabcut\\refine_training_dataset\\stitch.py:676: UserWarning: No optimal solution found. Employing black magic...\n",
      "  warnings.warn(\"No optimal solution found. Employing black magic...\")\n"
     ]
    },
    {
     "name": "stdout",
     "output_type": "stream",
     "text": [
      "Very mean error\n",
      "Processing...  H:/20220919_chunks/bs6173_down\\bs6173_21downsampledcropped.mp4\n"
     ]
    },
    {
     "name": "stderr",
     "output_type": "stream",
     "text": [
      "100%|██████████| 4/4 [00:00<00:00, 4008.89it/s]"
     ]
    },
    {
     "name": "stdout",
     "output_type": "stream",
     "text": [
      "Very mean error\n"
     ]
    },
    {
     "name": "stderr",
     "output_type": "stream",
     "text": [
      "\n"
     ]
    },
    {
     "name": "stdout",
     "output_type": "stream",
     "text": [
      "Processing...  H:/20220919_chunks/bs6173_down\\bs6173_22downsampledcropped.mp4\n"
     ]
    },
    {
     "name": "stderr",
     "output_type": "stream",
     "text": [
      "100%|██████████| 6/6 [00:00<00:00, 3008.11it/s]\n"
     ]
    },
    {
     "name": "stdout",
     "output_type": "stream",
     "text": [
      "Very mean error\n",
      "Processing...  H:/20220919_chunks/bs6173_down\\bs6173_23downsampledcropped.mp4\n"
     ]
    },
    {
     "name": "stderr",
     "output_type": "stream",
     "text": [
      "100%|██████████| 9/9 [00:00<00:00, 4512.16it/s]"
     ]
    },
    {
     "name": "stdout",
     "output_type": "stream",
     "text": [
      "Very mean error\n",
      "Processing...  H:/20220919_chunks/bs6173_down\\bs6173_24downsampledcropped.mp4\n"
     ]
    },
    {
     "name": "stderr",
     "output_type": "stream",
     "text": [
      "\n",
      "100%|██████████| 14/14 [00:00<00:00, 3508.83it/s]\n"
     ]
    },
    {
     "name": "stdout",
     "output_type": "stream",
     "text": [
      "Very mean error\n",
      "Processing...  H:/20220919_chunks/bs6173_down\\bs6173_25downsampledcropped.mp4\n",
      "Very mean error\n",
      "Processing...  H:/20220919_chunks/bs6173_down\\bs6173_26downsampledcropped.mp4\n",
      "Very mean error\n",
      "Processing...  H:/20220919_chunks/bs6173_down\\bs6173_27downsampledcropped.mp4\n"
     ]
    },
    {
     "name": "stderr",
     "output_type": "stream",
     "text": [
      "100%|██████████| 12/12 [00:00<00:00, 4010.81it/s]"
     ]
    },
    {
     "name": "stdout",
     "output_type": "stream",
     "text": [
      "Very mean error\n"
     ]
    },
    {
     "name": "stderr",
     "output_type": "stream",
     "text": [
      "\n"
     ]
    },
    {
     "name": "stdout",
     "output_type": "stream",
     "text": [
      "Processing...  H:/20220919_chunks/bs6173_down\\bs6173_28downsampledcropped.mp4\n"
     ]
    },
    {
     "name": "stderr",
     "output_type": "stream",
     "text": [
      "100%|██████████| 14/14 [00:00<00:00, 2807.16it/s]"
     ]
    },
    {
     "name": "stdout",
     "output_type": "stream",
     "text": [
      "Very mean error\n"
     ]
    },
    {
     "name": "stderr",
     "output_type": "stream",
     "text": [
      "\n"
     ]
    },
    {
     "name": "stdout",
     "output_type": "stream",
     "text": [
      "Processing...  H:/20220919_chunks/bs6173_down\\bs6173_29downsampledcropped.mp4\n"
     ]
    },
    {
     "name": "stderr",
     "output_type": "stream",
     "text": [
      "100%|██████████| 4/4 [00:00<00:00, 4010.81it/s]\n"
     ]
    },
    {
     "name": "stdout",
     "output_type": "stream",
     "text": [
      "Very mean error\n",
      "Processing...  H:/20220919_chunks/bs6173_down\\bs6173_2downsampledcropped.mp4\n",
      "Very mean error\n",
      "Processing...  H:/20220919_chunks/bs6173_down\\bs6173_30downsampledcropped.mp4\n"
     ]
    },
    {
     "name": "stderr",
     "output_type": "stream",
     "text": [
      "100%|██████████| 13/13 [00:00<00:00, 4341.24it/s]"
     ]
    },
    {
     "name": "stdout",
     "output_type": "stream",
     "text": [
      "Very mean error\n",
      "Processing...  H:/20220919_chunks/bs6173_down\\bs6173_31downsampledcropped.mp4\n"
     ]
    },
    {
     "name": "stderr",
     "output_type": "stream",
     "text": [
      "\n",
      "100%|██████████| 2/2 [00:00<00:00, 2005.40it/s]\n"
     ]
    },
    {
     "name": "stdout",
     "output_type": "stream",
     "text": [
      "Very mean error\n",
      "Processing...  H:/20220919_chunks/bs6173_down\\bs6173_32downsampledcropped.mp4\n"
     ]
    },
    {
     "name": "stderr",
     "output_type": "stream",
     "text": [
      "100%|██████████| 21/21 [00:00<00:00, 3509.60it/s]\n"
     ]
    },
    {
     "name": "stdout",
     "output_type": "stream",
     "text": [
      "Processing...  H:/20220919_chunks/bs6173_down\\bs6173_33downsampledcropped.mp4\n"
     ]
    },
    {
     "name": "stderr",
     "output_type": "stream",
     "text": [
      "100%|██████████| 7/7 [00:00<00:00, 3504.01it/s]"
     ]
    },
    {
     "name": "stdout",
     "output_type": "stream",
     "text": [
      "Very mean error\n"
     ]
    },
    {
     "name": "stderr",
     "output_type": "stream",
     "text": [
      "\n",
      "c:\\Users\\labgrprattenborg\\Anaconda3\\envs\\DEEPLABCUT\\lib\\site-packages\\deeplabcut\\refine_training_dataset\\stitch.py:676: UserWarning: No optimal solution found. Employing black magic...\n",
      "  warnings.warn(\"No optimal solution found. Employing black magic...\")\n"
     ]
    },
    {
     "name": "stdout",
     "output_type": "stream",
     "text": [
      "Processing...  H:/20220919_chunks/bs6173_down\\bs6173_34downsampledcropped.mp4\n"
     ]
    },
    {
     "name": "stderr",
     "output_type": "stream",
     "text": [
      "100%|██████████| 5/5 [00:00<00:00, 2506.16it/s]"
     ]
    },
    {
     "name": "stdout",
     "output_type": "stream",
     "text": [
      "Very mean error\n",
      "Processing...  H:/20220919_chunks/bs6173_down\\bs6173_35downsampledcropped.mp4\n"
     ]
    },
    {
     "name": "stderr",
     "output_type": "stream",
     "text": [
      "\n"
     ]
    },
    {
     "name": "stdout",
     "output_type": "stream",
     "text": [
      "Very mean error\n",
      "Processing...  H:/20220919_chunks/bs6173_down\\bs6173_36downsampledcropped.mp4\n",
      "Very mean error\n",
      "Processing...  H:/20220919_chunks/bs6173_down\\bs6173_37downsampledcropped.mp4\n",
      "Very mean error\n",
      "Processing...  H:/20220919_chunks/bs6173_down\\bs6173_38downsampledcropped.mp4\n",
      "Very mean error\n",
      "Processing...  H:/20220919_chunks/bs6173_down\\bs6173_39downsampledcropped.mp4\n",
      "Very mean error\n",
      "Processing...  H:/20220919_chunks/bs6173_down\\bs6173_3downsampledcropped.mp4\n"
     ]
    },
    {
     "name": "stderr",
     "output_type": "stream",
     "text": [
      "100%|██████████| 1/1 [00:00<?, ?it/s]\n"
     ]
    },
    {
     "name": "stdout",
     "output_type": "stream",
     "text": [
      "Very mean error\n",
      "Processing...  H:/20220919_chunks/bs6173_down\\bs6173_40downsampledcropped.mp4\n",
      "Very mean error\n",
      "Processing...  H:/20220919_chunks/bs6173_down\\bs6173_41downsampledcropped.mp4\n",
      "Very mean error\n",
      "Processing...  H:/20220919_chunks/bs6173_down\\bs6173_42downsampledcropped.mp4\n",
      "Very mean error\n",
      "Processing...  H:/20220919_chunks/bs6173_down\\bs6173_43downsampledcropped.mp4\n"
     ]
    },
    {
     "name": "stderr",
     "output_type": "stream",
     "text": [
      "100%|██████████| 15/15 [00:00<00:00, 3007.82it/s]\n"
     ]
    },
    {
     "name": "stdout",
     "output_type": "stream",
     "text": [
      "Very mean error\n",
      "Processing...  H:/20220919_chunks/bs6173_down\\bs6173_44downsampledcropped.mp4\n"
     ]
    },
    {
     "name": "stderr",
     "output_type": "stream",
     "text": [
      "100%|██████████| 12/12 [00:00<00:00, 4009.53it/s]\n"
     ]
    },
    {
     "name": "stdout",
     "output_type": "stream",
     "text": [
      "Very mean error\n",
      "Processing...  H:/20220919_chunks/bs6173_down\\bs6173_45downsampledcropped.mp4\n",
      "Very mean error\n",
      "Processing...  H:/20220919_chunks/bs6173_down\\bs6173_46downsampledcropped.mp4\n"
     ]
    },
    {
     "name": "stderr",
     "output_type": "stream",
     "text": [
      "100%|██████████| 6/6 [00:00<00:00, 6016.21it/s]"
     ]
    },
    {
     "name": "stdout",
     "output_type": "stream",
     "text": [
      "Very mean error\n",
      "Processing...  H:/20220919_chunks/bs6173_down\\bs6173_47downsampledcropped.mp4\n"
     ]
    },
    {
     "name": "stderr",
     "output_type": "stream",
     "text": [
      "\n",
      "100%|██████████| 67/67 [00:00<00:00, 4477.81it/s]\n"
     ]
    },
    {
     "name": "stdout",
     "output_type": "stream",
     "text": [
      "Processing...  H:/20220919_chunks/bs6173_down\\bs6173_48downsampledcropped.mp4\n"
     ]
    },
    {
     "name": "stderr",
     "output_type": "stream",
     "text": [
      "100%|██████████| 17/17 [00:00<00:00, 3409.19it/s]\n"
     ]
    },
    {
     "name": "stdout",
     "output_type": "stream",
     "text": [
      "Processing...  H:/20220919_chunks/bs6173_down\\bs6173_49downsampledcropped.mp4\n",
      "Very mean error\n",
      "Processing...  H:/20220919_chunks/bs6173_down\\bs6173_4downsampledcropped.mp4\n",
      "Very mean error\n",
      "Processing...  H:/20220919_chunks/bs6173_down\\bs6173_50downsampledcropped.mp4\n"
     ]
    },
    {
     "name": "stderr",
     "output_type": "stream",
     "text": [
      "100%|██████████| 12/12 [00:00<00:00, 4012.73it/s]"
     ]
    },
    {
     "name": "stdout",
     "output_type": "stream",
     "text": [
      "Very mean error\n"
     ]
    },
    {
     "name": "stderr",
     "output_type": "stream",
     "text": [
      "\n",
      "c:\\Users\\labgrprattenborg\\Anaconda3\\envs\\DEEPLABCUT\\lib\\site-packages\\deeplabcut\\refine_training_dataset\\stitch.py:676: UserWarning: No optimal solution found. Employing black magic...\n",
      "  warnings.warn(\"No optimal solution found. Employing black magic...\")\n"
     ]
    },
    {
     "name": "stdout",
     "output_type": "stream",
     "text": [
      "Processing...  H:/20220919_chunks/bs6173_down\\bs6173_51downsampledcropped.mp4\n",
      "Very mean error\n",
      "Processing...  H:/20220919_chunks/bs6173_down\\bs6173_52downsampledcropped.mp4\n"
     ]
    },
    {
     "name": "stderr",
     "output_type": "stream",
     "text": [
      "100%|██████████| 9/9 [00:00<00:00, 3007.87it/s]\n"
     ]
    },
    {
     "name": "stdout",
     "output_type": "stream",
     "text": [
      "Very mean error\n",
      "Processing...  H:/20220919_chunks/bs6173_down\\bs6173_53downsampledcropped.mp4\n",
      "Very mean error\n",
      "Processing...  H:/20220919_chunks/bs6173_down\\bs6173_54downsampledcropped.mp4\n",
      "Very mean error\n",
      "Processing...  H:/20220919_chunks/bs6173_down\\bs6173_55downsampledcropped.mp4\n",
      "Very mean error\n",
      "Processing...  H:/20220919_chunks/bs6173_down\\bs6173_56downsampledcropped.mp4\n",
      "Very mean error\n",
      "Processing...  H:/20220919_chunks/bs6173_down\\bs6173_57downsampledcropped.mp4\n",
      "Very mean error\n",
      "Processing...  H:/20220919_chunks/bs6173_down\\bs6173_58downsampledcropped.mp4\n",
      "Very mean error\n",
      "Processing...  H:/20220919_chunks/bs6173_down\\bs6173_59downsampledcropped.mp4\n",
      "Very mean error\n",
      "Processing...  H:/20220919_chunks/bs6173_down\\bs6173_5downsampledcropped.mp4\n"
     ]
    },
    {
     "name": "stderr",
     "output_type": "stream",
     "text": [
      "100%|██████████| 1/1 [00:00<?, ?it/s]"
     ]
    },
    {
     "name": "stdout",
     "output_type": "stream",
     "text": [
      "Very mean error\n"
     ]
    },
    {
     "name": "stderr",
     "output_type": "stream",
     "text": [
      "\n"
     ]
    },
    {
     "name": "stdout",
     "output_type": "stream",
     "text": [
      "Processing...  H:/20220919_chunks/bs6173_down\\bs6173_60downsampledcropped.mp4\n",
      "Very mean error\n",
      "Processing...  H:/20220919_chunks/bs6173_down\\bs6173_61downsampledcropped.mp4\n",
      "Very mean error\n",
      "Processing...  H:/20220919_chunks/bs6173_down\\bs6173_62downsampledcropped.mp4\n",
      "Very mean error\n",
      "Processing...  H:/20220919_chunks/bs6173_down\\bs6173_63downsampledcropped.mp4\n",
      "Very mean error\n",
      "Processing...  H:/20220919_chunks/bs6173_down\\bs6173_6downsampledcropped.mp4\n"
     ]
    },
    {
     "name": "stderr",
     "output_type": "stream",
     "text": [
      "100%|██████████| 64/64 [00:00<00:00, 2376.67it/s]\n"
     ]
    },
    {
     "name": "stdout",
     "output_type": "stream",
     "text": [
      "Processing...  H:/20220919_chunks/bs6173_down\\bs6173_7downsampledcropped.mp4\n"
     ]
    },
    {
     "name": "stderr",
     "output_type": "stream",
     "text": [
      "100%|██████████| 24/24 [00:00<00:00, 2406.37it/s]\n"
     ]
    },
    {
     "name": "stdout",
     "output_type": "stream",
     "text": [
      "Processing...  H:/20220919_chunks/bs6173_down\\bs6173_8downsampledcropped.mp4\n"
     ]
    },
    {
     "name": "stderr",
     "output_type": "stream",
     "text": [
      "100%|██████████| 4/4 [00:00<00:00, 2004.93it/s]\n",
      "c:\\Users\\labgrprattenborg\\Anaconda3\\envs\\DEEPLABCUT\\lib\\site-packages\\deeplabcut\\refine_training_dataset\\stitch.py:676: UserWarning: No optimal solution found. Employing black magic...\n",
      "  warnings.warn(\"No optimal solution found. Employing black magic...\")\n"
     ]
    },
    {
     "name": "stdout",
     "output_type": "stream",
     "text": [
      "Very mean error\n",
      "Processing...  H:/20220919_chunks/bs6173_down\\bs6173_9downsampledcropped.mp4\n"
     ]
    },
    {
     "name": "stderr",
     "output_type": "stream",
     "text": [
      "100%|██████████| 41/41 [00:00<00:00, 2418.25it/s]\n"
     ]
    }
   ],
   "source": [
    "lst=[]\n",
    "cwd = 'H:/20220919_chunks/bs6173_down'\n",
    "for file in os.listdir(cwd):\n",
    "    if file.endswith(\"cropped.mp4\"):\n",
    "        lst.append(file)\n",
    "\n",
    "for vids in lst:\n",
    "    try:          \n",
    "        deeplabcut.stitch_tracklets(config_path, os.path.join(cwd, vids), videotype='mp4', shuffle=1, trainingsetindex=0, n_tracks = 17)\n",
    "    except (ValueError,OSError): \n",
    "        print('Very mean error')"
   ]
  },
  {
   "cell_type": "code",
   "execution_count": 60,
   "metadata": {},
   "outputs": [
    {
     "name": "stdout",
     "output_type": "stream",
     "text": [
      "Processing...  H:/20220919_chunks/bs6174_down\\bs6174_10downsampledcropped.mp4\n"
     ]
    },
    {
     "name": "stderr",
     "output_type": "stream",
     "text": [
      "100%|██████████| 38/38 [00:00<00:00, 2381.31it/s]\n"
     ]
    },
    {
     "name": "stdout",
     "output_type": "stream",
     "text": [
      "Processing...  H:/20220919_chunks/bs6174_down\\bs6174_11downsampledcropped.mp4\n"
     ]
    },
    {
     "name": "stderr",
     "output_type": "stream",
     "text": [
      "100%|██████████| 7/7 [00:00<00:00, 3509.46it/s]"
     ]
    },
    {
     "name": "stdout",
     "output_type": "stream",
     "text": [
      "Very mean error\n"
     ]
    },
    {
     "name": "stderr",
     "output_type": "stream",
     "text": [
      "\n",
      "c:\\Users\\labgrprattenborg\\Anaconda3\\envs\\DEEPLABCUT\\lib\\site-packages\\deeplabcut\\refine_training_dataset\\stitch.py:676: UserWarning: No optimal solution found. Employing black magic...\n",
      "  warnings.warn(\"No optimal solution found. Employing black magic...\")\n"
     ]
    },
    {
     "name": "stdout",
     "output_type": "stream",
     "text": [
      "Processing...  H:/20220919_chunks/bs6174_down\\bs6174_12downsampledcropped.mp4\n"
     ]
    },
    {
     "name": "stderr",
     "output_type": "stream",
     "text": [
      "100%|██████████| 23/23 [00:00<00:00, 2882.77it/s]\n"
     ]
    },
    {
     "name": "stdout",
     "output_type": "stream",
     "text": [
      "Processing...  H:/20220919_chunks/bs6174_down\\bs6174_13downsampledcropped.mp4\n"
     ]
    },
    {
     "name": "stderr",
     "output_type": "stream",
     "text": [
      "100%|██████████| 3/3 [00:00<00:00, 3008.11it/s]"
     ]
    },
    {
     "name": "stdout",
     "output_type": "stream",
     "text": [
      "Very mean error\n",
      "Processing...  H:/20220919_chunks/bs6174_down\\bs6174_14downsampledcropped.mp4\n"
     ]
    },
    {
     "name": "stderr",
     "output_type": "stream",
     "text": [
      "\n",
      "c:\\Users\\labgrprattenborg\\Anaconda3\\envs\\DEEPLABCUT\\lib\\site-packages\\deeplabcut\\refine_training_dataset\\stitch.py:676: UserWarning: No optimal solution found. Employing black magic...\n",
      "  warnings.warn(\"No optimal solution found. Employing black magic...\")\n",
      "100%|██████████| 26/26 [00:00<00:00, 2896.54it/s]\n"
     ]
    },
    {
     "name": "stdout",
     "output_type": "stream",
     "text": [
      "Processing...  H:/20220919_chunks/bs6174_down\\bs6174_15downsampledcropped.mp4\n"
     ]
    },
    {
     "name": "stderr",
     "output_type": "stream",
     "text": [
      "100%|██████████| 26/26 [00:00<00:00, 2607.03it/s]\n"
     ]
    },
    {
     "name": "stdout",
     "output_type": "stream",
     "text": [
      "Processing...  H:/20220919_chunks/bs6174_down\\bs6174_16downsampledcropped.mp4\n"
     ]
    },
    {
     "name": "stderr",
     "output_type": "stream",
     "text": [
      "100%|██████████| 16/16 [00:00<00:00, 2673.66it/s]\n",
      "c:\\Users\\labgrprattenborg\\Anaconda3\\envs\\DEEPLABCUT\\lib\\site-packages\\deeplabcut\\refine_training_dataset\\stitch.py:676: UserWarning: No optimal solution found. Employing black magic...\n",
      "  warnings.warn(\"No optimal solution found. Employing black magic...\")\n"
     ]
    },
    {
     "name": "stdout",
     "output_type": "stream",
     "text": [
      "Very mean error\n",
      "Processing...  H:/20220919_chunks/bs6174_down\\bs6174_17downsampledcropped.mp4\n"
     ]
    },
    {
     "name": "stderr",
     "output_type": "stream",
     "text": [
      "100%|██████████| 5/5 [00:00<00:00, 2505.86it/s]\n",
      "c:\\Users\\labgrprattenborg\\Anaconda3\\envs\\DEEPLABCUT\\lib\\site-packages\\deeplabcut\\refine_training_dataset\\stitch.py:676: UserWarning: No optimal solution found. Employing black magic...\n",
      "  warnings.warn(\"No optimal solution found. Employing black magic...\")\n"
     ]
    },
    {
     "name": "stdout",
     "output_type": "stream",
     "text": [
      "Very mean error\n",
      "Processing...  H:/20220919_chunks/bs6174_down\\bs6174_18downsampledcropped.mp4\n"
     ]
    },
    {
     "name": "stderr",
     "output_type": "stream",
     "text": [
      "100%|██████████| 3/3 [00:00<?, ?it/s]\n"
     ]
    },
    {
     "name": "stdout",
     "output_type": "stream",
     "text": [
      "Very mean error\n",
      "Processing...  H:/20220919_chunks/bs6174_down\\bs6174_19downsampledcropped.mp4\n"
     ]
    },
    {
     "name": "stderr",
     "output_type": "stream",
     "text": [
      "100%|██████████| 11/11 [00:00<00:00, 3676.58it/s]\n"
     ]
    },
    {
     "name": "stdout",
     "output_type": "stream",
     "text": [
      "Very mean error\n",
      "Processing...  H:/20220919_chunks/bs6174_down\\bs6174_1downsampledcropped.mp4\n"
     ]
    },
    {
     "name": "stderr",
     "output_type": "stream",
     "text": [
      "100%|██████████| 4/4 [00:00<00:00, 4009.85it/s]"
     ]
    },
    {
     "name": "stdout",
     "output_type": "stream",
     "text": [
      "Very mean error\n",
      "Processing...  H:/20220919_chunks/bs6174_down\\bs6174_20downsampledcropped.mp4\n"
     ]
    },
    {
     "name": "stderr",
     "output_type": "stream",
     "text": [
      "\n",
      "100%|██████████| 5/5 [00:00<00:00, 2506.76it/s]\n"
     ]
    },
    {
     "name": "stdout",
     "output_type": "stream",
     "text": [
      "Very mean error\n",
      "Processing...  H:/20220919_chunks/bs6174_down\\bs6174_21downsampledcropped.mp4\n"
     ]
    },
    {
     "name": "stderr",
     "output_type": "stream",
     "text": [
      "100%|██████████| 77/77 [00:00<00:00, 1206.34it/s]\n"
     ]
    },
    {
     "name": "stdout",
     "output_type": "stream",
     "text": [
      "Processing...  H:/20220919_chunks/bs6174_down\\bs6174_22downsampledcropped.mp4\n",
      "Very mean error\n",
      "Processing...  H:/20220919_chunks/bs6174_down\\bs6174_23downsampledcropped.mp4\n"
     ]
    },
    {
     "name": "stderr",
     "output_type": "stream",
     "text": [
      "100%|██████████| 15/15 [00:00<00:00, 3008.11it/s]"
     ]
    },
    {
     "name": "stdout",
     "output_type": "stream",
     "text": [
      "Very mean error\n"
     ]
    },
    {
     "name": "stderr",
     "output_type": "stream",
     "text": [
      "\n",
      "c:\\Users\\labgrprattenborg\\Anaconda3\\envs\\DEEPLABCUT\\lib\\site-packages\\deeplabcut\\refine_training_dataset\\stitch.py:676: UserWarning: No optimal solution found. Employing black magic...\n",
      "  warnings.warn(\"No optimal solution found. Employing black magic...\")\n"
     ]
    },
    {
     "name": "stdout",
     "output_type": "stream",
     "text": [
      "Processing...  H:/20220919_chunks/bs6174_down\\bs6174_24downsampledcropped.mp4\n"
     ]
    },
    {
     "name": "stderr",
     "output_type": "stream",
     "text": [
      "100%|██████████| 22/22 [00:00<00:00, 2757.60it/s]\n"
     ]
    },
    {
     "name": "stdout",
     "output_type": "stream",
     "text": [
      "Processing...  H:/20220919_chunks/bs6174_down\\bs6174_25downsampledcropped.mp4\n"
     ]
    },
    {
     "name": "stderr",
     "output_type": "stream",
     "text": [
      "100%|██████████| 5/5 [00:00<00:00, 5013.51it/s]"
     ]
    },
    {
     "name": "stdout",
     "output_type": "stream",
     "text": [
      "Very mean error\n"
     ]
    },
    {
     "name": "stderr",
     "output_type": "stream",
     "text": [
      "\n",
      "c:\\Users\\labgrprattenborg\\Anaconda3\\envs\\DEEPLABCUT\\lib\\site-packages\\deeplabcut\\refine_training_dataset\\stitch.py:676: UserWarning: No optimal solution found. Employing black magic...\n",
      "  warnings.warn(\"No optimal solution found. Employing black magic...\")\n"
     ]
    },
    {
     "name": "stdout",
     "output_type": "stream",
     "text": [
      "Processing...  H:/20220919_chunks/bs6174_down\\bs6174_26downsampledcropped.mp4\n"
     ]
    },
    {
     "name": "stderr",
     "output_type": "stream",
     "text": [
      "100%|██████████| 3/3 [00:00<?, ?it/s]"
     ]
    },
    {
     "name": "stdout",
     "output_type": "stream",
     "text": [
      "Very mean error\n",
      "Processing...  H:/20220919_chunks/bs6174_down\\bs6174_27downsampledcropped.mp4\n"
     ]
    },
    {
     "name": "stderr",
     "output_type": "stream",
     "text": [
      "\n",
      "100%|██████████| 11/11 [00:00<00:00, 5515.52it/s]\n"
     ]
    },
    {
     "name": "stdout",
     "output_type": "stream",
     "text": [
      "Very mean error\n",
      "Processing...  H:/20220919_chunks/bs6174_down\\bs6174_28downsampledcropped.mp4\n",
      "Very mean error\n",
      "Processing...  H:/20220919_chunks/bs6174_down\\bs6174_29downsampledcropped.mp4\n"
     ]
    },
    {
     "name": "stderr",
     "output_type": "stream",
     "text": [
      "100%|██████████| 6/6 [00:00<00:00, 6016.21it/s]\n"
     ]
    },
    {
     "name": "stdout",
     "output_type": "stream",
     "text": [
      "Very mean error\n",
      "Processing...  H:/20220919_chunks/bs6174_down\\bs6174_2downsampledcropped.mp4\n"
     ]
    },
    {
     "name": "stderr",
     "output_type": "stream",
     "text": [
      "100%|██████████| 102/102 [00:00<00:00, 1311.19it/s]\n"
     ]
    },
    {
     "name": "stdout",
     "output_type": "stream",
     "text": [
      "Processing...  H:/20220919_chunks/bs6174_down\\bs6174_30downsampledcropped.mp4\n"
     ]
    },
    {
     "name": "stderr",
     "output_type": "stream",
     "text": [
      "100%|██████████| 99/99 [00:00<00:00, 1627.28it/s]\n"
     ]
    },
    {
     "name": "stdout",
     "output_type": "stream",
     "text": [
      "Processing...  H:/20220919_chunks/bs6174_down\\bs6174_31downsampledcropped.mp4\n",
      "Very mean error\n",
      "Processing...  H:/20220919_chunks/bs6174_down\\bs6174_32downsampledcropped.mp4\n"
     ]
    },
    {
     "name": "stderr",
     "output_type": "stream",
     "text": [
      "100%|██████████| 5/5 [00:00<00:00, 2506.76it/s]"
     ]
    },
    {
     "name": "stdout",
     "output_type": "stream",
     "text": [
      "Very mean error\n",
      "Processing...  H:/20220919_chunks/bs6174_down\\bs6174_33downsampledcropped.mp4\n"
     ]
    },
    {
     "name": "stderr",
     "output_type": "stream",
     "text": [
      "\n",
      "c:\\Users\\labgrprattenborg\\Anaconda3\\envs\\DEEPLABCUT\\lib\\site-packages\\deeplabcut\\refine_training_dataset\\stitch.py:676: UserWarning: No optimal solution found. Employing black magic...\n",
      "  warnings.warn(\"No optimal solution found. Employing black magic...\")\n",
      "100%|██████████| 3/3 [00:00<00:00, 3008.11it/s]\n"
     ]
    },
    {
     "name": "stdout",
     "output_type": "stream",
     "text": [
      "Very mean error\n",
      "Processing...  H:/20220919_chunks/bs6174_down\\bs6174_34downsampledcropped.mp4\n",
      "Very mean error\n",
      "Processing...  H:/20220919_chunks/bs6174_down\\bs6174_35downsampledcropped.mp4\n",
      "Very mean error\n",
      "Processing...  H:/20220919_chunks/bs6174_down\\bs6174_36downsampledcropped.mp4\n"
     ]
    },
    {
     "name": "stderr",
     "output_type": "stream",
     "text": [
      "100%|██████████| 28/28 [00:00<00:00, 2807.37it/s]\n"
     ]
    },
    {
     "name": "stdout",
     "output_type": "stream",
     "text": [
      "Processing...  H:/20220919_chunks/bs6174_down\\bs6174_37downsampledcropped.mp4\n"
     ]
    },
    {
     "name": "stderr",
     "output_type": "stream",
     "text": [
      "100%|██████████| 11/11 [00:00<00:00, 3673.06it/s]\n",
      "c:\\Users\\labgrprattenborg\\Anaconda3\\envs\\DEEPLABCUT\\lib\\site-packages\\deeplabcut\\refine_training_dataset\\stitch.py:676: UserWarning: No optimal solution found. Employing black magic...\n",
      "  warnings.warn(\"No optimal solution found. Employing black magic...\")\n"
     ]
    },
    {
     "name": "stdout",
     "output_type": "stream",
     "text": [
      "Very mean error\n",
      "Processing...  H:/20220919_chunks/bs6174_down\\bs6174_38downsampledcropped.mp4\n",
      "Very mean error\n",
      "Processing...  H:/20220919_chunks/bs6174_down\\bs6174_39downsampledcropped.mp4\n"
     ]
    },
    {
     "name": "stderr",
     "output_type": "stream",
     "text": [
      "100%|██████████| 15/15 [00:00<00:00, 2506.56it/s]"
     ]
    },
    {
     "name": "stdout",
     "output_type": "stream",
     "text": [
      "Very mean error\n"
     ]
    },
    {
     "name": "stderr",
     "output_type": "stream",
     "text": [
      "\n"
     ]
    },
    {
     "name": "stdout",
     "output_type": "stream",
     "text": [
      "Processing...  H:/20220919_chunks/bs6174_down\\bs6174_3downsampledcropped.mp4\n",
      "Very mean error\n",
      "Processing...  H:/20220919_chunks/bs6174_down\\bs6174_40downsampledcropped.mp4\n"
     ]
    },
    {
     "name": "stderr",
     "output_type": "stream",
     "text": [
      "100%|██████████| 13/13 [00:00<00:00, 4331.24it/s]\n"
     ]
    },
    {
     "name": "stdout",
     "output_type": "stream",
     "text": [
      "Very mean error\n",
      "Processing...  H:/20220919_chunks/bs6174_down\\bs6174_41downsampledcropped.mp4\n"
     ]
    },
    {
     "name": "stderr",
     "output_type": "stream",
     "text": [
      "100%|██████████| 13/13 [00:00<00:00, 3258.59it/s]\n"
     ]
    },
    {
     "name": "stdout",
     "output_type": "stream",
     "text": [
      "Very mean error\n",
      "Processing...  H:/20220919_chunks/bs6174_down\\bs6174_42downsampledcropped.mp4\n"
     ]
    },
    {
     "name": "stderr",
     "output_type": "stream",
     "text": [
      "100%|██████████| 22/22 [00:00<00:00, 4411.26it/s]\n"
     ]
    },
    {
     "name": "stdout",
     "output_type": "stream",
     "text": [
      "Processing...  H:/20220919_chunks/bs6174_down\\bs6174_43downsampledcropped.mp4\n"
     ]
    },
    {
     "name": "stderr",
     "output_type": "stream",
     "text": [
      "100%|██████████| 12/12 [00:00<00:00, 3008.11it/s]\n",
      "c:\\Users\\labgrprattenborg\\Anaconda3\\envs\\DEEPLABCUT\\lib\\site-packages\\deeplabcut\\refine_training_dataset\\stitch.py:676: UserWarning: No optimal solution found. Employing black magic...\n",
      "  warnings.warn(\"No optimal solution found. Employing black magic...\")\n"
     ]
    },
    {
     "name": "stdout",
     "output_type": "stream",
     "text": [
      "Very mean error\n",
      "Processing...  H:/20220919_chunks/bs6174_down\\bs6174_44downsampledcropped.mp4\n",
      "Very mean error\n",
      "Processing...  H:/20220919_chunks/bs6174_down\\bs6174_45downsampledcropped.mp4\n",
      "Very mean error\n",
      "Processing...  H:/20220919_chunks/bs6174_down\\bs6174_46downsampledcropped.mp4\n"
     ]
    },
    {
     "name": "stderr",
     "output_type": "stream",
     "text": [
      "100%|██████████| 9/9 [00:00<00:00, 4511.08it/s]\n"
     ]
    },
    {
     "name": "stdout",
     "output_type": "stream",
     "text": [
      "Very mean error\n",
      "Processing...  H:/20220919_chunks/bs6174_down\\bs6174_47downsampledcropped.mp4\n",
      "Very mean error\n",
      "Processing...  H:/20220919_chunks/bs6174_down\\bs6174_48downsampledcropped.mp4\n",
      "Very mean error\n",
      "Processing...  H:/20220919_chunks/bs6174_down\\bs6174_49downsampledcropped.mp4\n",
      "Very mean error\n",
      "Processing...  H:/20220919_chunks/bs6174_down\\bs6174_4downsampledcropped.mp4\n"
     ]
    },
    {
     "name": "stderr",
     "output_type": "stream",
     "text": [
      "100%|██████████| 24/24 [00:00<00:00, 3437.72it/s]\n"
     ]
    },
    {
     "name": "stdout",
     "output_type": "stream",
     "text": [
      "Processing...  H:/20220919_chunks/bs6174_down\\bs6174_50downsampledcropped.mp4\n",
      "Very mean error\n",
      "Processing...  H:/20220919_chunks/bs6174_down\\bs6174_51downsampledcropped.mp4\n",
      "Very mean error\n",
      "Processing...  H:/20220919_chunks/bs6174_down\\bs6174_52downsampledcropped.mp4\n",
      "Very mean error\n",
      "Processing...  H:/20220919_chunks/bs6174_down\\bs6174_53downsampledcropped.mp4\n",
      "Very mean error\n",
      "Processing...  H:/20220919_chunks/bs6174_down\\bs6174_54downsampledcropped.mp4\n",
      "Very mean error\n",
      "Processing...  H:/20220919_chunks/bs6174_down\\bs6174_55downsampledcropped.mp4\n",
      "Very mean error\n",
      "Processing...  H:/20220919_chunks/bs6174_down\\bs6174_56downsampledcropped.mp4\n",
      "Very mean error\n",
      "Processing...  H:/20220919_chunks/bs6174_down\\bs6174_5downsampledcropped.mp4\n"
     ]
    },
    {
     "name": "stderr",
     "output_type": "stream",
     "text": [
      "100%|██████████| 7/7 [00:00<00:00, 2339.45it/s]\n",
      "c:\\Users\\labgrprattenborg\\Anaconda3\\envs\\DEEPLABCUT\\lib\\site-packages\\deeplabcut\\refine_training_dataset\\stitch.py:676: UserWarning: No optimal solution found. Employing black magic...\n",
      "  warnings.warn(\"No optimal solution found. Employing black magic...\")\n"
     ]
    },
    {
     "name": "stdout",
     "output_type": "stream",
     "text": [
      "Very mean error\n",
      "Processing...  H:/20220919_chunks/bs6174_down\\bs6174_6downsampledcropped.mp4\n"
     ]
    },
    {
     "name": "stderr",
     "output_type": "stream",
     "text": [
      "100%|██████████| 14/14 [00:00<00:00, 3509.25it/s]"
     ]
    },
    {
     "name": "stdout",
     "output_type": "stream",
     "text": [
      "Very mean error\n"
     ]
    },
    {
     "name": "stderr",
     "output_type": "stream",
     "text": [
      "\n"
     ]
    },
    {
     "name": "stdout",
     "output_type": "stream",
     "text": [
      "Processing...  H:/20220919_chunks/bs6174_down\\bs6174_7downsampledcropped.mp4\n"
     ]
    },
    {
     "name": "stderr",
     "output_type": "stream",
     "text": [
      "100%|██████████| 26/26 [00:00<00:00, 2896.70it/s]\n"
     ]
    },
    {
     "name": "stdout",
     "output_type": "stream",
     "text": [
      "Processing...  H:/20220919_chunks/bs6174_down\\bs6174_8downsampledcropped.mp4\n"
     ]
    },
    {
     "name": "stderr",
     "output_type": "stream",
     "text": [
      "100%|██████████| 2/2 [00:00<?, ?it/s]"
     ]
    },
    {
     "name": "stdout",
     "output_type": "stream",
     "text": [
      "Very mean error\n"
     ]
    },
    {
     "name": "stderr",
     "output_type": "stream",
     "text": [
      "\n",
      "c:\\Users\\labgrprattenborg\\Anaconda3\\envs\\DEEPLABCUT\\lib\\site-packages\\deeplabcut\\refine_training_dataset\\stitch.py:676: UserWarning: No optimal solution found. Employing black magic...\n",
      "  warnings.warn(\"No optimal solution found. Employing black magic...\")\n"
     ]
    },
    {
     "name": "stdout",
     "output_type": "stream",
     "text": [
      "Processing...  H:/20220919_chunks/bs6174_down\\bs6174_9downsampledcropped.mp4\n"
     ]
    },
    {
     "name": "stderr",
     "output_type": "stream",
     "text": [
      "100%|██████████| 2/2 [00:00<00:00, 2004.45it/s]"
     ]
    },
    {
     "name": "stdout",
     "output_type": "stream",
     "text": [
      "Very mean error\n"
     ]
    },
    {
     "name": "stderr",
     "output_type": "stream",
     "text": [
      "\n"
     ]
    }
   ],
   "source": [
    "lst=[]\n",
    "cwd = 'H:/20220919_chunks/bs6174_down'\n",
    "for file in os.listdir(cwd):\n",
    "    if file.endswith(\"cropped.mp4\"):\n",
    "        lst.append(file)\n",
    "\n",
    "for vids in lst:\n",
    "    try:          \n",
    "        deeplabcut.stitch_tracklets(config_path, os.path.join(cwd, vids), videotype='mp4', shuffle=1, trainingsetindex=0, n_tracks = 17)\n",
    "    except (ValueError,OSError): \n",
    "        print('Very mean error')"
   ]
  },
  {
   "cell_type": "code",
   "execution_count": 61,
   "metadata": {},
   "outputs": [
    {
     "name": "stdout",
     "output_type": "stream",
     "text": [
      "Processing...  H:/20220919_chunks/bs6175_down\\bs6175_10downsampledcropped.mp4\n"
     ]
    },
    {
     "name": "stderr",
     "output_type": "stream",
     "text": [
      "100%|██████████| 11/11 [00:00<00:00, 5514.86it/s]"
     ]
    },
    {
     "name": "stdout",
     "output_type": "stream",
     "text": [
      "Very mean error\n",
      "Processing...  H:/20220919_chunks/bs6175_down\\bs6175_11downsampledcropped.mp4\n"
     ]
    },
    {
     "name": "stderr",
     "output_type": "stream",
     "text": [
      "\n",
      "100%|██████████| 8/8 [00:00<00:00, 4009.85it/s]\n"
     ]
    },
    {
     "name": "stdout",
     "output_type": "stream",
     "text": [
      "Very mean error\n",
      "Processing...  H:/20220919_chunks/bs6175_down\\bs6175_12downsampledcropped.mp4\n",
      "Very mean error\n",
      "Processing...  H:/20220919_chunks/bs6175_down\\bs6175_13downsampledcropped.mp4\n",
      "Very mean error\n",
      "Processing...  H:/20220919_chunks/bs6175_down\\bs6175_14downsampledcropped.mp4\n"
     ]
    },
    {
     "name": "stderr",
     "output_type": "stream",
     "text": [
      "100%|██████████| 29/29 [00:00<00:00, 3230.76it/s]\n"
     ]
    },
    {
     "name": "stdout",
     "output_type": "stream",
     "text": [
      "Processing...  H:/20220919_chunks/bs6175_down\\bs6175_15downsampledcropped.mp4\n"
     ]
    },
    {
     "name": "stderr",
     "output_type": "stream",
     "text": [
      "100%|██████████| 75/75 [00:00<00:00, 1748.79it/s]\n"
     ]
    },
    {
     "name": "stdout",
     "output_type": "stream",
     "text": [
      "Processing...  H:/20220919_chunks/bs6175_down\\bs6175_16downsampledcropped.mp4\n"
     ]
    },
    {
     "name": "stderr",
     "output_type": "stream",
     "text": [
      "100%|██████████| 13/13 [00:00<00:00, 3258.78it/s]"
     ]
    },
    {
     "name": "stdout",
     "output_type": "stream",
     "text": [
      "Very mean error\n",
      "Processing...  H:/20220919_chunks/bs6175_down\\bs6175_17downsampledcropped.mp4\n"
     ]
    },
    {
     "name": "stderr",
     "output_type": "stream",
     "text": [
      "\n",
      "c:\\Users\\labgrprattenborg\\Anaconda3\\envs\\DEEPLABCUT\\lib\\site-packages\\deeplabcut\\refine_training_dataset\\stitch.py:676: UserWarning: No optimal solution found. Employing black magic...\n",
      "  warnings.warn(\"No optimal solution found. Employing black magic...\")\n",
      "100%|██████████| 8/8 [00:00<00:00, 4010.33it/s]\n"
     ]
    },
    {
     "name": "stdout",
     "output_type": "stream",
     "text": [
      "Very mean error\n",
      "Processing...  H:/20220919_chunks/bs6175_down\\bs6175_18downsampledcropped.mp4\n"
     ]
    },
    {
     "name": "stderr",
     "output_type": "stream",
     "text": [
      "100%|██████████| 26/26 [00:00<00:00, 3257.61it/s]\n"
     ]
    },
    {
     "name": "stdout",
     "output_type": "stream",
     "text": [
      "Processing...  H:/20220919_chunks/bs6175_down\\bs6175_19downsampledcropped.mp4\n"
     ]
    },
    {
     "name": "stderr",
     "output_type": "stream",
     "text": [
      "100%|██████████| 4/4 [00:00<00:00, 4010.81it/s]\n",
      "c:\\Users\\labgrprattenborg\\Anaconda3\\envs\\DEEPLABCUT\\lib\\site-packages\\deeplabcut\\refine_training_dataset\\stitch.py:676: UserWarning: No optimal solution found. Employing black magic...\n",
      "  warnings.warn(\"No optimal solution found. Employing black magic...\")\n"
     ]
    },
    {
     "name": "stdout",
     "output_type": "stream",
     "text": [
      "Very mean error\n",
      "Processing...  H:/20220919_chunks/bs6175_down\\bs6175_1downsampledcropped.mp4\n",
      "Very mean error\n",
      "Processing...  H:/20220919_chunks/bs6175_down\\bs6175_20downsampledcropped.mp4\n"
     ]
    },
    {
     "name": "stderr",
     "output_type": "stream",
     "text": [
      "100%|██████████| 3/3 [00:00<00:00, 2962.78it/s]\n"
     ]
    },
    {
     "name": "stdout",
     "output_type": "stream",
     "text": [
      "Very mean error\n",
      "Processing...  H:/20220919_chunks/bs6175_down\\bs6175_21downsampledcropped.mp4\n"
     ]
    },
    {
     "name": "stderr",
     "output_type": "stream",
     "text": [
      "100%|██████████| 57/57 [00:00<00:00, 1587.56it/s]\n"
     ]
    },
    {
     "name": "stdout",
     "output_type": "stream",
     "text": [
      "Processing...  H:/20220919_chunks/bs6175_down\\bs6175_22downsampledcropped.mp4\n"
     ]
    },
    {
     "name": "stderr",
     "output_type": "stream",
     "text": [
      "100%|██████████| 12/12 [00:00<00:00, 4010.81it/s]"
     ]
    },
    {
     "name": "stdout",
     "output_type": "stream",
     "text": [
      "Very mean error\n"
     ]
    },
    {
     "name": "stderr",
     "output_type": "stream",
     "text": [
      "\n",
      "c:\\Users\\labgrprattenborg\\Anaconda3\\envs\\DEEPLABCUT\\lib\\site-packages\\deeplabcut\\refine_training_dataset\\stitch.py:676: UserWarning: No optimal solution found. Employing black magic...\n",
      "  warnings.warn(\"No optimal solution found. Employing black magic...\")\n"
     ]
    },
    {
     "name": "stdout",
     "output_type": "stream",
     "text": [
      "Processing...  H:/20220919_chunks/bs6175_down\\bs6175_23downsampledcropped.mp4\n"
     ]
    },
    {
     "name": "stderr",
     "output_type": "stream",
     "text": [
      "100%|██████████| 17/17 [00:00<00:00, 4260.98it/s]\n"
     ]
    },
    {
     "name": "stdout",
     "output_type": "stream",
     "text": [
      "Processing...  H:/20220919_chunks/bs6175_down\\bs6175_24downsampledcropped.mp4\n"
     ]
    },
    {
     "name": "stderr",
     "output_type": "stream",
     "text": [
      "100%|██████████| 3/3 [00:00<?, ?it/s]"
     ]
    },
    {
     "name": "stdout",
     "output_type": "stream",
     "text": [
      "Very mean error\n",
      "Processing...  H:/20220919_chunks/bs6175_down\\bs6175_25downsampledcropped.mp4\n"
     ]
    },
    {
     "name": "stderr",
     "output_type": "stream",
     "text": [
      "\n",
      "c:\\Users\\labgrprattenborg\\Anaconda3\\envs\\DEEPLABCUT\\lib\\site-packages\\deeplabcut\\refine_training_dataset\\stitch.py:676: UserWarning: No optimal solution found. Employing black magic...\n",
      "  warnings.warn(\"No optimal solution found. Employing black magic...\")\n",
      "100%|██████████| 60/60 [00:00<00:00, 2734.20it/s]\n"
     ]
    },
    {
     "name": "stdout",
     "output_type": "stream",
     "text": [
      "Processing...  H:/20220919_chunks/bs6175_down\\bs6175_26downsampledcropped.mp4\n",
      "Very mean error\n",
      "Processing...  H:/20220919_chunks/bs6175_down\\bs6175_27downsampledcropped.mp4\n",
      "Very mean error\n",
      "Processing...  H:/20220919_chunks/bs6175_down\\bs6175_28downsampledcropped.mp4\n"
     ]
    },
    {
     "name": "stderr",
     "output_type": "stream",
     "text": [
      "100%|██████████| 23/23 [00:00<00:00, 2882.60it/s]\n"
     ]
    },
    {
     "name": "stdout",
     "output_type": "stream",
     "text": [
      "Processing...  H:/20220919_chunks/bs6175_down\\bs6175_29downsampledcropped.mp4\n",
      "Very mean error\n",
      "Processing...  H:/20220919_chunks/bs6175_down\\bs6175_2downsampledcropped.mp4\n",
      "Very mean error\n",
      "Processing...  H:/20220919_chunks/bs6175_down\\bs6175_30downsampledcropped.mp4\n"
     ]
    },
    {
     "name": "stderr",
     "output_type": "stream",
     "text": [
      "100%|██████████| 23/23 [00:00<00:00, 2306.05it/s]\n"
     ]
    },
    {
     "name": "stdout",
     "output_type": "stream",
     "text": [
      "Processing...  H:/20220919_chunks/bs6175_down\\bs6175_31downsampledcropped.mp4\n"
     ]
    },
    {
     "name": "stderr",
     "output_type": "stream",
     "text": [
      "100%|██████████| 9/9 [00:00<00:00, 3007.63it/s]\n",
      "c:\\Users\\labgrprattenborg\\Anaconda3\\envs\\DEEPLABCUT\\lib\\site-packages\\deeplabcut\\refine_training_dataset\\stitch.py:676: UserWarning: No optimal solution found. Employing black magic...\n",
      "  warnings.warn(\"No optimal solution found. Employing black magic...\")\n"
     ]
    },
    {
     "name": "stdout",
     "output_type": "stream",
     "text": [
      "Very mean error\n",
      "Processing...  H:/20220919_chunks/bs6175_down\\bs6175_32downsampledcropped.mp4\n"
     ]
    },
    {
     "name": "stderr",
     "output_type": "stream",
     "text": [
      "100%|██████████| 11/11 [00:00<00:00, 5514.86it/s]\n"
     ]
    },
    {
     "name": "stdout",
     "output_type": "stream",
     "text": [
      "Very mean error\n",
      "Processing...  H:/20220919_chunks/bs6175_down\\bs6175_33downsampledcropped.mp4\n"
     ]
    },
    {
     "name": "stderr",
     "output_type": "stream",
     "text": [
      "100%|██████████| 28/28 [00:00<00:00, 3119.35it/s]\n"
     ]
    },
    {
     "name": "stdout",
     "output_type": "stream",
     "text": [
      "Processing...  H:/20220919_chunks/bs6175_down\\bs6175_34downsampledcropped.mp4\n"
     ]
    },
    {
     "name": "stderr",
     "output_type": "stream",
     "text": [
      "100%|██████████| 4/4 [00:00<00:00, 4011.77it/s]"
     ]
    },
    {
     "name": "stdout",
     "output_type": "stream",
     "text": [
      "Very mean error\n",
      "Processing...  H:/20220919_chunks/bs6175_down\\bs6175_35downsampledcropped.mp4\n"
     ]
    },
    {
     "name": "stderr",
     "output_type": "stream",
     "text": [
      "\n",
      "c:\\Users\\labgrprattenborg\\Anaconda3\\envs\\DEEPLABCUT\\lib\\site-packages\\deeplabcut\\refine_training_dataset\\stitch.py:676: UserWarning: No optimal solution found. Employing black magic...\n",
      "  warnings.warn(\"No optimal solution found. Employing black magic...\")\n",
      "100%|██████████| 16/16 [00:00<00:00, 3215.72it/s]\n"
     ]
    },
    {
     "name": "stdout",
     "output_type": "stream",
     "text": [
      "Very mean error\n",
      "Processing...  H:/20220919_chunks/bs6175_down\\bs6175_36downsampledcropped.mp4\n",
      "Very mean error\n",
      "Processing...  H:/20220919_chunks/bs6175_down\\bs6175_37downsampledcropped.mp4\n",
      "Very mean error\n",
      "Processing...  H:/20220919_chunks/bs6175_down\\bs6175_38downsampledcropped.mp4\n"
     ]
    },
    {
     "name": "stderr",
     "output_type": "stream",
     "text": [
      "100%|██████████| 6/6 [00:00<00:00, 3008.47it/s]\n",
      "c:\\Users\\labgrprattenborg\\Anaconda3\\envs\\DEEPLABCUT\\lib\\site-packages\\deeplabcut\\refine_training_dataset\\stitch.py:676: UserWarning: No optimal solution found. Employing black magic...\n",
      "  warnings.warn(\"No optimal solution found. Employing black magic...\")\n"
     ]
    },
    {
     "name": "stdout",
     "output_type": "stream",
     "text": [
      "Very mean error\n",
      "Processing...  H:/20220919_chunks/bs6175_down\\bs6175_39downsampledcropped.mp4\n"
     ]
    },
    {
     "name": "stderr",
     "output_type": "stream",
     "text": [
      "100%|██████████| 7/7 [00:00<00:00, 3509.46it/s]\n"
     ]
    },
    {
     "name": "stdout",
     "output_type": "stream",
     "text": [
      "Very mean error\n",
      "Processing...  H:/20220919_chunks/bs6175_down\\bs6175_3downsampledcropped.mp4\n",
      "Very mean error\n",
      "Processing...  H:/20220919_chunks/bs6175_down\\bs6175_40downsampledcropped.mp4\n",
      "Very mean error\n",
      "Processing...  H:/20220919_chunks/bs6175_down\\bs6175_41downsampledcropped.mp4\n"
     ]
    },
    {
     "name": "stderr",
     "output_type": "stream",
     "text": [
      "100%|██████████| 18/18 [00:00<00:00, 3008.11it/s]\n"
     ]
    },
    {
     "name": "stdout",
     "output_type": "stream",
     "text": [
      "Processing...  H:/20220919_chunks/bs6175_down\\bs6175_42downsampledcropped.mp4\n",
      "Very mean error\n",
      "Processing...  H:/20220919_chunks/bs6175_down\\bs6175_43downsampledcropped.mp4\n"
     ]
    },
    {
     "name": "stderr",
     "output_type": "stream",
     "text": [
      "100%|██████████| 12/12 [00:00<00:00, 6015.50it/s]\n",
      "c:\\Users\\labgrprattenborg\\Anaconda3\\envs\\DEEPLABCUT\\lib\\site-packages\\deeplabcut\\refine_training_dataset\\stitch.py:676: UserWarning: No optimal solution found. Employing black magic...\n",
      "  warnings.warn(\"No optimal solution found. Employing black magic...\")\n"
     ]
    },
    {
     "name": "stdout",
     "output_type": "stream",
     "text": [
      "Very mean error\n",
      "Processing...  H:/20220919_chunks/bs6175_down\\bs6175_44downsampledcropped.mp4\n",
      "Very mean error\n",
      "Processing...  H:/20220919_chunks/bs6175_down\\bs6175_45downsampledcropped.mp4\n"
     ]
    },
    {
     "name": "stderr",
     "output_type": "stream",
     "text": [
      "100%|██████████| 7/7 [00:00<00:00, 3509.04it/s]\n"
     ]
    },
    {
     "name": "stdout",
     "output_type": "stream",
     "text": [
      "Very mean error\n",
      "Processing...  H:/20220919_chunks/bs6175_down\\bs6175_46downsampledcropped.mp4\n",
      "Very mean error\n",
      "Processing...  H:/20220919_chunks/bs6175_down\\bs6175_47downsampledcropped.mp4\n"
     ]
    },
    {
     "name": "stderr",
     "output_type": "stream",
     "text": [
      "100%|██████████| 13/13 [00:00<00:00, 3258.59it/s]\n"
     ]
    },
    {
     "name": "stdout",
     "output_type": "stream",
     "text": [
      "Very mean error\n",
      "Processing...  H:/20220919_chunks/bs6175_down\\bs6175_48downsampledcropped.mp4\n"
     ]
    },
    {
     "name": "stderr",
     "output_type": "stream",
     "text": [
      "100%|██████████| 37/37 [00:00<00:00, 3089.70it/s]\n"
     ]
    },
    {
     "name": "stdout",
     "output_type": "stream",
     "text": [
      "Processing...  H:/20220919_chunks/bs6175_down\\bs6175_49downsampledcropped.mp4\n",
      "Very mean error\n",
      "Processing...  H:/20220919_chunks/bs6175_down\\bs6175_4downsampledcropped.mp4\n",
      "Very mean error\n",
      "Processing...  H:/20220919_chunks/bs6175_down\\bs6175_50downsampledcropped.mp4\n",
      "Very mean error\n",
      "Processing...  H:/20220919_chunks/bs6175_down\\bs6175_51downsampledcropped.mp4\n"
     ]
    },
    {
     "name": "stderr",
     "output_type": "stream",
     "text": [
      "100%|██████████| 12/12 [00:00<00:00, 4010.49it/s]\n",
      "c:\\Users\\labgrprattenborg\\Anaconda3\\envs\\DEEPLABCUT\\lib\\site-packages\\deeplabcut\\refine_training_dataset\\stitch.py:676: UserWarning: No optimal solution found. Employing black magic...\n",
      "  warnings.warn(\"No optimal solution found. Employing black magic...\")\n"
     ]
    },
    {
     "name": "stdout",
     "output_type": "stream",
     "text": [
      "Very mean error\n",
      "Processing...  H:/20220919_chunks/bs6175_down\\bs6175_52downsampledcropped.mp4\n",
      "Very mean error\n",
      "Processing...  H:/20220919_chunks/bs6175_down\\bs6175_53downsampledcropped.mp4\n"
     ]
    },
    {
     "name": "stderr",
     "output_type": "stream",
     "text": [
      "100%|██████████| 2/2 [00:00<00:00, 2006.36it/s]\n"
     ]
    },
    {
     "name": "stdout",
     "output_type": "stream",
     "text": [
      "Very mean error\n",
      "Processing...  H:/20220919_chunks/bs6175_down\\bs6175_54downsampledcropped.mp4\n",
      "Very mean error\n",
      "Processing...  H:/20220919_chunks/bs6175_down\\bs6175_55downsampledcropped.mp4\n"
     ]
    },
    {
     "name": "stderr",
     "output_type": "stream",
     "text": [
      "100%|██████████| 2/2 [00:00<00:00, 1998.24it/s]"
     ]
    },
    {
     "name": "stdout",
     "output_type": "stream",
     "text": [
      "Very mean error\n",
      "Processing...  H:/20220919_chunks/bs6175_down\\bs6175_56downsampledcropped.mp4\n"
     ]
    },
    {
     "name": "stderr",
     "output_type": "stream",
     "text": [
      "\n",
      "100%|██████████| 5/5 [00:00<00:00, 5011.12it/s]\n"
     ]
    },
    {
     "name": "stdout",
     "output_type": "stream",
     "text": [
      "Very mean error\n",
      "Processing...  H:/20220919_chunks/bs6175_down\\bs6175_57downsampledcropped.mp4\n",
      "Very mean error\n",
      "Processing...  H:/20220919_chunks/bs6175_down\\bs6175_58downsampledcropped.mp4\n",
      "Very mean error\n",
      "Processing...  H:/20220919_chunks/bs6175_down\\bs6175_59downsampledcropped.mp4\n",
      "Very mean error\n",
      "Processing...  H:/20220919_chunks/bs6175_down\\bs6175_5downsampledcropped.mp4\n"
     ]
    },
    {
     "name": "stderr",
     "output_type": "stream",
     "text": [
      "100%|██████████| 2/2 [00:00<00:00, 2005.40it/s]\n"
     ]
    },
    {
     "name": "stdout",
     "output_type": "stream",
     "text": [
      "Very mean error\n",
      "Processing...  H:/20220919_chunks/bs6175_down\\bs6175_60downsampledcropped.mp4\n",
      "Very mean error\n",
      "Processing...  H:/20220919_chunks/bs6175_down\\bs6175_61downsampledcropped.mp4\n",
      "Very mean error\n",
      "Processing...  H:/20220919_chunks/bs6175_down\\bs6175_62downsampledcropped.mp4\n",
      "Very mean error\n",
      "Processing...  H:/20220919_chunks/bs6175_down\\bs6175_63downsampledcropped.mp4\n",
      "Very mean error\n",
      "Processing...  H:/20220919_chunks/bs6175_down\\bs6175_64downsampledcropped.mp4\n",
      "Very mean error\n",
      "Processing...  H:/20220919_chunks/bs6175_down\\bs6175_65downsampledcropped.mp4\n",
      "Very mean error\n",
      "Processing...  H:/20220919_chunks/bs6175_down\\bs6175_66downsampledcropped.mp4\n",
      "Very mean error\n",
      "Processing...  H:/20220919_chunks/bs6175_down\\bs6175_67downsampledcropped.mp4\n",
      "Very mean error\n",
      "Processing...  H:/20220919_chunks/bs6175_down\\bs6175_68downsampledcropped.mp4\n",
      "Very mean error\n",
      "Processing...  H:/20220919_chunks/bs6175_down\\bs6175_69downsampledcropped.mp4\n",
      "Very mean error\n",
      "Processing...  H:/20220919_chunks/bs6175_down\\bs6175_6downsampledcropped.mp4\n"
     ]
    },
    {
     "name": "stderr",
     "output_type": "stream",
     "text": [
      "100%|██████████| 49/49 [00:00<00:00, 2233.22it/s]\n"
     ]
    },
    {
     "name": "stdout",
     "output_type": "stream",
     "text": [
      "Processing...  H:/20220919_chunks/bs6175_down\\bs6175_70downsampledcropped.mp4\n",
      "Very mean error\n",
      "Processing...  H:/20220919_chunks/bs6175_down\\bs6175_71downsampledcropped.mp4\n",
      "Very mean error\n",
      "Processing...  H:/20220919_chunks/bs6175_down\\bs6175_72downsampledcropped.mp4\n",
      "Very mean error\n",
      "Processing...  H:/20220919_chunks/bs6175_down\\bs6175_73downsampledcropped.mp4\n",
      "Very mean error\n",
      "Processing...  H:/20220919_chunks/bs6175_down\\bs6175_74downsampledcropped.mp4\n",
      "Very mean error\n",
      "Processing...  H:/20220919_chunks/bs6175_down\\bs6175_75downsampledcropped.mp4\n",
      "Very mean error\n",
      "Processing...  H:/20220919_chunks/bs6175_down\\bs6175_76downsampledcropped.mp4\n",
      "Very mean error\n",
      "Processing...  H:/20220919_chunks/bs6175_down\\bs6175_77downsampledcropped.mp4\n",
      "Very mean error\n",
      "Processing...  H:/20220919_chunks/bs6175_down\\bs6175_7downsampledcropped.mp4\n",
      "Very mean error\n",
      "Processing...  H:/20220919_chunks/bs6175_down\\bs6175_8downsampledcropped.mp4\n",
      "Very mean error\n",
      "Processing...  H:/20220919_chunks/bs6175_down\\bs6175_9downsampledcropped.mp4\n"
     ]
    },
    {
     "name": "stderr",
     "output_type": "stream",
     "text": [
      "100%|██████████| 22/22 [00:00<00:00, 2450.99it/s]\n"
     ]
    }
   ],
   "source": [
    "lst=[]\n",
    "cwd = 'H:/20220919_chunks/bs6175_down'\n",
    "for file in os.listdir(cwd):\n",
    "    if file.endswith(\"cropped.mp4\"):\n",
    "        lst.append(file)\n",
    "\n",
    "for vids in lst:\n",
    "    try:          \n",
    "        deeplabcut.stitch_tracklets(config_path, os.path.join(cwd, vids), videotype='mp4', shuffle=1, trainingsetindex=0, n_tracks = 17)\n",
    "    except (ValueError,OSError): \n",
    "        print('Very mean error')"
   ]
  },
  {
   "cell_type": "code",
   "execution_count": 62,
   "metadata": {},
   "outputs": [],
   "source": [
    "lst=[]\n",
    "cwd = 'H:/20220919_chunks/bs6189_down'\n",
    "for file in os.listdir(cwd):\n",
    "    if file.endswith(\"cropped.mp4\"):\n",
    "        lst.append(file)\n",
    "\n",
    "for vids in lst:\n",
    "    try:          \n",
    "        deeplabcut.stitch_tracklets(config_path, os.path.join(cwd, vids), videotype='mp4', shuffle=1, trainingsetindex=0, n_tracks = 17)\n",
    "    except (ValueError,OSError): \n",
    "        print('Very mean error')"
   ]
  },
  {
   "cell_type": "code",
   "execution_count": 63,
   "metadata": {},
   "outputs": [
    {
     "name": "stdout",
     "output_type": "stream",
     "text": [
      "Processing...  H:/20220919_chunks/bs6190_down\\bs6190_10downsampledcropped.mp4\n"
     ]
    },
    {
     "name": "stderr",
     "output_type": "stream",
     "text": [
      "100%|██████████| 8/8 [00:00<00:00, 4010.33it/s]"
     ]
    },
    {
     "name": "stdout",
     "output_type": "stream",
     "text": [
      "Very mean error\n",
      "Processing...  H:/20220919_chunks/bs6190_down\\bs6190_11downsampledcropped.mp4\n"
     ]
    },
    {
     "name": "stderr",
     "output_type": "stream",
     "text": [
      "\n",
      "c:\\Users\\labgrprattenborg\\Anaconda3\\envs\\DEEPLABCUT\\lib\\site-packages\\deeplabcut\\refine_training_dataset\\stitch.py:676: UserWarning: No optimal solution found. Employing black magic...\n",
      "  warnings.warn(\"No optimal solution found. Employing black magic...\")\n"
     ]
    },
    {
     "name": "stdout",
     "output_type": "stream",
     "text": [
      "Very mean error\n",
      "Processing...  H:/20220919_chunks/bs6190_down\\bs6190_12downsampledcropped.mp4\n"
     ]
    },
    {
     "name": "stderr",
     "output_type": "stream",
     "text": [
      "100%|██████████| 21/21 [00:00<00:00, 2632.09it/s]\n"
     ]
    },
    {
     "name": "stdout",
     "output_type": "stream",
     "text": [
      "Processing...  H:/20220919_chunks/bs6190_down\\bs6190_13downsampledcropped.mp4\n"
     ]
    },
    {
     "name": "stderr",
     "output_type": "stream",
     "text": [
      "100%|██████████| 79/79 [00:00<00:00, 2200.29it/s]\n"
     ]
    },
    {
     "name": "stdout",
     "output_type": "stream",
     "text": [
      "Processing...  H:/20220919_chunks/bs6190_down\\bs6190_14downsampledcropped.mp4\n"
     ]
    },
    {
     "name": "stderr",
     "output_type": "stream",
     "text": [
      "100%|██████████| 4/4 [00:00<00:00, 4009.85it/s]\n",
      "c:\\Users\\labgrprattenborg\\Anaconda3\\envs\\DEEPLABCUT\\lib\\site-packages\\deeplabcut\\refine_training_dataset\\stitch.py:676: UserWarning: No optimal solution found. Employing black magic...\n",
      "  warnings.warn(\"No optimal solution found. Employing black magic...\")\n"
     ]
    },
    {
     "name": "stdout",
     "output_type": "stream",
     "text": [
      "Very mean error\n",
      "Processing...  H:/20220919_chunks/bs6190_down\\bs6190_15downsampledcropped.mp4\n"
     ]
    },
    {
     "name": "stderr",
     "output_type": "stream",
     "text": [
      "100%|██████████| 54/54 [00:00<00:00, 2461.10it/s]\n"
     ]
    },
    {
     "name": "stdout",
     "output_type": "stream",
     "text": [
      "Processing...  H:/20220919_chunks/bs6190_down\\bs6190_16downsampledcropped.mp4\n"
     ]
    },
    {
     "name": "stderr",
     "output_type": "stream",
     "text": [
      "100%|██████████| 32/32 [00:00<00:00, 2468.10it/s]\n"
     ]
    },
    {
     "name": "stdout",
     "output_type": "stream",
     "text": [
      "Processing...  H:/20220919_chunks/bs6190_down\\bs6190_17downsampledcropped.mp4\n"
     ]
    },
    {
     "name": "stderr",
     "output_type": "stream",
     "text": [
      "100%|██████████| 2/2 [00:00<00:00, 2005.40it/s]\n",
      "c:\\Users\\labgrprattenborg\\Anaconda3\\envs\\DEEPLABCUT\\lib\\site-packages\\deeplabcut\\refine_training_dataset\\stitch.py:676: UserWarning: No optimal solution found. Employing black magic...\n",
      "  warnings.warn(\"No optimal solution found. Employing black magic...\")\n"
     ]
    },
    {
     "name": "stdout",
     "output_type": "stream",
     "text": [
      "Very mean error\n",
      "Processing...  H:/20220919_chunks/bs6190_down\\bs6190_18downsampledcropped.mp4\n"
     ]
    },
    {
     "name": "stderr",
     "output_type": "stream",
     "text": [
      "100%|██████████| 11/11 [00:00<00:00, 5514.20it/s]\n"
     ]
    },
    {
     "name": "stdout",
     "output_type": "stream",
     "text": [
      "Very mean error\n",
      "Processing...  H:/20220919_chunks/bs6190_down\\bs6190_19downsampledcropped.mp4\n"
     ]
    },
    {
     "name": "stderr",
     "output_type": "stream",
     "text": [
      "100%|██████████| 52/52 [00:00<00:00, 2369.97it/s]\n"
     ]
    },
    {
     "name": "stdout",
     "output_type": "stream",
     "text": [
      "Processing...  H:/20220919_chunks/bs6190_down\\bs6190_1downsampledcropped.mp4\n",
      "Very mean error\n",
      "Processing...  H:/20220919_chunks/bs6190_down\\bs6190_20downsampledcropped.mp4\n",
      "Very mean error\n",
      "Processing...  H:/20220919_chunks/bs6190_down\\bs6190_21downsampledcropped.mp4\n"
     ]
    },
    {
     "name": "stderr",
     "output_type": "stream",
     "text": [
      "100%|██████████| 44/44 [00:00<00:00, 2322.02it/s]\n"
     ]
    },
    {
     "name": "stdout",
     "output_type": "stream",
     "text": [
      "Processing...  H:/20220919_chunks/bs6190_down\\bs6190_22downsampledcropped.mp4\n"
     ]
    },
    {
     "name": "stderr",
     "output_type": "stream",
     "text": [
      "100%|██████████| 1/1 [00:00<?, ?it/s]\n",
      "c:\\Users\\labgrprattenborg\\Anaconda3\\envs\\DEEPLABCUT\\lib\\site-packages\\deeplabcut\\refine_training_dataset\\stitch.py:676: UserWarning: No optimal solution found. Employing black magic...\n",
      "  warnings.warn(\"No optimal solution found. Employing black magic...\")\n"
     ]
    },
    {
     "name": "stdout",
     "output_type": "stream",
     "text": [
      "Very mean error\n",
      "Processing...  H:/20220919_chunks/bs6190_down\\bs6190_23downsampledcropped.mp4\n"
     ]
    },
    {
     "name": "stderr",
     "output_type": "stream",
     "text": [
      "100%|██████████| 75/75 [00:00<00:00, 2425.82it/s]\n"
     ]
    },
    {
     "name": "stdout",
     "output_type": "stream",
     "text": [
      "Processing...  H:/20220919_chunks/bs6190_down\\bs6190_24downsampledcropped.mp4\n",
      "Very mean error\n",
      "Processing...  H:/20220919_chunks/bs6190_down\\bs6190_25downsampledcropped.mp4\n"
     ]
    },
    {
     "name": "stderr",
     "output_type": "stream",
     "text": [
      "100%|██████████| 4/4 [00:00<00:00, 2004.69it/s]\n",
      "c:\\Users\\labgrprattenborg\\Anaconda3\\envs\\DEEPLABCUT\\lib\\site-packages\\deeplabcut\\refine_training_dataset\\stitch.py:676: UserWarning: No optimal solution found. Employing black magic...\n",
      "  warnings.warn(\"No optimal solution found. Employing black magic...\")\n"
     ]
    },
    {
     "name": "stdout",
     "output_type": "stream",
     "text": [
      "Very mean error\n",
      "Processing...  H:/20220919_chunks/bs6190_down\\bs6190_26downsampledcropped.mp4\n"
     ]
    },
    {
     "name": "stderr",
     "output_type": "stream",
     "text": [
      "100%|██████████| 45/45 [00:00<00:00, 3470.77it/s]\n"
     ]
    },
    {
     "name": "stdout",
     "output_type": "stream",
     "text": [
      "Processing...  H:/20220919_chunks/bs6190_down\\bs6190_27downsampledcropped.mp4\n"
     ]
    },
    {
     "name": "stderr",
     "output_type": "stream",
     "text": [
      "100%|██████████| 33/33 [00:00<00:00, 2757.49it/s]\n"
     ]
    },
    {
     "name": "stdout",
     "output_type": "stream",
     "text": [
      "Processing...  H:/20220919_chunks/bs6190_down\\bs6190_28downsampledcropped.mp4\n",
      "Very mean error\n",
      "Processing...  H:/20220919_chunks/bs6190_down\\bs6190_29downsampledcropped.mp4\n"
     ]
    },
    {
     "name": "stderr",
     "output_type": "stream",
     "text": [
      "100%|██████████| 8/8 [00:00<00:00, 2674.30it/s]"
     ]
    },
    {
     "name": "stdout",
     "output_type": "stream",
     "text": [
      "Very mean error\n"
     ]
    },
    {
     "name": "stderr",
     "output_type": "stream",
     "text": [
      "\n",
      "c:\\Users\\labgrprattenborg\\Anaconda3\\envs\\DEEPLABCUT\\lib\\site-packages\\deeplabcut\\refine_training_dataset\\stitch.py:676: UserWarning: No optimal solution found. Employing black magic...\n",
      "  warnings.warn(\"No optimal solution found. Employing black magic...\")\n"
     ]
    },
    {
     "name": "stdout",
     "output_type": "stream",
     "text": [
      "Processing...  H:/20220919_chunks/bs6190_down\\bs6190_2downsampledcropped.mp4\n",
      "Very mean error\n",
      "Processing...  H:/20220919_chunks/bs6190_down\\bs6190_30downsampledcropped.mp4\n"
     ]
    },
    {
     "name": "stderr",
     "output_type": "stream",
     "text": [
      "100%|██████████| 14/14 [00:00<00:00, 3506.11it/s]\n"
     ]
    },
    {
     "name": "stdout",
     "output_type": "stream",
     "text": [
      "Very mean error\n",
      "Processing...  H:/20220919_chunks/bs6190_down\\bs6190_31downsampledcropped.mp4\n",
      "Very mean error\n",
      "Processing...  H:/20220919_chunks/bs6190_down\\bs6190_32downsampledcropped.mp4\n"
     ]
    },
    {
     "name": "stderr",
     "output_type": "stream",
     "text": [
      "100%|██████████| 16/16 [00:00<00:00, 3208.65it/s]\n"
     ]
    },
    {
     "name": "stdout",
     "output_type": "stream",
     "text": [
      "Very mean error\n",
      "Processing...  H:/20220919_chunks/bs6190_down\\bs6190_33downsampledcropped.mp4\n"
     ]
    },
    {
     "name": "stderr",
     "output_type": "stream",
     "text": [
      "100%|██████████| 11/11 [00:00<00:00, 3673.36it/s]\n",
      "c:\\Users\\labgrprattenborg\\Anaconda3\\envs\\DEEPLABCUT\\lib\\site-packages\\deeplabcut\\refine_training_dataset\\stitch.py:676: UserWarning: No optimal solution found. Employing black magic...\n",
      "  warnings.warn(\"No optimal solution found. Employing black magic...\")\n"
     ]
    },
    {
     "name": "stdout",
     "output_type": "stream",
     "text": [
      "Very mean error\n",
      "Processing...  H:/20220919_chunks/bs6190_down\\bs6190_34downsampledcropped.mp4\n"
     ]
    },
    {
     "name": "stderr",
     "output_type": "stream",
     "text": [
      "100%|██████████| 17/17 [00:00<00:00, 3409.68it/s]\n"
     ]
    },
    {
     "name": "stdout",
     "output_type": "stream",
     "text": [
      "Processing...  H:/20220919_chunks/bs6190_down\\bs6190_35downsampledcropped.mp4\n"
     ]
    },
    {
     "name": "stderr",
     "output_type": "stream",
     "text": [
      "100%|██████████| 3/3 [00:00<00:00, 3006.67it/s]\n",
      "c:\\Users\\labgrprattenborg\\Anaconda3\\envs\\DEEPLABCUT\\lib\\site-packages\\deeplabcut\\refine_training_dataset\\stitch.py:676: UserWarning: No optimal solution found. Employing black magic...\n",
      "  warnings.warn(\"No optimal solution found. Employing black magic...\")\n"
     ]
    },
    {
     "name": "stdout",
     "output_type": "stream",
     "text": [
      "Very mean error\n",
      "Processing...  H:/20220919_chunks/bs6190_down\\bs6190_36downsampledcropped.mp4\n",
      "Very mean error\n",
      "Processing...  H:/20220919_chunks/bs6190_down\\bs6190_37downsampledcropped.mp4\n"
     ]
    },
    {
     "name": "stderr",
     "output_type": "stream",
     "text": [
      "100%|██████████| 2/2 [00:00<00:00, 2005.40it/s]"
     ]
    },
    {
     "name": "stdout",
     "output_type": "stream",
     "text": [
      "Very mean error\n",
      "Processing...  H:/20220919_chunks/bs6190_down\\bs6190_38downsampledcropped.mp4\n"
     ]
    },
    {
     "name": "stderr",
     "output_type": "stream",
     "text": [
      "\n",
      "100%|██████████| 7/7 [00:00<00:00, 3509.46it/s]\n"
     ]
    },
    {
     "name": "stdout",
     "output_type": "stream",
     "text": [
      "Very mean error\n",
      "Processing...  H:/20220919_chunks/bs6190_down\\bs6190_39downsampledcropped.mp4\n",
      "Very mean error\n",
      "Processing...  H:/20220919_chunks/bs6190_down\\bs6190_3downsampledcropped.mp4\n",
      "Very mean error\n",
      "Processing...  H:/20220919_chunks/bs6190_down\\bs6190_40downsampledcropped.mp4\n"
     ]
    },
    {
     "name": "stderr",
     "output_type": "stream",
     "text": [
      "100%|██████████| 42/42 [00:00<00:00, 3239.44it/s]\n"
     ]
    },
    {
     "name": "stdout",
     "output_type": "stream",
     "text": [
      "Processing...  H:/20220919_chunks/bs6190_down\\bs6190_41downsampledcropped.mp4\n"
     ]
    },
    {
     "name": "stderr",
     "output_type": "stream",
     "text": [
      "100%|██████████| 13/13 [00:00<00:00, 4346.43it/s]\n",
      "c:\\Users\\labgrprattenborg\\Anaconda3\\envs\\DEEPLABCUT\\lib\\site-packages\\deeplabcut\\refine_training_dataset\\stitch.py:676: UserWarning: No optimal solution found. Employing black magic...\n",
      "  warnings.warn(\"No optimal solution found. Employing black magic...\")\n"
     ]
    },
    {
     "name": "stdout",
     "output_type": "stream",
     "text": [
      "Very mean error\n",
      "Processing...  H:/20220919_chunks/bs6190_down\\bs6190_42downsampledcropped.mp4\n"
     ]
    },
    {
     "name": "stderr",
     "output_type": "stream",
     "text": [
      "100%|██████████| 9/9 [00:00<00:00, 4504.08it/s]\n"
     ]
    },
    {
     "name": "stdout",
     "output_type": "stream",
     "text": [
      "Very mean error\n",
      "Processing...  H:/20220919_chunks/bs6190_down\\bs6190_43downsampledcropped.mp4\n"
     ]
    },
    {
     "name": "stderr",
     "output_type": "stream",
     "text": [
      "100%|██████████| 3/3 [00:00<00:00, 3009.55it/s]\n"
     ]
    },
    {
     "name": "stdout",
     "output_type": "stream",
     "text": [
      "Very mean error\n",
      "Processing...  H:/20220919_chunks/bs6190_down\\bs6190_44downsampledcropped.mp4\n",
      "Very mean error\n",
      "Processing...  H:/20220919_chunks/bs6190_down\\bs6190_45downsampledcropped.mp4\n",
      "Very mean error\n",
      "Processing...  H:/20220919_chunks/bs6190_down\\bs6190_46downsampledcropped.mp4\n",
      "Very mean error\n",
      "Processing...  H:/20220919_chunks/bs6190_down\\bs6190_47downsampledcropped.mp4\n",
      "Very mean error\n",
      "Processing...  H:/20220919_chunks/bs6190_down\\bs6190_48downsampledcropped.mp4\n"
     ]
    },
    {
     "name": "stderr",
     "output_type": "stream",
     "text": [
      "100%|██████████| 4/4 [00:00<00:00, 2004.69it/s]\n"
     ]
    },
    {
     "name": "stdout",
     "output_type": "stream",
     "text": [
      "Very mean error\n",
      "Processing...  H:/20220919_chunks/bs6190_down\\bs6190_49downsampledcropped.mp4\n"
     ]
    },
    {
     "name": "stderr",
     "output_type": "stream",
     "text": [
      "100%|██████████| 57/57 [00:00<00:00, 2721.50it/s]\n"
     ]
    },
    {
     "name": "stdout",
     "output_type": "stream",
     "text": [
      "Processing...  H:/20220919_chunks/bs6190_down\\bs6190_4downsampledcropped.mp4\n",
      "Very mean error\n",
      "Processing...  H:/20220919_chunks/bs6190_down\\bs6190_50downsampledcropped.mp4\n",
      "Very mean error\n",
      "Processing...  H:/20220919_chunks/bs6190_down\\bs6190_51downsampledcropped.mp4\n"
     ]
    },
    {
     "name": "stderr",
     "output_type": "stream",
     "text": [
      "100%|██████████| 13/13 [00:00<00:00, 4344.35it/s]\n",
      "c:\\Users\\labgrprattenborg\\Anaconda3\\envs\\DEEPLABCUT\\lib\\site-packages\\deeplabcut\\refine_training_dataset\\stitch.py:676: UserWarning: No optimal solution found. Employing black magic...\n",
      "  warnings.warn(\"No optimal solution found. Employing black magic...\")\n"
     ]
    },
    {
     "name": "stdout",
     "output_type": "stream",
     "text": [
      "Very mean error\n",
      "Processing...  H:/20220919_chunks/bs6190_down\\bs6190_52downsampledcropped.mp4\n"
     ]
    },
    {
     "name": "stderr",
     "output_type": "stream",
     "text": [
      "100%|██████████| 15/15 [00:00<00:00, 3758.56it/s]\n"
     ]
    },
    {
     "name": "stdout",
     "output_type": "stream",
     "text": [
      "Very mean error\n",
      "Processing...  H:/20220919_chunks/bs6190_down\\bs6190_53downsampledcropped.mp4\n"
     ]
    },
    {
     "name": "stderr",
     "output_type": "stream",
     "text": [
      "100%|██████████| 11/11 [00:00<00:00, 3676.87it/s]\n"
     ]
    },
    {
     "name": "stdout",
     "output_type": "stream",
     "text": [
      "Very mean error\n",
      "Processing...  H:/20220919_chunks/bs6190_down\\bs6190_54downsampledcropped.mp4\n"
     ]
    },
    {
     "name": "stderr",
     "output_type": "stream",
     "text": [
      "100%|██████████| 21/21 [00:00<00:00, 4211.15it/s]\n"
     ]
    },
    {
     "name": "stdout",
     "output_type": "stream",
     "text": [
      "Processing...  H:/20220919_chunks/bs6190_down\\bs6190_55downsampledcropped.mp4\n"
     ]
    },
    {
     "name": "stderr",
     "output_type": "stream",
     "text": [
      "100%|██████████| 24/24 [00:00<00:00, 3437.60it/s]\n"
     ]
    },
    {
     "name": "stdout",
     "output_type": "stream",
     "text": [
      "Processing...  H:/20220919_chunks/bs6190_down\\bs6190_56downsampledcropped.mp4\n"
     ]
    },
    {
     "name": "stderr",
     "output_type": "stream",
     "text": [
      "100%|██████████| 29/29 [00:00<00:00, 3634.80it/s]\n"
     ]
    },
    {
     "name": "stdout",
     "output_type": "stream",
     "text": [
      "Processing...  H:/20220919_chunks/bs6190_down\\bs6190_57downsampledcropped.mp4\n"
     ]
    },
    {
     "name": "stderr",
     "output_type": "stream",
     "text": [
      "100%|██████████| 15/15 [00:00<00:00, 3759.68it/s]\n",
      "c:\\Users\\labgrprattenborg\\Anaconda3\\envs\\DEEPLABCUT\\lib\\site-packages\\deeplabcut\\refine_training_dataset\\stitch.py:676: UserWarning: No optimal solution found. Employing black magic...\n",
      "  warnings.warn(\"No optimal solution found. Employing black magic...\")\n"
     ]
    },
    {
     "name": "stdout",
     "output_type": "stream",
     "text": [
      "Very mean error\n",
      "Processing...  H:/20220919_chunks/bs6190_down\\bs6190_58downsampledcropped.mp4\n",
      "Very mean error\n",
      "Processing...  H:/20220919_chunks/bs6190_down\\bs6190_59downsampledcropped.mp4\n",
      "Very mean error\n",
      "Processing...  H:/20220919_chunks/bs6190_down\\bs6190_5downsampledcropped.mp4\n",
      "Very mean error\n",
      "Processing...  H:/20220919_chunks/bs6190_down\\bs6190_60downsampledcropped.mp4\n",
      "Very mean error\n",
      "Processing...  H:/20220919_chunks/bs6190_down\\bs6190_61downsampledcropped.mp4\n",
      "Very mean error\n",
      "Processing...  H:/20220919_chunks/bs6190_down\\bs6190_62downsampledcropped.mp4\n",
      "Very mean error\n",
      "Processing...  H:/20220919_chunks/bs6190_down\\bs6190_63downsampledcropped.mp4\n",
      "Very mean error\n",
      "Processing...  H:/20220919_chunks/bs6190_down\\bs6190_64downsampledcropped.mp4\n",
      "Very mean error\n",
      "Processing...  H:/20220919_chunks/bs6190_down\\bs6190_6downsampledcropped.mp4\n"
     ]
    },
    {
     "name": "stderr",
     "output_type": "stream",
     "text": [
      "100%|██████████| 159/159 [00:00<00:00, 693.15it/s]\n"
     ]
    },
    {
     "name": "stdout",
     "output_type": "stream",
     "text": [
      "Processing...  H:/20220919_chunks/bs6190_down\\bs6190_7downsampledcropped.mp4\n",
      "Very mean error\n",
      "Processing...  H:/20220919_chunks/bs6190_down\\bs6190_8downsampledcropped.mp4\n",
      "Very mean error\n",
      "Processing...  H:/20220919_chunks/bs6190_down\\bs6190_9downsampledcropped.mp4\n"
     ]
    },
    {
     "name": "stderr",
     "output_type": "stream",
     "text": [
      "100%|██████████| 16/16 [00:00<00:00, 4010.81it/s]"
     ]
    },
    {
     "name": "stdout",
     "output_type": "stream",
     "text": [
      "Very mean error\n"
     ]
    },
    {
     "name": "stderr",
     "output_type": "stream",
     "text": [
      "\n",
      "c:\\Users\\labgrprattenborg\\Anaconda3\\envs\\DEEPLABCUT\\lib\\site-packages\\deeplabcut\\refine_training_dataset\\stitch.py:676: UserWarning: No optimal solution found. Employing black magic...\n",
      "  warnings.warn(\"No optimal solution found. Employing black magic...\")\n"
     ]
    }
   ],
   "source": [
    "lst=[]\n",
    "cwd = 'H:/20220919_chunks/bs6190_down'\n",
    "for file in os.listdir(cwd):\n",
    "    if file.endswith(\"cropped.mp4\"):\n",
    "        lst.append(file)\n",
    "\n",
    "for vids in lst:\n",
    "    try:          \n",
    "        deeplabcut.stitch_tracklets(config_path, os.path.join(cwd, vids), videotype='mp4', shuffle=1, trainingsetindex=0, n_tracks = 17)\n",
    "    except (ValueError,OSError): \n",
    "        print('Very mean error')"
   ]
  },
  {
   "cell_type": "code",
   "execution_count": 64,
   "metadata": {},
   "outputs": [
    {
     "name": "stdout",
     "output_type": "stream",
     "text": [
      "Processing...  H:/20220919_chunks/bs6191_down\\bs6191_10downsampledcropped.mp4\n",
      "Very mean error\n",
      "Processing...  H:/20220919_chunks/bs6191_down\\bs6191_11downsampledcropped.mp4\n"
     ]
    },
    {
     "name": "stderr",
     "output_type": "stream",
     "text": [
      "100%|██████████| 25/25 [00:00<00:00, 2785.28it/s]\n"
     ]
    },
    {
     "name": "stdout",
     "output_type": "stream",
     "text": [
      "Processing...  H:/20220919_chunks/bs6191_down\\bs6191_12downsampledcropped.mp4\n"
     ]
    },
    {
     "name": "stderr",
     "output_type": "stream",
     "text": [
      "100%|██████████| 1/1 [00:00<00:00, 1001.98it/s]"
     ]
    },
    {
     "name": "stdout",
     "output_type": "stream",
     "text": [
      "Very mean error\n",
      "Processing...  H:/20220919_chunks/bs6191_down\\bs6191_13downsampledcropped.mp4\n"
     ]
    },
    {
     "name": "stderr",
     "output_type": "stream",
     "text": [
      "\n",
      "c:\\Users\\labgrprattenborg\\Anaconda3\\envs\\DEEPLABCUT\\lib\\site-packages\\deeplabcut\\refine_training_dataset\\stitch.py:676: UserWarning: No optimal solution found. Employing black magic...\n",
      "  warnings.warn(\"No optimal solution found. Employing black magic...\")\n",
      "100%|██████████| 5/5 [00:00<00:00, 5012.31it/s]\n"
     ]
    },
    {
     "name": "stdout",
     "output_type": "stream",
     "text": [
      "Very mean error\n",
      "Processing...  H:/20220919_chunks/bs6191_down\\bs6191_14downsampledcropped.mp4\n"
     ]
    },
    {
     "name": "stderr",
     "output_type": "stream",
     "text": [
      "100%|██████████| 59/59 [00:00<00:00, 2688.95it/s]\n"
     ]
    },
    {
     "name": "stdout",
     "output_type": "stream",
     "text": [
      "Processing...  H:/20220919_chunks/bs6191_down\\bs6191_15downsampledcropped.mp4\n"
     ]
    },
    {
     "name": "stderr",
     "output_type": "stream",
     "text": [
      "100%|██████████| 9/9 [00:00<00:00, 4512.16it/s]"
     ]
    },
    {
     "name": "stdout",
     "output_type": "stream",
     "text": [
      "Very mean error\n"
     ]
    },
    {
     "name": "stderr",
     "output_type": "stream",
     "text": [
      "\n",
      "c:\\Users\\labgrprattenborg\\Anaconda3\\envs\\DEEPLABCUT\\lib\\site-packages\\deeplabcut\\refine_training_dataset\\stitch.py:676: UserWarning: No optimal solution found. Employing black magic...\n",
      "  warnings.warn(\"No optimal solution found. Employing black magic...\")\n"
     ]
    },
    {
     "name": "stdout",
     "output_type": "stream",
     "text": [
      "Processing...  H:/20220919_chunks/bs6191_down\\bs6191_16downsampledcropped.mp4\n"
     ]
    },
    {
     "name": "stderr",
     "output_type": "stream",
     "text": [
      "100%|██████████| 18/18 [00:00<00:00, 3008.23it/s]\n"
     ]
    },
    {
     "name": "stdout",
     "output_type": "stream",
     "text": [
      "Processing...  H:/20220919_chunks/bs6191_down\\bs6191_17downsampledcropped.mp4\n"
     ]
    },
    {
     "name": "stderr",
     "output_type": "stream",
     "text": [
      "100%|██████████| 2/2 [00:00<00:00, 2003.01it/s]\n",
      "c:\\Users\\labgrprattenborg\\Anaconda3\\envs\\DEEPLABCUT\\lib\\site-packages\\deeplabcut\\refine_training_dataset\\stitch.py:676: UserWarning: No optimal solution found. Employing black magic...\n",
      "  warnings.warn(\"No optimal solution found. Employing black magic...\")\n"
     ]
    },
    {
     "name": "stdout",
     "output_type": "stream",
     "text": [
      "Very mean error\n",
      "Processing...  H:/20220919_chunks/bs6191_down\\bs6191_18downsampledcropped.mp4\n"
     ]
    },
    {
     "name": "stderr",
     "output_type": "stream",
     "text": [
      "100%|██████████| 22/22 [00:00<00:00, 3676.87it/s]\n"
     ]
    },
    {
     "name": "stdout",
     "output_type": "stream",
     "text": [
      "Processing...  H:/20220919_chunks/bs6191_down\\bs6191_19downsampledcropped.mp4\n"
     ]
    },
    {
     "name": "stderr",
     "output_type": "stream",
     "text": [
      "100%|██████████| 21/21 [00:00<00:00, 3008.00it/s]\n"
     ]
    },
    {
     "name": "stdout",
     "output_type": "stream",
     "text": [
      "Processing...  H:/20220919_chunks/bs6191_down\\bs6191_1downsampledcropped.mp4\n",
      "Very mean error\n",
      "Processing...  H:/20220919_chunks/bs6191_down\\bs6191_20downsampledcropped.mp4\n"
     ]
    },
    {
     "name": "stderr",
     "output_type": "stream",
     "text": [
      "100%|██████████| 11/11 [00:00<00:00, 5513.54it/s]\n",
      "c:\\Users\\labgrprattenborg\\Anaconda3\\envs\\DEEPLABCUT\\lib\\site-packages\\deeplabcut\\refine_training_dataset\\stitch.py:676: UserWarning: No optimal solution found. Employing black magic...\n",
      "  warnings.warn(\"No optimal solution found. Employing black magic...\")\n"
     ]
    },
    {
     "name": "stdout",
     "output_type": "stream",
     "text": [
      "Very mean error\n",
      "Processing...  H:/20220919_chunks/bs6191_down\\bs6191_21downsampledcropped.mp4\n"
     ]
    },
    {
     "name": "stderr",
     "output_type": "stream",
     "text": [
      "100%|██████████| 6/6 [00:00<00:00, 3008.11it/s]\n"
     ]
    },
    {
     "name": "stdout",
     "output_type": "stream",
     "text": [
      "Very mean error\n",
      "Processing...  H:/20220919_chunks/bs6191_down\\bs6191_22downsampledcropped.mp4\n"
     ]
    },
    {
     "name": "stderr",
     "output_type": "stream",
     "text": [
      "100%|██████████| 4/4 [00:00<00:00, 4009.85it/s]\n"
     ]
    },
    {
     "name": "stdout",
     "output_type": "stream",
     "text": [
      "Very mean error\n",
      "Processing...  H:/20220919_chunks/bs6191_down\\bs6191_23downsampledcropped.mp4\n"
     ]
    },
    {
     "name": "stderr",
     "output_type": "stream",
     "text": [
      "100%|██████████| 7/7 [00:00<00:00, 3509.04it/s]\n"
     ]
    },
    {
     "name": "stdout",
     "output_type": "stream",
     "text": [
      "Very mean error\n",
      "Processing...  H:/20220919_chunks/bs6191_down\\bs6191_24downsampledcropped.mp4\n"
     ]
    },
    {
     "name": "stderr",
     "output_type": "stream",
     "text": [
      "100%|██████████| 13/13 [00:00<00:00, 3258.39it/s]\n"
     ]
    },
    {
     "name": "stdout",
     "output_type": "stream",
     "text": [
      "Very mean error\n",
      "Processing...  H:/20220919_chunks/bs6191_down\\bs6191_25downsampledcropped.mp4\n",
      "Very mean error\n",
      "Processing...  H:/20220919_chunks/bs6191_down\\bs6191_26downsampledcropped.mp4\n",
      "Very mean error\n",
      "Processing...  H:/20220919_chunks/bs6191_down\\bs6191_27downsampledcropped.mp4\n"
     ]
    },
    {
     "name": "stderr",
     "output_type": "stream",
     "text": [
      "100%|██████████| 12/12 [00:00<00:00, 6013.34it/s]\n"
     ]
    },
    {
     "name": "stdout",
     "output_type": "stream",
     "text": [
      "Very mean error\n",
      "Processing...  H:/20220919_chunks/bs6191_down\\bs6191_28downsampledcropped.mp4\n"
     ]
    },
    {
     "name": "stderr",
     "output_type": "stream",
     "text": [
      "100%|██████████| 18/18 [00:00<00:00, 2578.38it/s]\n"
     ]
    },
    {
     "name": "stdout",
     "output_type": "stream",
     "text": [
      "Processing...  H:/20220919_chunks/bs6191_down\\bs6191_29downsampledcropped.mp4\n"
     ]
    },
    {
     "name": "stderr",
     "output_type": "stream",
     "text": [
      "100%|██████████| 3/3 [00:00<?, ?it/s]\n",
      "c:\\Users\\labgrprattenborg\\Anaconda3\\envs\\DEEPLABCUT\\lib\\site-packages\\deeplabcut\\refine_training_dataset\\stitch.py:676: UserWarning: No optimal solution found. Employing black magic...\n",
      "  warnings.warn(\"No optimal solution found. Employing black magic...\")\n"
     ]
    },
    {
     "name": "stdout",
     "output_type": "stream",
     "text": [
      "Very mean error\n",
      "Processing...  H:/20220919_chunks/bs6191_down\\bs6191_2downsampledcropped.mp4\n",
      "Very mean error\n",
      "Processing...  H:/20220919_chunks/bs6191_down\\bs6191_30downsampledcropped.mp4\n"
     ]
    },
    {
     "name": "stderr",
     "output_type": "stream",
     "text": [
      "100%|██████████| 15/15 [00:00<00:00, 3757.66it/s]\n"
     ]
    },
    {
     "name": "stdout",
     "output_type": "stream",
     "text": [
      "Very mean error\n",
      "Processing...  H:/20220919_chunks/bs6191_down\\bs6191_31downsampledcropped.mp4\n"
     ]
    },
    {
     "name": "stderr",
     "output_type": "stream",
     "text": [
      "100%|██████████| 3/3 [00:00<?, ?it/s]"
     ]
    },
    {
     "name": "stdout",
     "output_type": "stream",
     "text": [
      "Very mean error\n"
     ]
    },
    {
     "name": "stderr",
     "output_type": "stream",
     "text": [
      "\n"
     ]
    },
    {
     "name": "stdout",
     "output_type": "stream",
     "text": [
      "Processing...  H:/20220919_chunks/bs6191_down\\bs6191_32downsampledcropped.mp4\n"
     ]
    },
    {
     "name": "stderr",
     "output_type": "stream",
     "text": [
      "100%|██████████| 4/4 [00:00<00:00, 4011.77it/s]"
     ]
    },
    {
     "name": "stdout",
     "output_type": "stream",
     "text": [
      "Very mean error\n",
      "Processing...  H:/20220919_chunks/bs6191_down\\bs6191_33downsampledcropped.mp4\n"
     ]
    },
    {
     "name": "stderr",
     "output_type": "stream",
     "text": [
      "\n",
      "100%|██████████| 3/3 [00:00<00:00, 3007.39it/s]\n"
     ]
    },
    {
     "name": "stdout",
     "output_type": "stream",
     "text": [
      "Very mean error\n",
      "Processing...  H:/20220919_chunks/bs6191_down\\bs6191_34downsampledcropped.mp4\n"
     ]
    },
    {
     "name": "stderr",
     "output_type": "stream",
     "text": [
      "100%|██████████| 4/4 [00:00<00:00, 4010.81it/s]\n"
     ]
    },
    {
     "name": "stdout",
     "output_type": "stream",
     "text": [
      "Very mean error\n",
      "Processing...  H:/20220919_chunks/bs6191_down\\bs6191_35downsampledcropped.mp4\n",
      "Very mean error\n",
      "Processing...  H:/20220919_chunks/bs6191_down\\bs6191_36downsampledcropped.mp4\n",
      "Very mean error\n",
      "Processing...  H:/20220919_chunks/bs6191_down\\bs6191_37downsampledcropped.mp4\n",
      "Very mean error\n",
      "Processing...  H:/20220919_chunks/bs6191_down\\bs6191_38downsampledcropped.mp4\n",
      "Very mean error\n",
      "Processing...  H:/20220919_chunks/bs6191_down\\bs6191_39downsampledcropped.mp4\n",
      "Very mean error\n",
      "Processing...  H:/20220919_chunks/bs6191_down\\bs6191_3downsampledcropped.mp4\n"
     ]
    },
    {
     "name": "stderr",
     "output_type": "stream",
     "text": [
      "100%|██████████| 4/4 [00:00<00:00, 4009.85it/s]\n"
     ]
    },
    {
     "name": "stdout",
     "output_type": "stream",
     "text": [
      "Very mean error\n",
      "Processing...  H:/20220919_chunks/bs6191_down\\bs6191_40downsampledcropped.mp4\n",
      "Very mean error\n",
      "Processing...  H:/20220919_chunks/bs6191_down\\bs6191_41downsampledcropped.mp4\n",
      "Very mean error\n",
      "Processing...  H:/20220919_chunks/bs6191_down\\bs6191_42downsampledcropped.mp4\n",
      "Very mean error\n",
      "Processing...  H:/20220919_chunks/bs6191_down\\bs6191_43downsampledcropped.mp4\n"
     ]
    },
    {
     "name": "stderr",
     "output_type": "stream",
     "text": [
      "100%|██████████| 12/12 [00:00<00:00, 4010.17it/s]\n"
     ]
    },
    {
     "name": "stdout",
     "output_type": "stream",
     "text": [
      "Very mean error\n",
      "Processing...  H:/20220919_chunks/bs6191_down\\bs6191_44downsampledcropped.mp4\n"
     ]
    },
    {
     "name": "stderr",
     "output_type": "stream",
     "text": [
      "100%|██████████| 10/10 [00:00<00:00, 5015.91it/s]\n"
     ]
    },
    {
     "name": "stdout",
     "output_type": "stream",
     "text": [
      "Very mean error\n",
      "Processing...  H:/20220919_chunks/bs6191_down\\bs6191_45downsampledcropped.mp4\n",
      "Very mean error\n",
      "Processing...  H:/20220919_chunks/bs6191_down\\bs6191_46downsampledcropped.mp4\n",
      "Very mean error\n",
      "Processing...  H:/20220919_chunks/bs6191_down\\bs6191_47downsampledcropped.mp4\n"
     ]
    },
    {
     "name": "stderr",
     "output_type": "stream",
     "text": [
      "100%|██████████| 1/1 [00:00<?, ?it/s]\n"
     ]
    },
    {
     "name": "stdout",
     "output_type": "stream",
     "text": [
      "Very mean error\n",
      "Processing...  H:/20220919_chunks/bs6191_down\\bs6191_48downsampledcropped.mp4\n"
     ]
    },
    {
     "name": "stderr",
     "output_type": "stream",
     "text": [
      "100%|██████████| 5/5 [00:00<00:00, 5024.32it/s]\n"
     ]
    },
    {
     "name": "stdout",
     "output_type": "stream",
     "text": [
      "Very mean error\n",
      "Processing...  H:/20220919_chunks/bs6191_down\\bs6191_49downsampledcropped.mp4\n",
      "Very mean error\n",
      "Processing...  H:/20220919_chunks/bs6191_down\\bs6191_4downsampledcropped.mp4\n",
      "Very mean error\n",
      "Processing...  H:/20220919_chunks/bs6191_down\\bs6191_50downsampledcropped.mp4\n"
     ]
    },
    {
     "name": "stderr",
     "output_type": "stream",
     "text": [
      "100%|██████████| 9/9 [00:00<00:00, 3007.63it/s]\n"
     ]
    },
    {
     "name": "stdout",
     "output_type": "stream",
     "text": [
      "Very mean error\n",
      "Processing...  H:/20220919_chunks/bs6191_down\\bs6191_51downsampledcropped.mp4\n",
      "Very mean error\n",
      "Processing...  H:/20220919_chunks/bs6191_down\\bs6191_52downsampledcropped.mp4\n"
     ]
    },
    {
     "name": "stderr",
     "output_type": "stream",
     "text": [
      "100%|██████████| 11/11 [00:00<00:00, 3676.58it/s]"
     ]
    },
    {
     "name": "stdout",
     "output_type": "stream",
     "text": [
      "Very mean error\n",
      "Processing...  H:/20220919_chunks/bs6191_down\\bs6191_53downsampledcropped.mp4\n"
     ]
    },
    {
     "name": "stderr",
     "output_type": "stream",
     "text": [
      "\n"
     ]
    },
    {
     "name": "stdout",
     "output_type": "stream",
     "text": [
      "Very mean error\n",
      "Processing...  H:/20220919_chunks/bs6191_down\\bs6191_54downsampledcropped.mp4\n",
      "Very mean error\n",
      "Processing...  H:/20220919_chunks/bs6191_down\\bs6191_55downsampledcropped.mp4\n",
      "Very mean error\n",
      "Processing...  H:/20220919_chunks/bs6191_down\\bs6191_56downsampledcropped.mp4\n",
      "Very mean error\n",
      "Processing...  H:/20220919_chunks/bs6191_down\\bs6191_57downsampledcropped.mp4\n",
      "Very mean error\n",
      "Processing...  H:/20220919_chunks/bs6191_down\\bs6191_58downsampledcropped.mp4\n",
      "Very mean error\n",
      "Processing...  H:/20220919_chunks/bs6191_down\\bs6191_59downsampledcropped.mp4\n",
      "Very mean error\n",
      "Processing...  H:/20220919_chunks/bs6191_down\\bs6191_5downsampledcropped.mp4\n"
     ]
    },
    {
     "name": "stderr",
     "output_type": "stream",
     "text": [
      "100%|██████████| 1/1 [00:00<?, ?it/s]\n"
     ]
    },
    {
     "name": "stdout",
     "output_type": "stream",
     "text": [
      "Very mean error\n",
      "Processing...  H:/20220919_chunks/bs6191_down\\bs6191_60downsampledcropped.mp4\n",
      "Very mean error\n",
      "Processing...  H:/20220919_chunks/bs6191_down\\bs6191_61downsampledcropped.mp4\n",
      "Very mean error\n",
      "Processing...  H:/20220919_chunks/bs6191_down\\bs6191_62downsampledcropped.mp4\n",
      "Very mean error\n",
      "Processing...  H:/20220919_chunks/bs6191_down\\bs6191_63downsampledcropped.mp4\n",
      "Very mean error\n",
      "Processing...  H:/20220919_chunks/bs6191_down\\bs6191_6downsampledcropped.mp4\n"
     ]
    },
    {
     "name": "stderr",
     "output_type": "stream",
     "text": [
      "100%|██████████| 73/73 [00:00<00:00, 1829.88it/s]\n"
     ]
    },
    {
     "name": "stdout",
     "output_type": "stream",
     "text": [
      "Processing...  H:/20220919_chunks/bs6191_down\\bs6191_7downsampledcropped.mp4\n"
     ]
    },
    {
     "name": "stderr",
     "output_type": "stream",
     "text": [
      "100%|██████████| 3/3 [00:00<00:00, 3010.27it/s]"
     ]
    },
    {
     "name": "stdout",
     "output_type": "stream",
     "text": [
      "Very mean error\n",
      "Processing...  H:/20220919_chunks/bs6191_down\\bs6191_8downsampledcropped.mp4\n"
     ]
    },
    {
     "name": "stderr",
     "output_type": "stream",
     "text": [
      "\n",
      "c:\\Users\\labgrprattenborg\\Anaconda3\\envs\\DEEPLABCUT\\lib\\site-packages\\deeplabcut\\refine_training_dataset\\stitch.py:676: UserWarning: No optimal solution found. Employing black magic...\n",
      "  warnings.warn(\"No optimal solution found. Employing black magic...\")\n",
      "100%|██████████| 6/6 [00:00<00:00, 6016.21it/s]\n"
     ]
    },
    {
     "name": "stdout",
     "output_type": "stream",
     "text": [
      "Very mean error\n",
      "Processing...  H:/20220919_chunks/bs6191_down\\bs6191_9downsampledcropped.mp4\n"
     ]
    },
    {
     "name": "stderr",
     "output_type": "stream",
     "text": [
      "100%|██████████| 22/22 [00:00<00:00, 2205.95it/s]\n"
     ]
    }
   ],
   "source": [
    "lst=[]\n",
    "cwd = 'H:/20220919_chunks/bs6191_down'\n",
    "for file in os.listdir(cwd):\n",
    "    if file.endswith(\"cropped.mp4\"):\n",
    "        lst.append(file)\n",
    "\n",
    "for vids in lst:\n",
    "    try:          \n",
    "        deeplabcut.stitch_tracklets(config_path, os.path.join(cwd, vids), videotype='mp4', shuffle=1, trainingsetindex=0, n_tracks = 17)\n",
    "    except (ValueError,OSError): \n",
    "        print('Very mean error')"
   ]
  },
  {
   "cell_type": "code",
   "execution_count": 65,
   "metadata": {},
   "outputs": [
    {
     "name": "stdout",
     "output_type": "stream",
     "text": [
      "Processing...  H:/20220919_chunks/bs6192_down\\bs6192_10downsampledcropped.mp4\n"
     ]
    },
    {
     "name": "stderr",
     "output_type": "stream",
     "text": [
      "100%|██████████| 8/8 [00:00<00:00, 4010.81it/s]"
     ]
    },
    {
     "name": "stdout",
     "output_type": "stream",
     "text": [
      "Very mean error\n",
      "Processing...  H:/20220919_chunks/bs6192_down\\bs6192_11downsampledcropped.mp4\n"
     ]
    },
    {
     "name": "stderr",
     "output_type": "stream",
     "text": [
      "\n",
      "c:\\Users\\labgrprattenborg\\Anaconda3\\envs\\DEEPLABCUT\\lib\\site-packages\\deeplabcut\\refine_training_dataset\\stitch.py:676: UserWarning: No optimal solution found. Employing black magic...\n",
      "  warnings.warn(\"No optimal solution found. Employing black magic...\")\n",
      "100%|██████████| 10/10 [00:00<00:00, 5011.71it/s]\n"
     ]
    },
    {
     "name": "stdout",
     "output_type": "stream",
     "text": [
      "Very mean error\n",
      "Processing...  H:/20220919_chunks/bs6192_down\\bs6192_12downsampledcropped.mp4\n"
     ]
    },
    {
     "name": "stderr",
     "output_type": "stream",
     "text": [
      "100%|██████████| 9/9 [00:00<00:00, 4512.16it/s]\n"
     ]
    },
    {
     "name": "stdout",
     "output_type": "stream",
     "text": [
      "Very mean error\n",
      "Processing...  H:/20220919_chunks/bs6192_down\\bs6192_13downsampledcropped.mp4\n"
     ]
    },
    {
     "name": "stderr",
     "output_type": "stream",
     "text": [
      "100%|██████████| 6/6 [00:00<00:00, 6017.65it/s]\n"
     ]
    },
    {
     "name": "stdout",
     "output_type": "stream",
     "text": [
      "Very mean error\n",
      "Processing...  H:/20220919_chunks/bs6192_down\\bs6192_14downsampledcropped.mp4\n"
     ]
    },
    {
     "name": "stderr",
     "output_type": "stream",
     "text": [
      "100%|██████████| 10/10 [00:00<00:00, 3342.61it/s]"
     ]
    },
    {
     "name": "stdout",
     "output_type": "stream",
     "text": [
      "Very mean error\n",
      "Processing...  H:/20220919_chunks/bs6192_down\\bs6192_15downsampledcropped.mp4\n"
     ]
    },
    {
     "name": "stderr",
     "output_type": "stream",
     "text": [
      "\n",
      "100%|██████████| 80/80 [00:00<00:00, 2167.98it/s]\n"
     ]
    },
    {
     "name": "stdout",
     "output_type": "stream",
     "text": [
      "Processing...  H:/20220919_chunks/bs6192_down\\bs6192_16downsampledcropped.mp4\n"
     ]
    },
    {
     "name": "stderr",
     "output_type": "stream",
     "text": [
      "100%|██████████| 16/16 [00:00<00:00, 3208.65it/s]"
     ]
    },
    {
     "name": "stdout",
     "output_type": "stream",
     "text": [
      "Very mean error\n",
      "Processing...  H:/20220919_chunks/bs6192_down\\bs6192_17downsampledcropped.mp4\n"
     ]
    },
    {
     "name": "stderr",
     "output_type": "stream",
     "text": [
      "\n",
      "c:\\Users\\labgrprattenborg\\Anaconda3\\envs\\DEEPLABCUT\\lib\\site-packages\\deeplabcut\\refine_training_dataset\\stitch.py:676: UserWarning: No optimal solution found. Employing black magic...\n",
      "  warnings.warn(\"No optimal solution found. Employing black magic...\")\n",
      "100%|██████████| 77/77 [00:00<00:00, 1265.68it/s]\n"
     ]
    },
    {
     "name": "stdout",
     "output_type": "stream",
     "text": [
      "Processing...  H:/20220919_chunks/bs6192_down\\bs6192_18downsampledcropped.mp4\n"
     ]
    },
    {
     "name": "stderr",
     "output_type": "stream",
     "text": [
      "100%|██████████| 4/4 [00:00<00:00, 3998.38it/s]"
     ]
    },
    {
     "name": "stdout",
     "output_type": "stream",
     "text": [
      "Very mean error\n"
     ]
    },
    {
     "name": "stderr",
     "output_type": "stream",
     "text": [
      "\n",
      "c:\\Users\\labgrprattenborg\\Anaconda3\\envs\\DEEPLABCUT\\lib\\site-packages\\deeplabcut\\refine_training_dataset\\stitch.py:676: UserWarning: No optimal solution found. Employing black magic...\n",
      "  warnings.warn(\"No optimal solution found. Employing black magic...\")\n"
     ]
    },
    {
     "name": "stdout",
     "output_type": "stream",
     "text": [
      "Processing...  H:/20220919_chunks/bs6192_down\\bs6192_19downsampledcropped.mp4\n"
     ]
    },
    {
     "name": "stderr",
     "output_type": "stream",
     "text": [
      "100%|██████████| 3/3 [00:00<00:00, 3008.11it/s]"
     ]
    },
    {
     "name": "stdout",
     "output_type": "stream",
     "text": [
      "Very mean error\n",
      "Processing...  H:/20220919_chunks/bs6192_down\\bs6192_1downsampledcropped.mp4\n"
     ]
    },
    {
     "name": "stderr",
     "output_type": "stream",
     "text": [
      "\n"
     ]
    },
    {
     "name": "stdout",
     "output_type": "stream",
     "text": [
      "Very mean error\n",
      "Processing...  H:/20220919_chunks/bs6192_down\\bs6192_20downsampledcropped.mp4\n"
     ]
    },
    {
     "name": "stderr",
     "output_type": "stream",
     "text": [
      "100%|██████████| 18/18 [00:00<00:00, 3007.99it/s]\n"
     ]
    },
    {
     "name": "stdout",
     "output_type": "stream",
     "text": [
      "Processing...  H:/20220919_chunks/bs6192_down\\bs6192_21downsampledcropped.mp4\n"
     ]
    },
    {
     "name": "stderr",
     "output_type": "stream",
     "text": [
      "100%|██████████| 19/19 [00:00<00:00, 3175.22it/s]\n"
     ]
    },
    {
     "name": "stdout",
     "output_type": "stream",
     "text": [
      "Processing...  H:/20220919_chunks/bs6192_down\\bs6192_22downsampledcropped.mp4\n"
     ]
    },
    {
     "name": "stderr",
     "output_type": "stream",
     "text": [
      "100%|██████████| 15/15 [00:00<00:00, 3008.11it/s]\n",
      "c:\\Users\\labgrprattenborg\\Anaconda3\\envs\\DEEPLABCUT\\lib\\site-packages\\deeplabcut\\refine_training_dataset\\stitch.py:676: UserWarning: No optimal solution found. Employing black magic...\n",
      "  warnings.warn(\"No optimal solution found. Employing black magic...\")\n"
     ]
    },
    {
     "name": "stdout",
     "output_type": "stream",
     "text": [
      "Very mean error\n",
      "Processing...  H:/20220919_chunks/bs6192_down\\bs6192_23downsampledcropped.mp4\n"
     ]
    },
    {
     "name": "stderr",
     "output_type": "stream",
     "text": [
      "100%|██████████| 10/10 [00:00<00:00, 5014.11it/s]\n"
     ]
    },
    {
     "name": "stdout",
     "output_type": "stream",
     "text": [
      "Very mean error\n",
      "Processing...  H:/20220919_chunks/bs6192_down\\bs6192_24downsampledcropped.mp4\n"
     ]
    },
    {
     "name": "stderr",
     "output_type": "stream",
     "text": [
      "100%|██████████| 5/5 [00:00<00:00, 2506.16it/s]\n"
     ]
    },
    {
     "name": "stdout",
     "output_type": "stream",
     "text": [
      "Very mean error\n",
      "Processing...  H:/20220919_chunks/bs6192_down\\bs6192_25downsampledcropped.mp4\n"
     ]
    },
    {
     "name": "stderr",
     "output_type": "stream",
     "text": [
      "100%|██████████| 1/1 [00:00<00:00, 999.36it/s]\n"
     ]
    },
    {
     "name": "stdout",
     "output_type": "stream",
     "text": [
      "Very mean error\n",
      "Processing...  H:/20220919_chunks/bs6192_down\\bs6192_26downsampledcropped.mp4\n"
     ]
    },
    {
     "name": "stderr",
     "output_type": "stream",
     "text": [
      "100%|██████████| 3/3 [00:00<00:00, 3000.22it/s]\n"
     ]
    },
    {
     "name": "stdout",
     "output_type": "stream",
     "text": [
      "Very mean error\n",
      "Processing...  H:/20220919_chunks/bs6192_down\\bs6192_27downsampledcropped.mp4\n",
      "Very mean error\n",
      "Processing...  H:/20220919_chunks/bs6192_down\\bs6192_28downsampledcropped.mp4\n",
      "Very mean error\n",
      "Processing...  H:/20220919_chunks/bs6192_down\\bs6192_29downsampledcropped.mp4\n",
      "Very mean error\n",
      "Processing...  H:/20220919_chunks/bs6192_down\\bs6192_2downsampledcropped.mp4\n"
     ]
    },
    {
     "name": "stderr",
     "output_type": "stream",
     "text": [
      "100%|██████████| 1/1 [00:00<?, ?it/s]"
     ]
    },
    {
     "name": "stdout",
     "output_type": "stream",
     "text": [
      "Very mean error\n"
     ]
    },
    {
     "name": "stderr",
     "output_type": "stream",
     "text": [
      "\n"
     ]
    },
    {
     "name": "stdout",
     "output_type": "stream",
     "text": [
      "Processing...  H:/20220919_chunks/bs6192_down\\bs6192_30downsampledcropped.mp4\n"
     ]
    },
    {
     "name": "stderr",
     "output_type": "stream",
     "text": [
      "100%|██████████| 10/10 [00:00<00:00, 3342.07it/s]\n"
     ]
    },
    {
     "name": "stdout",
     "output_type": "stream",
     "text": [
      "Very mean error\n",
      "Processing...  H:/20220919_chunks/bs6192_down\\bs6192_31downsampledcropped.mp4\n"
     ]
    },
    {
     "name": "stderr",
     "output_type": "stream",
     "text": [
      "100%|██████████| 9/9 [00:00<00:00, 4505.70it/s]"
     ]
    },
    {
     "name": "stdout",
     "output_type": "stream",
     "text": [
      "Very mean error\n",
      "Processing...  H:/20220919_chunks/bs6192_down\\bs6192_32downsampledcropped.mp4\n"
     ]
    },
    {
     "name": "stderr",
     "output_type": "stream",
     "text": [
      "\n"
     ]
    },
    {
     "name": "stdout",
     "output_type": "stream",
     "text": [
      "Very mean error\n",
      "Processing...  H:/20220919_chunks/bs6192_down\\bs6192_33downsampledcropped.mp4\n",
      "Very mean error\n",
      "Processing...  H:/20220919_chunks/bs6192_down\\bs6192_34downsampledcropped.mp4\n",
      "Very mean error\n",
      "Processing...  H:/20220919_chunks/bs6192_down\\bs6192_35downsampledcropped.mp4\n"
     ]
    },
    {
     "name": "stderr",
     "output_type": "stream",
     "text": [
      "100%|██████████| 11/11 [00:00<00:00, 3676.58it/s]\n"
     ]
    },
    {
     "name": "stdout",
     "output_type": "stream",
     "text": [
      "Very mean error\n",
      "Processing...  H:/20220919_chunks/bs6192_down\\bs6192_36downsampledcropped.mp4\n",
      "Very mean error\n",
      "Processing...  H:/20220919_chunks/bs6192_down\\bs6192_37downsampledcropped.mp4\n",
      "Very mean error\n",
      "Processing...  H:/20220919_chunks/bs6192_down\\bs6192_38downsampledcropped.mp4\n"
     ]
    },
    {
     "name": "stderr",
     "output_type": "stream",
     "text": [
      "100%|██████████| 14/14 [00:00<00:00, 3506.73it/s]\n"
     ]
    },
    {
     "name": "stdout",
     "output_type": "stream",
     "text": [
      "Very mean error\n",
      "Processing...  H:/20220919_chunks/bs6192_down\\bs6192_39downsampledcropped.mp4\n",
      "Very mean error\n",
      "Processing...  H:/20220919_chunks/bs6192_down\\bs6192_3downsampledcropped.mp4\n",
      "Very mean error\n",
      "Processing...  H:/20220919_chunks/bs6192_down\\bs6192_40downsampledcropped.mp4\n",
      "Very mean error\n",
      "Processing...  H:/20220919_chunks/bs6192_down\\bs6192_41downsampledcropped.mp4\n",
      "Very mean error\n",
      "Processing...  H:/20220919_chunks/bs6192_down\\bs6192_42downsampledcropped.mp4\n",
      "Very mean error\n",
      "Processing...  H:/20220919_chunks/bs6192_down\\bs6192_43downsampledcropped.mp4\n",
      "Very mean error\n",
      "Processing...  H:/20220919_chunks/bs6192_down\\bs6192_44downsampledcropped.mp4\n",
      "Very mean error\n",
      "Processing...  H:/20220919_chunks/bs6192_down\\bs6192_4downsampledcropped.mp4\n"
     ]
    },
    {
     "name": "stderr",
     "output_type": "stream",
     "text": [
      "100%|██████████| 7/7 [00:00<00:00, 3508.62it/s]\n"
     ]
    },
    {
     "name": "stdout",
     "output_type": "stream",
     "text": [
      "Very mean error\n",
      "Processing...  H:/20220919_chunks/bs6192_down\\bs6192_5downsampledcropped.mp4\n"
     ]
    },
    {
     "name": "stderr",
     "output_type": "stream",
     "text": [
      "100%|██████████| 54/54 [00:00<00:00, 2005.35it/s]\n"
     ]
    },
    {
     "name": "stdout",
     "output_type": "stream",
     "text": [
      "Processing...  H:/20220919_chunks/bs6192_down\\bs6192_6downsampledcropped.mp4\n",
      "Very mean error\n",
      "Processing...  H:/20220919_chunks/bs6192_down\\bs6192_7downsampledcropped.mp4\n"
     ]
    },
    {
     "name": "stderr",
     "output_type": "stream",
     "text": [
      "100%|██████████| 11/11 [00:00<00:00, 2757.76it/s]\n",
      "c:\\Users\\labgrprattenborg\\Anaconda3\\envs\\DEEPLABCUT\\lib\\site-packages\\deeplabcut\\refine_training_dataset\\stitch.py:676: UserWarning: No optimal solution found. Employing black magic...\n",
      "  warnings.warn(\"No optimal solution found. Employing black magic...\")\n"
     ]
    },
    {
     "name": "stdout",
     "output_type": "stream",
     "text": [
      "Very mean error\n",
      "Processing...  H:/20220919_chunks/bs6192_down\\bs6192_8downsampledcropped.mp4\n"
     ]
    },
    {
     "name": "stderr",
     "output_type": "stream",
     "text": [
      "100%|██████████| 27/27 [00:00<00:00, 2255.95it/s]\n"
     ]
    },
    {
     "name": "stdout",
     "output_type": "stream",
     "text": [
      "Processing...  H:/20220919_chunks/bs6192_down\\bs6192_9downsampledcropped.mp4\n"
     ]
    },
    {
     "name": "stderr",
     "output_type": "stream",
     "text": [
      "100%|██████████| 1/1 [00:00<?, ?it/s]"
     ]
    },
    {
     "name": "stdout",
     "output_type": "stream",
     "text": [
      "Very mean error\n"
     ]
    },
    {
     "name": "stderr",
     "output_type": "stream",
     "text": [
      "\n",
      "c:\\Users\\labgrprattenborg\\Anaconda3\\envs\\DEEPLABCUT\\lib\\site-packages\\deeplabcut\\refine_training_dataset\\stitch.py:676: UserWarning: No optimal solution found. Employing black magic...\n",
      "  warnings.warn(\"No optimal solution found. Employing black magic...\")\n"
     ]
    }
   ],
   "source": [
    "lst=[]\n",
    "cwd = 'H:/20220919_chunks/bs6192_down'\n",
    "for file in os.listdir(cwd):\n",
    "    if file.endswith(\"cropped.mp4\"):\n",
    "        lst.append(file)\n",
    "\n",
    "for vids in lst:\n",
    "    try:          \n",
    "        deeplabcut.stitch_tracklets(config_path, os.path.join(cwd, vids), videotype='mp4', shuffle=1, trainingsetindex=0, n_tracks = 17)\n",
    "    except (ValueError,OSError): \n",
    "        print('Very mean error')"
   ]
  },
  {
   "cell_type": "code",
   "execution_count": 66,
   "metadata": {},
   "outputs": [
    {
     "name": "stdout",
     "output_type": "stream",
     "text": [
      "Processing...  H:/20220919_chunks/bs6193_down\\bs6193_10downsampledcropped.mp4\n"
     ]
    },
    {
     "name": "stderr",
     "output_type": "stream",
     "text": [
      "100%|██████████| 4/4 [00:00<00:00, 2005.17it/s]"
     ]
    },
    {
     "name": "stdout",
     "output_type": "stream",
     "text": [
      "Very mean error\n",
      "Processing...  H:/20220919_chunks/bs6193_down\\bs6193_11downsampledcropped.mp4\n"
     ]
    },
    {
     "name": "stderr",
     "output_type": "stream",
     "text": [
      "\n"
     ]
    },
    {
     "name": "stdout",
     "output_type": "stream",
     "text": [
      "Very mean error\n",
      "Processing...  H:/20220919_chunks/bs6193_down\\bs6193_12downsampledcropped.mp4\n"
     ]
    },
    {
     "name": "stderr",
     "output_type": "stream",
     "text": [
      "100%|██████████| 13/13 [00:00<00:00, 3258.78it/s]\n"
     ]
    },
    {
     "name": "stdout",
     "output_type": "stream",
     "text": [
      "Very mean error\n",
      "Processing...  H:/20220919_chunks/bs6193_down\\bs6193_13downsampledcropped.mp4\n"
     ]
    },
    {
     "name": "stderr",
     "output_type": "stream",
     "text": [
      "100%|██████████| 71/71 [00:00<00:00, 1655.56it/s]\n"
     ]
    },
    {
     "name": "stdout",
     "output_type": "stream",
     "text": [
      "Processing...  H:/20220919_chunks/bs6193_down\\bs6193_14downsampledcropped.mp4\n",
      "Very mean error\n",
      "Processing...  H:/20220919_chunks/bs6193_down\\bs6193_15downsampledcropped.mp4\n"
     ]
    },
    {
     "name": "stderr",
     "output_type": "stream",
     "text": [
      "100%|██████████| 49/49 [00:00<00:00, 2233.17it/s]\n"
     ]
    },
    {
     "name": "stdout",
     "output_type": "stream",
     "text": [
      "Processing...  H:/20220919_chunks/bs6193_down\\bs6193_16downsampledcropped.mp4\n"
     ]
    },
    {
     "name": "stderr",
     "output_type": "stream",
     "text": [
      "100%|██████████| 23/23 [00:00<00:00, 3294.26it/s]\n"
     ]
    },
    {
     "name": "stdout",
     "output_type": "stream",
     "text": [
      "Processing...  H:/20220919_chunks/bs6193_down\\bs6193_17downsampledcropped.mp4\n"
     ]
    },
    {
     "name": "stderr",
     "output_type": "stream",
     "text": [
      "100%|██████████| 3/3 [00:00<00:00, 3007.39it/s]\n",
      "c:\\Users\\labgrprattenborg\\Anaconda3\\envs\\DEEPLABCUT\\lib\\site-packages\\deeplabcut\\refine_training_dataset\\stitch.py:676: UserWarning: No optimal solution found. Employing black magic...\n",
      "  warnings.warn(\"No optimal solution found. Employing black magic...\")\n"
     ]
    },
    {
     "name": "stdout",
     "output_type": "stream",
     "text": [
      "Very mean error\n",
      "Processing...  H:/20220919_chunks/bs6193_down\\bs6193_18downsampledcropped.mp4\n"
     ]
    },
    {
     "name": "stderr",
     "output_type": "stream",
     "text": [
      "100%|██████████| 6/6 [00:00<00:00, 3007.39it/s]\n"
     ]
    },
    {
     "name": "stdout",
     "output_type": "stream",
     "text": [
      "Very mean error\n",
      "Processing...  H:/20220919_chunks/bs6193_down\\bs6193_19downsampledcropped.mp4\n"
     ]
    },
    {
     "name": "stderr",
     "output_type": "stream",
     "text": [
      "100%|██████████| 64/64 [00:00<00:00, 2291.70it/s]\n"
     ]
    },
    {
     "name": "stdout",
     "output_type": "stream",
     "text": [
      "Processing...  H:/20220919_chunks/bs6193_down\\bs6193_1downsampledcropped.mp4\n",
      "Very mean error\n",
      "Processing...  H:/20220919_chunks/bs6193_down\\bs6193_20downsampledcropped.mp4\n",
      "Very mean error\n",
      "Processing...  H:/20220919_chunks/bs6193_down\\bs6193_21downsampledcropped.mp4\n"
     ]
    },
    {
     "name": "stderr",
     "output_type": "stream",
     "text": [
      "100%|██████████| 36/36 [00:00<00:00, 2776.71it/s]\n"
     ]
    },
    {
     "name": "stdout",
     "output_type": "stream",
     "text": [
      "Processing...  H:/20220919_chunks/bs6193_down\\bs6193_22downsampledcropped.mp4\n"
     ]
    },
    {
     "name": "stderr",
     "output_type": "stream",
     "text": [
      "100%|██████████| 13/13 [00:00<00:00, 3258.78it/s]\n",
      "c:\\Users\\labgrprattenborg\\Anaconda3\\envs\\DEEPLABCUT\\lib\\site-packages\\deeplabcut\\refine_training_dataset\\stitch.py:676: UserWarning: No optimal solution found. Employing black magic...\n",
      "  warnings.warn(\"No optimal solution found. Employing black magic...\")\n"
     ]
    },
    {
     "name": "stdout",
     "output_type": "stream",
     "text": [
      "Very mean error\n",
      "Processing...  H:/20220919_chunks/bs6193_down\\bs6193_23downsampledcropped.mp4\n"
     ]
    },
    {
     "name": "stderr",
     "output_type": "stream",
     "text": [
      "100%|██████████| 81/81 [00:00<00:00, 1933.71it/s]\n"
     ]
    },
    {
     "name": "stdout",
     "output_type": "stream",
     "text": [
      "Processing...  H:/20220919_chunks/bs6193_down\\bs6193_24downsampledcropped.mp4\n"
     ]
    },
    {
     "name": "stderr",
     "output_type": "stream",
     "text": [
      "100%|██████████| 8/8 [00:00<00:00, 4010.33it/s]"
     ]
    },
    {
     "name": "stdout",
     "output_type": "stream",
     "text": [
      "Very mean error\n",
      "Processing...  H:/20220919_chunks/bs6193_down\\bs6193_25downsampledcropped.mp4\n"
     ]
    },
    {
     "name": "stderr",
     "output_type": "stream",
     "text": [
      "\n",
      "c:\\Users\\labgrprattenborg\\Anaconda3\\envs\\DEEPLABCUT\\lib\\site-packages\\deeplabcut\\refine_training_dataset\\stitch.py:676: UserWarning: No optimal solution found. Employing black magic...\n",
      "  warnings.warn(\"No optimal solution found. Employing black magic...\")\n",
      "100%|██████████| 9/9 [00:00<00:00, 4510.54it/s]\n"
     ]
    },
    {
     "name": "stdout",
     "output_type": "stream",
     "text": [
      "Very mean error\n",
      "Processing...  H:/20220919_chunks/bs6193_down\\bs6193_26downsampledcropped.mp4\n"
     ]
    },
    {
     "name": "stderr",
     "output_type": "stream",
     "text": [
      "100%|██████████| 34/34 [00:00<00:00, 2272.68it/s]\n"
     ]
    },
    {
     "name": "stdout",
     "output_type": "stream",
     "text": [
      "Processing...  H:/20220919_chunks/bs6193_down\\bs6193_27downsampledcropped.mp4\n"
     ]
    },
    {
     "name": "stderr",
     "output_type": "stream",
     "text": [
      "100%|██████████| 31/31 [00:00<00:00, 3107.26it/s]\n"
     ]
    },
    {
     "name": "stdout",
     "output_type": "stream",
     "text": [
      "Processing...  H:/20220919_chunks/bs6193_down\\bs6193_28downsampledcropped.mp4\n",
      "Very mean error\n",
      "Processing...  H:/20220919_chunks/bs6193_down\\bs6193_29downsampledcropped.mp4\n"
     ]
    },
    {
     "name": "stderr",
     "output_type": "stream",
     "text": [
      "100%|██████████| 5/5 [00:00<00:00, 5012.31it/s]\n",
      "c:\\Users\\labgrprattenborg\\Anaconda3\\envs\\DEEPLABCUT\\lib\\site-packages\\deeplabcut\\refine_training_dataset\\stitch.py:676: UserWarning: No optimal solution found. Employing black magic...\n",
      "  warnings.warn(\"No optimal solution found. Employing black magic...\")\n"
     ]
    },
    {
     "name": "stdout",
     "output_type": "stream",
     "text": [
      "Very mean error\n",
      "Processing...  H:/20220919_chunks/bs6193_down\\bs6193_2downsampledcropped.mp4\n",
      "Very mean error\n",
      "Processing...  H:/20220919_chunks/bs6193_down\\bs6193_30downsampledcropped.mp4\n"
     ]
    },
    {
     "name": "stderr",
     "output_type": "stream",
     "text": [
      "100%|██████████| 12/12 [00:00<00:00, 4007.30it/s]"
     ]
    },
    {
     "name": "stdout",
     "output_type": "stream",
     "text": [
      "Very mean error\n"
     ]
    },
    {
     "name": "stderr",
     "output_type": "stream",
     "text": [
      "\n"
     ]
    },
    {
     "name": "stdout",
     "output_type": "stream",
     "text": [
      "Processing...  H:/20220919_chunks/bs6193_down\\bs6193_31downsampledcropped.mp4\n",
      "Very mean error\n",
      "Processing...  H:/20220919_chunks/bs6193_down\\bs6193_32downsampledcropped.mp4\n"
     ]
    },
    {
     "name": "stderr",
     "output_type": "stream",
     "text": [
      "100%|██████████| 28/28 [00:00<00:00, 2807.63it/s]\n"
     ]
    },
    {
     "name": "stdout",
     "output_type": "stream",
     "text": [
      "Processing...  H:/20220919_chunks/bs6193_down\\bs6193_33downsampledcropped.mp4\n"
     ]
    },
    {
     "name": "stderr",
     "output_type": "stream",
     "text": [
      "100%|██████████| 21/21 [00:00<00:00, 3008.11it/s]\n"
     ]
    },
    {
     "name": "stdout",
     "output_type": "stream",
     "text": [
      "Processing...  H:/20220919_chunks/bs6193_down\\bs6193_34downsampledcropped.mp4\n"
     ]
    },
    {
     "name": "stderr",
     "output_type": "stream",
     "text": [
      "100%|██████████| 40/40 [00:00<00:00, 3342.21it/s]\n"
     ]
    },
    {
     "name": "stdout",
     "output_type": "stream",
     "text": [
      "Processing...  H:/20220919_chunks/bs6193_down\\bs6193_35downsampledcropped.mp4\n"
     ]
    },
    {
     "name": "stderr",
     "output_type": "stream",
     "text": [
      "100%|██████████| 9/9 [00:00<00:00, 3007.39it/s]"
     ]
    },
    {
     "name": "stdout",
     "output_type": "stream",
     "text": [
      "Very mean error\n"
     ]
    },
    {
     "name": "stderr",
     "output_type": "stream",
     "text": [
      "\n",
      "c:\\Users\\labgrprattenborg\\Anaconda3\\envs\\DEEPLABCUT\\lib\\site-packages\\deeplabcut\\refine_training_dataset\\stitch.py:676: UserWarning: No optimal solution found. Employing black magic...\n",
      "  warnings.warn(\"No optimal solution found. Employing black magic...\")\n"
     ]
    },
    {
     "name": "stdout",
     "output_type": "stream",
     "text": [
      "Processing...  H:/20220919_chunks/bs6193_down\\bs6193_36downsampledcropped.mp4\n"
     ]
    },
    {
     "name": "stderr",
     "output_type": "stream",
     "text": [
      "100%|██████████| 18/18 [00:00<00:00, 4512.16it/s]\n"
     ]
    },
    {
     "name": "stdout",
     "output_type": "stream",
     "text": [
      "Processing...  H:/20220919_chunks/bs6193_down\\bs6193_37downsampledcropped.mp4\n"
     ]
    },
    {
     "name": "stderr",
     "output_type": "stream",
     "text": [
      "100%|██████████| 16/16 [00:00<00:00, 4010.57it/s]"
     ]
    },
    {
     "name": "stdout",
     "output_type": "stream",
     "text": [
      "Very mean error\n",
      "Processing...  H:/20220919_chunks/bs6193_down\\bs6193_38downsampledcropped.mp4\n"
     ]
    },
    {
     "name": "stderr",
     "output_type": "stream",
     "text": [
      "\n",
      "c:\\Users\\labgrprattenborg\\Anaconda3\\envs\\DEEPLABCUT\\lib\\site-packages\\deeplabcut\\refine_training_dataset\\stitch.py:676: UserWarning: No optimal solution found. Employing black magic...\n",
      "  warnings.warn(\"No optimal solution found. Employing black magic...\")\n",
      "100%|██████████| 16/16 [00:00<00:00, 2673.66it/s]\n",
      "c:\\Users\\labgrprattenborg\\Anaconda3\\envs\\DEEPLABCUT\\lib\\site-packages\\deeplabcut\\refine_training_dataset\\stitch.py:676: UserWarning: No optimal solution found. Employing black magic...\n",
      "  warnings.warn(\"No optimal solution found. Employing black magic...\")\n"
     ]
    },
    {
     "name": "stdout",
     "output_type": "stream",
     "text": [
      "Very mean error\n",
      "Processing...  H:/20220919_chunks/bs6193_down\\bs6193_39downsampledcropped.mp4\n",
      "Very mean error\n",
      "Processing...  H:/20220919_chunks/bs6193_down\\bs6193_3downsampledcropped.mp4\n",
      "Very mean error\n",
      "Processing...  H:/20220919_chunks/bs6193_down\\bs6193_40downsampledcropped.mp4\n"
     ]
    },
    {
     "name": "stderr",
     "output_type": "stream",
     "text": [
      "100%|██████████| 45/45 [00:00<00:00, 4101.16it/s]\n"
     ]
    },
    {
     "name": "stdout",
     "output_type": "stream",
     "text": [
      "Processing...  H:/20220919_chunks/bs6193_down\\bs6193_41downsampledcropped.mp4\n"
     ]
    },
    {
     "name": "stderr",
     "output_type": "stream",
     "text": [
      "100%|██████████| 11/11 [00:00<00:00, 5513.54it/s]"
     ]
    },
    {
     "name": "stdout",
     "output_type": "stream",
     "text": [
      "Very mean error\n"
     ]
    },
    {
     "name": "stderr",
     "output_type": "stream",
     "text": [
      "\n",
      "c:\\Users\\labgrprattenborg\\Anaconda3\\envs\\DEEPLABCUT\\lib\\site-packages\\deeplabcut\\refine_training_dataset\\stitch.py:676: UserWarning: No optimal solution found. Employing black magic...\n",
      "  warnings.warn(\"No optimal solution found. Employing black magic...\")\n"
     ]
    },
    {
     "name": "stdout",
     "output_type": "stream",
     "text": [
      "Processing...  H:/20220919_chunks/bs6193_down\\bs6193_42downsampledcropped.mp4\n"
     ]
    },
    {
     "name": "stderr",
     "output_type": "stream",
     "text": [
      "100%|██████████| 3/3 [00:00<?, ?it/s]"
     ]
    },
    {
     "name": "stdout",
     "output_type": "stream",
     "text": [
      "Very mean error\n"
     ]
    },
    {
     "name": "stderr",
     "output_type": "stream",
     "text": [
      "\n"
     ]
    },
    {
     "name": "stdout",
     "output_type": "stream",
     "text": [
      "Processing...  H:/20220919_chunks/bs6193_down\\bs6193_43downsampledcropped.mp4\n"
     ]
    },
    {
     "name": "stderr",
     "output_type": "stream",
     "text": [
      "100%|██████████| 1/1 [00:00<?, ?it/s]\n"
     ]
    },
    {
     "name": "stdout",
     "output_type": "stream",
     "text": [
      "Very mean error\n",
      "Processing...  H:/20220919_chunks/bs6193_down\\bs6193_44downsampledcropped.mp4\n",
      "Very mean error\n",
      "Processing...  H:/20220919_chunks/bs6193_down\\bs6193_45downsampledcropped.mp4\n",
      "Very mean error\n",
      "Processing...  H:/20220919_chunks/bs6193_down\\bs6193_46downsampledcropped.mp4\n",
      "Very mean error\n",
      "Processing...  H:/20220919_chunks/bs6193_down\\bs6193_47downsampledcropped.mp4\n",
      "Very mean error\n",
      "Processing...  H:/20220919_chunks/bs6193_down\\bs6193_48downsampledcropped.mp4\n"
     ]
    },
    {
     "name": "stderr",
     "output_type": "stream",
     "text": [
      "100%|██████████| 4/4 [00:00<00:00, 4010.81it/s]"
     ]
    },
    {
     "name": "stdout",
     "output_type": "stream",
     "text": [
      "Very mean error\n"
     ]
    },
    {
     "name": "stderr",
     "output_type": "stream",
     "text": [
      "\n"
     ]
    },
    {
     "name": "stdout",
     "output_type": "stream",
     "text": [
      "Processing...  H:/20220919_chunks/bs6193_down\\bs6193_49downsampledcropped.mp4\n"
     ]
    },
    {
     "name": "stderr",
     "output_type": "stream",
     "text": [
      "100%|██████████| 35/35 [00:00<00:00, 2699.58it/s]\n"
     ]
    },
    {
     "name": "stdout",
     "output_type": "stream",
     "text": [
      "Processing...  H:/20220919_chunks/bs6193_down\\bs6193_4downsampledcropped.mp4\n",
      "Very mean error\n",
      "Processing...  H:/20220919_chunks/bs6193_down\\bs6193_50downsampledcropped.mp4\n",
      "Very mean error\n",
      "Processing...  H:/20220919_chunks/bs6193_down\\bs6193_51downsampledcropped.mp4\n"
     ]
    },
    {
     "name": "stderr",
     "output_type": "stream",
     "text": [
      "100%|██████████| 9/9 [00:00<00:00, 4510.00it/s]"
     ]
    },
    {
     "name": "stdout",
     "output_type": "stream",
     "text": [
      "Very mean error\n",
      "Processing...  H:/20220919_chunks/bs6193_down\\bs6193_52downsampledcropped.mp4\n"
     ]
    },
    {
     "name": "stderr",
     "output_type": "stream",
     "text": [
      "\n",
      "c:\\Users\\labgrprattenborg\\Anaconda3\\envs\\DEEPLABCUT\\lib\\site-packages\\deeplabcut\\refine_training_dataset\\stitch.py:676: UserWarning: No optimal solution found. Employing black magic...\n",
      "  warnings.warn(\"No optimal solution found. Employing black magic...\")\n",
      "100%|██████████| 26/26 [00:00<00:00, 3257.61it/s]\n"
     ]
    },
    {
     "name": "stdout",
     "output_type": "stream",
     "text": [
      "Processing...  H:/20220919_chunks/bs6193_down\\bs6193_53downsampledcropped.mp4\n"
     ]
    },
    {
     "name": "stderr",
     "output_type": "stream",
     "text": [
      "100%|██████████| 5/5 [00:00<00:00, 2506.76it/s]"
     ]
    },
    {
     "name": "stdout",
     "output_type": "stream",
     "text": [
      "Very mean error\n",
      "Processing...  H:/20220919_chunks/bs6193_down\\bs6193_54downsampledcropped.mp4\n"
     ]
    },
    {
     "name": "stderr",
     "output_type": "stream",
     "text": [
      "\n",
      "c:\\Users\\labgrprattenborg\\Anaconda3\\envs\\DEEPLABCUT\\lib\\site-packages\\deeplabcut\\refine_training_dataset\\stitch.py:676: UserWarning: No optimal solution found. Employing black magic...\n",
      "  warnings.warn(\"No optimal solution found. Employing black magic...\")\n",
      "100%|██████████| 15/15 [00:00<00:00, 3760.36it/s]\n"
     ]
    },
    {
     "name": "stdout",
     "output_type": "stream",
     "text": [
      "Very mean error\n",
      "Processing...  H:/20220919_chunks/bs6193_down\\bs6193_55downsampledcropped.mp4\n"
     ]
    },
    {
     "name": "stderr",
     "output_type": "stream",
     "text": [
      "100%|██████████| 5/5 [00:00<00:00, 5013.51it/s]\n"
     ]
    },
    {
     "name": "stdout",
     "output_type": "stream",
     "text": [
      "Very mean error\n",
      "Processing...  H:/20220919_chunks/bs6193_down\\bs6193_56downsampledcropped.mp4\n"
     ]
    },
    {
     "name": "stderr",
     "output_type": "stream",
     "text": [
      "100%|██████████| 6/6 [00:00<00:00, 3008.11it/s]\n"
     ]
    },
    {
     "name": "stdout",
     "output_type": "stream",
     "text": [
      "Very mean error\n",
      "Processing...  H:/20220919_chunks/bs6193_down\\bs6193_57downsampledcropped.mp4\n"
     ]
    },
    {
     "name": "stderr",
     "output_type": "stream",
     "text": [
      "100%|██████████| 12/12 [00:00<00:00, 4016.57it/s]\n"
     ]
    },
    {
     "name": "stdout",
     "output_type": "stream",
     "text": [
      "Very mean error\n",
      "Processing...  H:/20220919_chunks/bs6193_down\\bs6193_58downsampledcropped.mp4\n",
      "Very mean error\n",
      "Processing...  H:/20220919_chunks/bs6193_down\\bs6193_59downsampledcropped.mp4\n",
      "Very mean error\n",
      "Processing...  H:/20220919_chunks/bs6193_down\\bs6193_5downsampledcropped.mp4\n",
      "Very mean error\n",
      "Processing...  H:/20220919_chunks/bs6193_down\\bs6193_60downsampledcropped.mp4\n",
      "Very mean error\n",
      "Processing...  H:/20220919_chunks/bs6193_down\\bs6193_61downsampledcropped.mp4\n",
      "Very mean error\n",
      "Processing...  H:/20220919_chunks/bs6193_down\\bs6193_62downsampledcropped.mp4\n",
      "Very mean error\n",
      "Processing...  H:/20220919_chunks/bs6193_down\\bs6193_63downsampledcropped.mp4\n",
      "Very mean error\n",
      "Processing...  H:/20220919_chunks/bs6193_down\\bs6193_64downsampledcropped.mp4\n",
      "Very mean error\n",
      "Processing...  H:/20220919_chunks/bs6193_down\\bs6193_6downsampledcropped.mp4\n"
     ]
    },
    {
     "name": "stderr",
     "output_type": "stream",
     "text": [
      "100%|██████████| 141/141 [00:00<00:00, 948.83it/s]\n"
     ]
    },
    {
     "name": "stdout",
     "output_type": "stream",
     "text": [
      "Processing...  H:/20220919_chunks/bs6193_down\\bs6193_7downsampledcropped.mp4\n",
      "Very mean error\n",
      "Processing...  H:/20220919_chunks/bs6193_down\\bs6193_8downsampledcropped.mp4\n",
      "Very mean error\n",
      "Processing...  H:/20220919_chunks/bs6193_down\\bs6193_9downsampledcropped.mp4\n"
     ]
    },
    {
     "name": "stderr",
     "output_type": "stream",
     "text": [
      "100%|██████████| 12/12 [00:00<00:00, 2406.26it/s]"
     ]
    },
    {
     "name": "stdout",
     "output_type": "stream",
     "text": [
      "Very mean error\n"
     ]
    },
    {
     "name": "stderr",
     "output_type": "stream",
     "text": [
      "\n",
      "c:\\Users\\labgrprattenborg\\Anaconda3\\envs\\DEEPLABCUT\\lib\\site-packages\\deeplabcut\\refine_training_dataset\\stitch.py:676: UserWarning: No optimal solution found. Employing black magic...\n",
      "  warnings.warn(\"No optimal solution found. Employing black magic...\")\n"
     ]
    }
   ],
   "source": [
    "lst=[]\n",
    "cwd = 'H:/20220919_chunks/bs6193_down'\n",
    "for file in os.listdir(cwd):\n",
    "    if file.endswith(\"cropped.mp4\"):\n",
    "        lst.append(file)\n",
    "\n",
    "for vids in lst:\n",
    "    try:          \n",
    "        deeplabcut.stitch_tracklets(config_path, os.path.join(cwd, vids), videotype='mp4', shuffle=1, trainingsetindex=0, n_tracks = 17)\n",
    "    except (ValueError,OSError): \n",
    "        print('Very mean error')"
   ]
  },
  {
   "cell_type": "code",
   "execution_count": 67,
   "metadata": {},
   "outputs": [
    {
     "name": "stdout",
     "output_type": "stream",
     "text": [
      "Processing...  H:/20220919_chunks/bs6194_down\\bs6194_10downsampledcropped.mp4\n"
     ]
    },
    {
     "name": "stderr",
     "output_type": "stream",
     "text": [
      "100%|██████████| 115/115 [00:00<00:00, 3976.14it/s]\n"
     ]
    },
    {
     "name": "stdout",
     "output_type": "stream",
     "text": [
      "Processing...  H:/20220919_chunks/bs6194_down\\bs6194_11downsampledcropped.mp4\n"
     ]
    },
    {
     "name": "stderr",
     "output_type": "stream",
     "text": [
      "100%|██████████| 40/40 [00:00<00:00, 4456.34it/s]\n"
     ]
    },
    {
     "name": "stdout",
     "output_type": "stream",
     "text": [
      "Processing...  H:/20220919_chunks/bs6194_down\\bs6194_12downsampledcropped.mp4\n"
     ]
    },
    {
     "name": "stderr",
     "output_type": "stream",
     "text": [
      "100%|██████████| 162/162 [00:00<00:00, 2619.87it/s]\n"
     ]
    },
    {
     "name": "stdout",
     "output_type": "stream",
     "text": [
      "Processing...  H:/20220919_chunks/bs6194_down\\bs6194_13downsampledcropped.mp4\n"
     ]
    },
    {
     "name": "stderr",
     "output_type": "stream",
     "text": [
      "100%|██████████| 13/13 [00:00<00:00, 2607.15it/s]"
     ]
    },
    {
     "name": "stdout",
     "output_type": "stream",
     "text": [
      "Very mean error\n",
      "Processing...  H:/20220919_chunks/bs6194_down\\bs6194_14downsampledcropped.mp4\n"
     ]
    },
    {
     "name": "stderr",
     "output_type": "stream",
     "text": [
      "\n",
      "c:\\Users\\labgrprattenborg\\Anaconda3\\envs\\DEEPLABCUT\\lib\\site-packages\\deeplabcut\\refine_training_dataset\\stitch.py:676: UserWarning: No optimal solution found. Employing black magic...\n",
      "  warnings.warn(\"No optimal solution found. Employing black magic...\")\n"
     ]
    },
    {
     "name": "stdout",
     "output_type": "stream",
     "text": [
      "Very mean error\n",
      "Processing...  H:/20220919_chunks/bs6194_down\\bs6194_15downsampledcropped.mp4\n"
     ]
    },
    {
     "name": "stderr",
     "output_type": "stream",
     "text": [
      "100%|██████████| 26/26 [00:00<00:00, 5214.30it/s]\n"
     ]
    },
    {
     "name": "stdout",
     "output_type": "stream",
     "text": [
      "Processing...  H:/20220919_chunks/bs6194_down\\bs6194_16downsampledcropped.mp4\n"
     ]
    },
    {
     "name": "stderr",
     "output_type": "stream",
     "text": [
      "100%|██████████| 72/72 [00:00<00:00, 2489.30it/s]\n"
     ]
    },
    {
     "name": "stdout",
     "output_type": "stream",
     "text": [
      "Processing...  H:/20220919_chunks/bs6194_down\\bs6194_17downsampledcropped.mp4\n"
     ]
    },
    {
     "name": "stderr",
     "output_type": "stream",
     "text": [
      "100%|██████████| 26/26 [00:00<00:00, 6517.18it/s]\n"
     ]
    },
    {
     "name": "stdout",
     "output_type": "stream",
     "text": [
      "Processing...  H:/20220919_chunks/bs6194_down\\bs6194_18downsampledcropped.mp4\n"
     ]
    },
    {
     "name": "stderr",
     "output_type": "stream",
     "text": [
      "100%|██████████| 32/32 [00:00<00:00, 2139.06it/s]\n"
     ]
    },
    {
     "name": "stdout",
     "output_type": "stream",
     "text": [
      "Processing...  H:/20220919_chunks/bs6194_down\\bs6194_19downsampledcropped.mp4\n",
      "Very mean error\n",
      "Processing...  H:/20220919_chunks/bs6194_down\\bs6194_1downsampledcropped.mp4\n"
     ]
    },
    {
     "name": "stderr",
     "output_type": "stream",
     "text": [
      "100%|██████████| 371/371 [00:00<00:00, 997.29it/s]\n"
     ]
    },
    {
     "name": "stdout",
     "output_type": "stream",
     "text": [
      "Processing...  H:/20220919_chunks/bs6194_down\\bs6194_20downsampledcropped.mp4\n",
      "Very mean error\n",
      "Processing...  H:/20220919_chunks/bs6194_down\\bs6194_21downsampledcropped.mp4\n",
      "Very mean error\n",
      "Processing...  H:/20220919_chunks/bs6194_down\\bs6194_2downsampledcropped.mp4\n"
     ]
    },
    {
     "name": "stderr",
     "output_type": "stream",
     "text": [
      "100%|██████████| 1/1 [00:00<?, ?it/s]"
     ]
    },
    {
     "name": "stdout",
     "output_type": "stream",
     "text": [
      "Very mean error\n",
      "Processing...  H:/20220919_chunks/bs6194_down\\bs6194_3downsampledcropped.mp4\n"
     ]
    },
    {
     "name": "stderr",
     "output_type": "stream",
     "text": [
      "\n",
      "c:\\Users\\labgrprattenborg\\Anaconda3\\envs\\DEEPLABCUT\\lib\\site-packages\\deeplabcut\\refine_training_dataset\\stitch.py:676: UserWarning: No optimal solution found. Employing black magic...\n",
      "  warnings.warn(\"No optimal solution found. Employing black magic...\")\n",
      "100%|██████████| 71/71 [00:00<00:00, 1779.74it/s]\n"
     ]
    },
    {
     "name": "stdout",
     "output_type": "stream",
     "text": [
      "Processing...  H:/20220919_chunks/bs6194_down\\bs6194_4downsampledcropped.mp4\n"
     ]
    },
    {
     "name": "stderr",
     "output_type": "stream",
     "text": [
      "100%|██████████| 14/14 [00:00<00:00, 2807.30it/s]\n",
      "c:\\Users\\labgrprattenborg\\Anaconda3\\envs\\DEEPLABCUT\\lib\\site-packages\\deeplabcut\\refine_training_dataset\\stitch.py:676: UserWarning: No optimal solution found. Employing black magic...\n",
      "  warnings.warn(\"No optimal solution found. Employing black magic...\")\n"
     ]
    },
    {
     "name": "stdout",
     "output_type": "stream",
     "text": [
      "Very mean error\n",
      "Processing...  H:/20220919_chunks/bs6194_down\\bs6194_5downsampledcropped.mp4\n",
      "Very mean error\n",
      "Processing...  H:/20220919_chunks/bs6194_down\\bs6194_6downsampledcropped.mp4\n"
     ]
    },
    {
     "name": "stderr",
     "output_type": "stream",
     "text": [
      "100%|██████████| 80/80 [00:00<00:00, 2430.71it/s]\n"
     ]
    },
    {
     "name": "stdout",
     "output_type": "stream",
     "text": [
      "Processing...  H:/20220919_chunks/bs6194_down\\bs6194_7downsampledcropped.mp4\n"
     ]
    },
    {
     "name": "stderr",
     "output_type": "stream",
     "text": [
      "100%|██████████| 5/5 [00:00<00:00, 2506.46it/s]"
     ]
    },
    {
     "name": "stdout",
     "output_type": "stream",
     "text": [
      "Very mean error\n",
      "Processing...  H:/20220919_chunks/bs6194_down\\bs6194_8downsampledcropped.mp4\n"
     ]
    },
    {
     "name": "stderr",
     "output_type": "stream",
     "text": [
      "\n",
      "c:\\Users\\labgrprattenborg\\Anaconda3\\envs\\DEEPLABCUT\\lib\\site-packages\\deeplabcut\\refine_training_dataset\\stitch.py:676: UserWarning: No optimal solution found. Employing black magic...\n",
      "  warnings.warn(\"No optimal solution found. Employing black magic...\")\n",
      "100%|██████████| 7/7 [00:00<00:00, 3509.88it/s]\n"
     ]
    },
    {
     "name": "stdout",
     "output_type": "stream",
     "text": [
      "Very mean error\n",
      "Processing...  H:/20220919_chunks/bs6194_down\\bs6194_9downsampledcropped.mp4\n"
     ]
    },
    {
     "name": "stderr",
     "output_type": "stream",
     "text": [
      "100%|██████████| 14/14 [00:00<00:00, 4688.24it/s]"
     ]
    },
    {
     "name": "stdout",
     "output_type": "stream",
     "text": [
      "Very mean error\n"
     ]
    },
    {
     "name": "stderr",
     "output_type": "stream",
     "text": [
      "\n"
     ]
    }
   ],
   "source": [
    "lst=[]\n",
    "cwd = 'H:/20220919_chunks/bs6194_down'\n",
    "for file in os.listdir(cwd):\n",
    "    if file.endswith(\"cropped.mp4\"):\n",
    "        lst.append(file)\n",
    "\n",
    "for vids in lst:\n",
    "    try:          \n",
    "        deeplabcut.stitch_tracklets(config_path, os.path.join(cwd, vids), videotype='mp4', shuffle=1, trainingsetindex=0, n_tracks = 17)\n",
    "    except (ValueError,OSError): \n",
    "        print('Very mean error')"
   ]
  },
  {
   "cell_type": "code",
   "execution_count": 68,
   "metadata": {},
   "outputs": [
    {
     "name": "stdout",
     "output_type": "stream",
     "text": [
      "Processing...  H:/20220919_chunks/bs6195_down\\bs6195_10downsampledcropped.mp4\n"
     ]
    },
    {
     "name": "stderr",
     "output_type": "stream",
     "text": [
      "100%|██████████| 47/47 [00:00<00:00, 2618.10it/s]\n"
     ]
    },
    {
     "name": "stdout",
     "output_type": "stream",
     "text": [
      "Processing...  H:/20220919_chunks/bs6195_down\\bs6195_11downsampledcropped.mp4\n"
     ]
    },
    {
     "name": "stderr",
     "output_type": "stream",
     "text": [
      "100%|██████████| 15/15 [00:00<00:00, 3759.91it/s]"
     ]
    },
    {
     "name": "stdout",
     "output_type": "stream",
     "text": [
      "Very mean error\n",
      "Processing...  H:/20220919_chunks/bs6195_down\\bs6195_12downsampledcropped.mp4\n"
     ]
    },
    {
     "name": "stderr",
     "output_type": "stream",
     "text": [
      "\n",
      "c:\\Users\\labgrprattenborg\\Anaconda3\\envs\\DEEPLABCUT\\lib\\site-packages\\deeplabcut\\refine_training_dataset\\stitch.py:676: UserWarning: No optimal solution found. Employing black magic...\n",
      "  warnings.warn(\"No optimal solution found. Employing black magic...\")\n",
      "100%|██████████| 177/177 [00:00<00:00, 2063.65it/s]\n"
     ]
    },
    {
     "name": "stdout",
     "output_type": "stream",
     "text": [
      "Processing...  H:/20220919_chunks/bs6195_down\\bs6195_13downsampledcropped.mp4\n"
     ]
    },
    {
     "name": "stderr",
     "output_type": "stream",
     "text": [
      "100%|██████████| 26/26 [00:00<00:00, 4344.87it/s]\n"
     ]
    },
    {
     "name": "stdout",
     "output_type": "stream",
     "text": [
      "Processing...  H:/20220919_chunks/bs6195_down\\bs6195_14downsampledcropped.mp4\n",
      "Very mean error\n",
      "Processing...  H:/20220919_chunks/bs6195_down\\bs6195_15downsampledcropped.mp4\n"
     ]
    },
    {
     "name": "stderr",
     "output_type": "stream",
     "text": [
      "100%|██████████| 7/7 [00:00<00:00, 3509.46it/s]\n",
      "c:\\Users\\labgrprattenborg\\Anaconda3\\envs\\DEEPLABCUT\\lib\\site-packages\\deeplabcut\\refine_training_dataset\\stitch.py:676: UserWarning: No optimal solution found. Employing black magic...\n",
      "  warnings.warn(\"No optimal solution found. Employing black magic...\")\n"
     ]
    },
    {
     "name": "stdout",
     "output_type": "stream",
     "text": [
      "Very mean error\n",
      "Processing...  H:/20220919_chunks/bs6195_down\\bs6195_16downsampledcropped.mp4\n"
     ]
    },
    {
     "name": "stderr",
     "output_type": "stream",
     "text": [
      "100%|██████████| 23/23 [00:00<00:00, 3843.54it/s]\n"
     ]
    },
    {
     "name": "stdout",
     "output_type": "stream",
     "text": [
      "Processing...  H:/20220919_chunks/bs6195_down\\bs6195_17downsampledcropped.mp4\n"
     ]
    },
    {
     "name": "stderr",
     "output_type": "stream",
     "text": [
      "100%|██████████| 2/2 [00:00<?, ?it/s]"
     ]
    },
    {
     "name": "stdout",
     "output_type": "stream",
     "text": [
      "Very mean error\n",
      "Processing...  H:/20220919_chunks/bs6195_down\\bs6195_18downsampledcropped.mp4\n"
     ]
    },
    {
     "name": "stderr",
     "output_type": "stream",
     "text": [
      "\n",
      "c:\\Users\\labgrprattenborg\\Anaconda3\\envs\\DEEPLABCUT\\lib\\site-packages\\deeplabcut\\refine_training_dataset\\stitch.py:676: UserWarning: No optimal solution found. Employing black magic...\n",
      "  warnings.warn(\"No optimal solution found. Employing black magic...\")\n",
      "100%|██████████| 3/3 [00:00<00:00, 3006.67it/s]\n"
     ]
    },
    {
     "name": "stdout",
     "output_type": "stream",
     "text": [
      "Very mean error\n",
      "Processing...  H:/20220919_chunks/bs6195_down\\bs6195_19downsampledcropped.mp4\n",
      "Very mean error\n",
      "Processing...  H:/20220919_chunks/bs6195_down\\bs6195_1downsampledcropped.mp4\n"
     ]
    },
    {
     "name": "stderr",
     "output_type": "stream",
     "text": [
      "100%|██████████| 459/459 [00:00<00:00, 1614.82it/s]\n"
     ]
    },
    {
     "name": "stdout",
     "output_type": "stream",
     "text": [
      "Processing...  H:/20220919_chunks/bs6195_down\\bs6195_20downsampledcropped.mp4\n",
      "Very mean error\n",
      "Processing...  H:/20220919_chunks/bs6195_down\\bs6195_21downsampledcropped.mp4\n",
      "Very mean error\n",
      "Processing...  H:/20220919_chunks/bs6195_down\\bs6195_2downsampledcropped.mp4\n"
     ]
    },
    {
     "name": "stderr",
     "output_type": "stream",
     "text": [
      "100%|██████████| 1/1 [00:00<?, ?it/s]"
     ]
    },
    {
     "name": "stdout",
     "output_type": "stream",
     "text": [
      "Very mean error\n",
      "Processing...  H:/20220919_chunks/bs6195_down\\bs6195_3downsampledcropped.mp4\n"
     ]
    },
    {
     "name": "stderr",
     "output_type": "stream",
     "text": [
      "\n",
      "c:\\Users\\labgrprattenborg\\Anaconda3\\envs\\DEEPLABCUT\\lib\\site-packages\\deeplabcut\\refine_training_dataset\\stitch.py:676: UserWarning: No optimal solution found. Employing black magic...\n",
      "  warnings.warn(\"No optimal solution found. Employing black magic...\")\n",
      "100%|██████████| 78/78 [00:00<00:00, 1475.64it/s]\n"
     ]
    },
    {
     "name": "stdout",
     "output_type": "stream",
     "text": [
      "Processing...  H:/20220919_chunks/bs6195_down\\bs6195_4downsampledcropped.mp4\n"
     ]
    },
    {
     "name": "stderr",
     "output_type": "stream",
     "text": [
      "100%|██████████| 10/10 [00:00<00:00, 3343.14it/s]"
     ]
    },
    {
     "name": "stdout",
     "output_type": "stream",
     "text": [
      "Very mean error\n"
     ]
    },
    {
     "name": "stderr",
     "output_type": "stream",
     "text": [
      "\n",
      "c:\\Users\\labgrprattenborg\\Anaconda3\\envs\\DEEPLABCUT\\lib\\site-packages\\deeplabcut\\refine_training_dataset\\stitch.py:676: UserWarning: No optimal solution found. Employing black magic...\n",
      "  warnings.warn(\"No optimal solution found. Employing black magic...\")\n"
     ]
    },
    {
     "name": "stdout",
     "output_type": "stream",
     "text": [
      "Processing...  H:/20220919_chunks/bs6195_down\\bs6195_5downsampledcropped.mp4\n"
     ]
    },
    {
     "name": "stderr",
     "output_type": "stream",
     "text": [
      "100%|██████████| 4/4 [00:00<00:00, 4011.77it/s]\n"
     ]
    },
    {
     "name": "stdout",
     "output_type": "stream",
     "text": [
      "Very mean error\n",
      "Processing...  H:/20220919_chunks/bs6195_down\\bs6195_6downsampledcropped.mp4\n"
     ]
    },
    {
     "name": "stderr",
     "output_type": "stream",
     "text": [
      "100%|██████████| 29/29 [00:00<00:00, 4153.63it/s]\n"
     ]
    },
    {
     "name": "stdout",
     "output_type": "stream",
     "text": [
      "Processing...  H:/20220919_chunks/bs6195_down\\bs6195_7downsampledcropped.mp4\n"
     ]
    },
    {
     "name": "stderr",
     "output_type": "stream",
     "text": [
      "100%|██████████| 3/3 [00:00<00:00, 3013.15it/s]"
     ]
    },
    {
     "name": "stdout",
     "output_type": "stream",
     "text": [
      "Very mean error\n"
     ]
    },
    {
     "name": "stderr",
     "output_type": "stream",
     "text": [
      "\n",
      "c:\\Users\\labgrprattenborg\\Anaconda3\\envs\\DEEPLABCUT\\lib\\site-packages\\deeplabcut\\refine_training_dataset\\stitch.py:676: UserWarning: No optimal solution found. Employing black magic...\n",
      "  warnings.warn(\"No optimal solution found. Employing black magic...\")\n"
     ]
    },
    {
     "name": "stdout",
     "output_type": "stream",
     "text": [
      "Processing...  H:/20220919_chunks/bs6195_down\\bs6195_8downsampledcropped.mp4\n"
     ]
    },
    {
     "name": "stderr",
     "output_type": "stream",
     "text": [
      "100%|██████████| 8/8 [00:00<00:00, 4009.85it/s]"
     ]
    },
    {
     "name": "stdout",
     "output_type": "stream",
     "text": [
      "Very mean error\n",
      "Processing...  H:/20220919_chunks/bs6195_down\\bs6195_9downsampledcropped.mp4\n",
      "Very mean error\n"
     ]
    },
    {
     "name": "stderr",
     "output_type": "stream",
     "text": [
      "\n"
     ]
    }
   ],
   "source": [
    "lst=[]\n",
    "cwd = 'H:/20220919_chunks/bs6195_down'\n",
    "for file in os.listdir(cwd):\n",
    "    if file.endswith(\"cropped.mp4\"):\n",
    "        lst.append(file)\n",
    "\n",
    "for vids in lst:\n",
    "    try:          \n",
    "        deeplabcut.stitch_tracklets(config_path, os.path.join(cwd, vids), videotype='mp4', shuffle=1, trainingsetindex=0, n_tracks = 17)\n",
    "    except (ValueError,OSError): \n",
    "        print('Very mean error')"
   ]
  },
  {
   "cell_type": "code",
   "execution_count": 69,
   "metadata": {},
   "outputs": [
    {
     "name": "stdout",
     "output_type": "stream",
     "text": [
      "Processing...  H:/20220919_chunks/bs6196_down\\bs6196_10downsampledcropped.mp4\n"
     ]
    },
    {
     "name": "stderr",
     "output_type": "stream",
     "text": [
      "100%|██████████| 55/55 [00:00<00:00, 3063.77it/s]\n"
     ]
    },
    {
     "name": "stdout",
     "output_type": "stream",
     "text": [
      "Processing...  H:/20220919_chunks/bs6196_down\\bs6196_11downsampledcropped.mp4\n"
     ]
    },
    {
     "name": "stderr",
     "output_type": "stream",
     "text": [
      "100%|██████████| 7/7 [00:00<00:00, 3506.94it/s]"
     ]
    },
    {
     "name": "stdout",
     "output_type": "stream",
     "text": [
      "Very mean error\n"
     ]
    },
    {
     "name": "stderr",
     "output_type": "stream",
     "text": [
      "\n",
      "c:\\Users\\labgrprattenborg\\Anaconda3\\envs\\DEEPLABCUT\\lib\\site-packages\\deeplabcut\\refine_training_dataset\\stitch.py:676: UserWarning: No optimal solution found. Employing black magic...\n",
      "  warnings.warn(\"No optimal solution found. Employing black magic...\")\n"
     ]
    },
    {
     "name": "stdout",
     "output_type": "stream",
     "text": [
      "Processing...  H:/20220919_chunks/bs6196_down\\bs6196_12downsampledcropped.mp4\n"
     ]
    },
    {
     "name": "stderr",
     "output_type": "stream",
     "text": [
      "100%|██████████| 25/25 [00:00<00:00, 3580.96it/s]\n"
     ]
    },
    {
     "name": "stdout",
     "output_type": "stream",
     "text": [
      "Processing...  H:/20220919_chunks/bs6196_down\\bs6196_13downsampledcropped.mp4\n"
     ]
    },
    {
     "name": "stderr",
     "output_type": "stream",
     "text": [
      "100%|██████████| 4/4 [00:00<00:00, 4011.77it/s]"
     ]
    },
    {
     "name": "stdout",
     "output_type": "stream",
     "text": [
      "Very mean error\n",
      "Processing...  H:/20220919_chunks/bs6196_down\\bs6196_14downsampledcropped.mp4\n"
     ]
    },
    {
     "name": "stderr",
     "output_type": "stream",
     "text": [
      "\n",
      "c:\\Users\\labgrprattenborg\\Anaconda3\\envs\\DEEPLABCUT\\lib\\site-packages\\deeplabcut\\refine_training_dataset\\stitch.py:676: UserWarning: No optimal solution found. Employing black magic...\n",
      "  warnings.warn(\"No optimal solution found. Employing black magic...\")\n",
      "100%|██████████| 28/28 [00:00<00:00, 2339.50it/s]\n"
     ]
    },
    {
     "name": "stdout",
     "output_type": "stream",
     "text": [
      "Processing...  H:/20220919_chunks/bs6196_down\\bs6196_15downsampledcropped.mp4\n"
     ]
    },
    {
     "name": "stderr",
     "output_type": "stream",
     "text": [
      "100%|██████████| 24/24 [00:00<00:00, 2673.87it/s]\n"
     ]
    },
    {
     "name": "stdout",
     "output_type": "stream",
     "text": [
      "Processing...  H:/20220919_chunks/bs6196_down\\bs6196_16downsampledcropped.mp4\n"
     ]
    },
    {
     "name": "stderr",
     "output_type": "stream",
     "text": [
      "100%|██████████| 15/15 [00:00<00:00, 3760.36it/s]\n",
      "c:\\Users\\labgrprattenborg\\Anaconda3\\envs\\DEEPLABCUT\\lib\\site-packages\\deeplabcut\\refine_training_dataset\\stitch.py:676: UserWarning: No optimal solution found. Employing black magic...\n",
      "  warnings.warn(\"No optimal solution found. Employing black magic...\")\n"
     ]
    },
    {
     "name": "stdout",
     "output_type": "stream",
     "text": [
      "Very mean error\n",
      "Processing...  H:/20220919_chunks/bs6196_down\\bs6196_17downsampledcropped.mp4\n"
     ]
    },
    {
     "name": "stderr",
     "output_type": "stream",
     "text": [
      "100%|██████████| 6/6 [00:00<00:00, 3009.19it/s]\n"
     ]
    },
    {
     "name": "stdout",
     "output_type": "stream",
     "text": [
      "Very mean error\n",
      "Processing...  H:/20220919_chunks/bs6196_down\\bs6196_18downsampledcropped.mp4\n"
     ]
    },
    {
     "name": "stderr",
     "output_type": "stream",
     "text": [
      "100%|██████████| 10/10 [00:00<00:00, 4977.81it/s]\n"
     ]
    },
    {
     "name": "stdout",
     "output_type": "stream",
     "text": [
      "Very mean error\n",
      "Processing...  H:/20220919_chunks/bs6196_down\\bs6196_19downsampledcropped.mp4\n"
     ]
    },
    {
     "name": "stderr",
     "output_type": "stream",
     "text": [
      "100%|██████████| 2/2 [00:00<00:00, 2004.93it/s]\n"
     ]
    },
    {
     "name": "stdout",
     "output_type": "stream",
     "text": [
      "Very mean error\n",
      "Processing...  H:/20220919_chunks/bs6196_down\\bs6196_1downsampledcropped.mp4\n"
     ]
    },
    {
     "name": "stderr",
     "output_type": "stream",
     "text": [
      "100%|██████████| 6/6 [00:00<00:00, 3007.75it/s]\n"
     ]
    },
    {
     "name": "stdout",
     "output_type": "stream",
     "text": [
      "Very mean error\n",
      "Processing...  H:/20220919_chunks/bs6196_down\\bs6196_20downsampledcropped.mp4\n"
     ]
    },
    {
     "name": "stderr",
     "output_type": "stream",
     "text": [
      "100%|██████████| 5/5 [00:00<00:00, 5017.11it/s]\n"
     ]
    },
    {
     "name": "stdout",
     "output_type": "stream",
     "text": [
      "Very mean error\n",
      "Processing...  H:/20220919_chunks/bs6196_down\\bs6196_21downsampledcropped.mp4\n"
     ]
    },
    {
     "name": "stderr",
     "output_type": "stream",
     "text": [
      "100%|██████████| 27/27 [00:00<00:00, 3867.04it/s]\n"
     ]
    },
    {
     "name": "stdout",
     "output_type": "stream",
     "text": [
      "Processing...  H:/20220919_chunks/bs6196_down\\bs6196_22downsampledcropped.mp4\n",
      "Very mean error\n",
      "Processing...  H:/20220919_chunks/bs6196_down\\bs6196_23downsampledcropped.mp4\n"
     ]
    },
    {
     "name": "stderr",
     "output_type": "stream",
     "text": [
      "100%|██████████| 22/22 [00:00<00:00, 2757.68it/s]\n"
     ]
    },
    {
     "name": "stdout",
     "output_type": "stream",
     "text": [
      "Processing...  H:/20220919_chunks/bs6196_down\\bs6196_24downsampledcropped.mp4\n"
     ]
    },
    {
     "name": "stderr",
     "output_type": "stream",
     "text": [
      "100%|██████████| 22/22 [00:00<00:00, 2757.35it/s]\n"
     ]
    },
    {
     "name": "stdout",
     "output_type": "stream",
     "text": [
      "Processing...  H:/20220919_chunks/bs6196_down\\bs6196_25downsampledcropped.mp4\n"
     ]
    },
    {
     "name": "stderr",
     "output_type": "stream",
     "text": [
      "100%|██████████| 2/2 [00:00<00:00, 1999.67it/s]\n",
      "c:\\Users\\labgrprattenborg\\Anaconda3\\envs\\DEEPLABCUT\\lib\\site-packages\\deeplabcut\\refine_training_dataset\\stitch.py:676: UserWarning: No optimal solution found. Employing black magic...\n",
      "  warnings.warn(\"No optimal solution found. Employing black magic...\")\n"
     ]
    },
    {
     "name": "stdout",
     "output_type": "stream",
     "text": [
      "Very mean error\n",
      "Processing...  H:/20220919_chunks/bs6196_down\\bs6196_26downsampledcropped.mp4\n"
     ]
    },
    {
     "name": "stderr",
     "output_type": "stream",
     "text": [
      "100%|██████████| 5/5 [00:00<00:00, 4993.22it/s]\n"
     ]
    },
    {
     "name": "stdout",
     "output_type": "stream",
     "text": [
      "Very mean error\n",
      "Processing...  H:/20220919_chunks/bs6196_down\\bs6196_27downsampledcropped.mp4\n"
     ]
    },
    {
     "name": "stderr",
     "output_type": "stream",
     "text": [
      "100%|██████████| 10/10 [00:00<00:00, 3342.34it/s]\n"
     ]
    },
    {
     "name": "stdout",
     "output_type": "stream",
     "text": [
      "Very mean error\n",
      "Processing...  H:/20220919_chunks/bs6196_down\\bs6196_28downsampledcropped.mp4\n",
      "Very mean error\n",
      "Processing...  H:/20220919_chunks/bs6196_down\\bs6196_29downsampledcropped.mp4\n"
     ]
    },
    {
     "name": "stderr",
     "output_type": "stream",
     "text": [
      "100%|██████████| 3/3 [00:00<00:00, 3008.83it/s]"
     ]
    },
    {
     "name": "stdout",
     "output_type": "stream",
     "text": [
      "Very mean error\n"
     ]
    },
    {
     "name": "stderr",
     "output_type": "stream",
     "text": [
      "\n"
     ]
    },
    {
     "name": "stdout",
     "output_type": "stream",
     "text": [
      "Processing...  H:/20220919_chunks/bs6196_down\\bs6196_2downsampledcropped.mp4\n"
     ]
    },
    {
     "name": "stderr",
     "output_type": "stream",
     "text": [
      "100%|██████████| 98/98 [00:00<00:00, 2183.59it/s]\n"
     ]
    },
    {
     "name": "stdout",
     "output_type": "stream",
     "text": [
      "Processing...  H:/20220919_chunks/bs6196_down\\bs6196_30downsampledcropped.mp4\n"
     ]
    },
    {
     "name": "stderr",
     "output_type": "stream",
     "text": [
      "100%|██████████| 20/20 [00:00<00:00, 2506.61it/s]\n"
     ]
    },
    {
     "name": "stdout",
     "output_type": "stream",
     "text": [
      "Processing...  H:/20220919_chunks/bs6196_down\\bs6196_31downsampledcropped.mp4\n",
      "Very mean error\n",
      "Processing...  H:/20220919_chunks/bs6196_down\\bs6196_32downsampledcropped.mp4\n"
     ]
    },
    {
     "name": "stderr",
     "output_type": "stream",
     "text": [
      "100%|██████████| 1/1 [00:00<00:00, 999.60it/s]"
     ]
    },
    {
     "name": "stdout",
     "output_type": "stream",
     "text": [
      "Very mean error\n",
      "Processing...  H:/20220919_chunks/bs6196_down\\bs6196_33downsampledcropped.mp4\n"
     ]
    },
    {
     "name": "stderr",
     "output_type": "stream",
     "text": [
      "\n",
      "c:\\Users\\labgrprattenborg\\Anaconda3\\envs\\DEEPLABCUT\\lib\\site-packages\\deeplabcut\\refine_training_dataset\\stitch.py:676: UserWarning: No optimal solution found. Employing black magic...\n",
      "  warnings.warn(\"No optimal solution found. Employing black magic...\")\n",
      "100%|██████████| 2/2 [00:00<00:00, 2003.97it/s]\n"
     ]
    },
    {
     "name": "stdout",
     "output_type": "stream",
     "text": [
      "Very mean error\n",
      "Processing...  H:/20220919_chunks/bs6196_down\\bs6196_34downsampledcropped.mp4\n",
      "Very mean error\n",
      "Processing...  H:/20220919_chunks/bs6196_down\\bs6196_35downsampledcropped.mp4\n",
      "Very mean error\n",
      "Processing...  H:/20220919_chunks/bs6196_down\\bs6196_36downsampledcropped.mp4\n"
     ]
    },
    {
     "name": "stderr",
     "output_type": "stream",
     "text": [
      "100%|██████████| 27/27 [00:00<00:00, 3384.53it/s]\n"
     ]
    },
    {
     "name": "stdout",
     "output_type": "stream",
     "text": [
      "Processing...  H:/20220919_chunks/bs6196_down\\bs6196_37downsampledcropped.mp4\n"
     ]
    },
    {
     "name": "stderr",
     "output_type": "stream",
     "text": [
      "100%|██████████| 12/12 [00:00<00:00, 4009.53it/s]"
     ]
    },
    {
     "name": "stdout",
     "output_type": "stream",
     "text": [
      "Very mean error\n",
      "Processing...  H:/20220919_chunks/bs6196_down\\bs6196_38downsampledcropped.mp4\n",
      "Very mean error\n",
      "Processing...  H:/20220919_chunks/bs6196_down\\bs6196_39downsampledcropped.mp4\n"
     ]
    },
    {
     "name": "stderr",
     "output_type": "stream",
     "text": [
      "\n",
      "c:\\Users\\labgrprattenborg\\Anaconda3\\envs\\DEEPLABCUT\\lib\\site-packages\\deeplabcut\\refine_training_dataset\\stitch.py:676: UserWarning: No optimal solution found. Employing black magic...\n",
      "  warnings.warn(\"No optimal solution found. Employing black magic...\")\n",
      "100%|██████████| 6/6 [00:00<00:00, 6011.90it/s]\n"
     ]
    },
    {
     "name": "stdout",
     "output_type": "stream",
     "text": [
      "Very mean error\n",
      "Processing...  H:/20220919_chunks/bs6196_down\\bs6196_3downsampledcropped.mp4\n",
      "Very mean error\n",
      "Processing...  H:/20220919_chunks/bs6196_down\\bs6196_40downsampledcropped.mp4\n"
     ]
    },
    {
     "name": "stderr",
     "output_type": "stream",
     "text": [
      "100%|██████████| 8/8 [00:00<00:00, 4009.85it/s]\n"
     ]
    },
    {
     "name": "stdout",
     "output_type": "stream",
     "text": [
      "Very mean error\n",
      "Processing...  H:/20220919_chunks/bs6196_down\\bs6196_41downsampledcropped.mp4\n"
     ]
    },
    {
     "name": "stderr",
     "output_type": "stream",
     "text": [
      "100%|██████████| 2/2 [00:00<00:00, 2005.40it/s]\n"
     ]
    },
    {
     "name": "stdout",
     "output_type": "stream",
     "text": [
      "Very mean error\n",
      "Processing...  H:/20220919_chunks/bs6196_down\\bs6196_42downsampledcropped.mp4\n"
     ]
    },
    {
     "name": "stderr",
     "output_type": "stream",
     "text": [
      "100%|██████████| 15/15 [00:00<00:00, 5013.11it/s]\n"
     ]
    },
    {
     "name": "stdout",
     "output_type": "stream",
     "text": [
      "Very mean error\n",
      "Processing...  H:/20220919_chunks/bs6196_down\\bs6196_43downsampledcropped.mp4\n"
     ]
    },
    {
     "name": "stderr",
     "output_type": "stream",
     "text": [
      "100%|██████████| 15/15 [00:00<00:00, 5014.71it/s]\n"
     ]
    },
    {
     "name": "stdout",
     "output_type": "stream",
     "text": [
      "Very mean error\n",
      "Processing...  H:/20220919_chunks/bs6196_down\\bs6196_44downsampledcropped.mp4\n",
      "Very mean error\n",
      "Processing...  H:/20220919_chunks/bs6196_down\\bs6196_45downsampledcropped.mp4\n",
      "Very mean error\n",
      "Processing...  H:/20220919_chunks/bs6196_down\\bs6196_46downsampledcropped.mp4\n"
     ]
    },
    {
     "name": "stderr",
     "output_type": "stream",
     "text": [
      "100%|██████████| 12/12 [00:00<00:00, 6015.50it/s]"
     ]
    },
    {
     "name": "stdout",
     "output_type": "stream",
     "text": [
      "Very mean error\n",
      "Processing...  H:/20220919_chunks/bs6196_down\\bs6196_47downsampledcropped.mp4\n",
      "Very mean error\n",
      "Processing...  H:/20220919_chunks/bs6196_down\\bs6196_48downsampledcropped.mp4\n"
     ]
    },
    {
     "name": "stderr",
     "output_type": "stream",
     "text": [
      "\n"
     ]
    },
    {
     "name": "stdout",
     "output_type": "stream",
     "text": [
      "Very mean error\n",
      "Processing...  H:/20220919_chunks/bs6196_down\\bs6196_49downsampledcropped.mp4\n",
      "Very mean error\n",
      "Processing...  H:/20220919_chunks/bs6196_down\\bs6196_4downsampledcropped.mp4\n"
     ]
    },
    {
     "name": "stderr",
     "output_type": "stream",
     "text": [
      "100%|██████████| 25/25 [00:00<00:00, 3133.35it/s]\n"
     ]
    },
    {
     "name": "stdout",
     "output_type": "stream",
     "text": [
      "Processing...  H:/20220919_chunks/bs6196_down\\bs6196_50downsampledcropped.mp4\n",
      "Very mean error\n",
      "Processing...  H:/20220919_chunks/bs6196_down\\bs6196_51downsampledcropped.mp4\n",
      "Very mean error\n",
      "Processing...  H:/20220919_chunks/bs6196_down\\bs6196_52downsampledcropped.mp4\n",
      "Very mean error\n",
      "Processing...  H:/20220919_chunks/bs6196_down\\bs6196_53downsampledcropped.mp4\n",
      "Very mean error\n",
      "Processing...  H:/20220919_chunks/bs6196_down\\bs6196_54downsampledcropped.mp4\n",
      "Very mean error\n",
      "Processing...  H:/20220919_chunks/bs6196_down\\bs6196_55downsampledcropped.mp4\n",
      "Very mean error\n",
      "Processing...  H:/20220919_chunks/bs6196_down\\bs6196_56downsampledcropped.mp4\n",
      "Very mean error\n",
      "Processing...  H:/20220919_chunks/bs6196_down\\bs6196_5downsampledcropped.mp4\n"
     ]
    },
    {
     "name": "stderr",
     "output_type": "stream",
     "text": [
      "100%|██████████| 10/10 [00:00<00:00, 3342.07it/s]\n",
      "c:\\Users\\labgrprattenborg\\Anaconda3\\envs\\DEEPLABCUT\\lib\\site-packages\\deeplabcut\\refine_training_dataset\\stitch.py:676: UserWarning: No optimal solution found. Employing black magic...\n",
      "  warnings.warn(\"No optimal solution found. Employing black magic...\")\n"
     ]
    },
    {
     "name": "stdout",
     "output_type": "stream",
     "text": [
      "Very mean error\n",
      "Processing...  H:/20220919_chunks/bs6196_down\\bs6196_6downsampledcropped.mp4\n"
     ]
    },
    {
     "name": "stderr",
     "output_type": "stream",
     "text": [
      "100%|██████████| 11/11 [00:00<00:00, 3675.40it/s]\n"
     ]
    },
    {
     "name": "stdout",
     "output_type": "stream",
     "text": [
      "Very mean error\n",
      "Processing...  H:/20220919_chunks/bs6196_down\\bs6196_7downsampledcropped.mp4\n"
     ]
    },
    {
     "name": "stderr",
     "output_type": "stream",
     "text": [
      "100%|██████████| 29/29 [00:00<00:00, 2423.10it/s]\n"
     ]
    },
    {
     "name": "stdout",
     "output_type": "stream",
     "text": [
      "Processing...  H:/20220919_chunks/bs6196_down\\bs6196_8downsampledcropped.mp4\n"
     ]
    },
    {
     "name": "stderr",
     "output_type": "stream",
     "text": [
      "100%|██████████| 1/1 [00:00<?, ?it/s]\n",
      "c:\\Users\\labgrprattenborg\\Anaconda3\\envs\\DEEPLABCUT\\lib\\site-packages\\deeplabcut\\refine_training_dataset\\stitch.py:676: UserWarning: No optimal solution found. Employing black magic...\n",
      "  warnings.warn(\"No optimal solution found. Employing black magic...\")\n"
     ]
    },
    {
     "name": "stdout",
     "output_type": "stream",
     "text": [
      "Very mean error\n",
      "Processing...  H:/20220919_chunks/bs6196_down\\bs6196_9downsampledcropped.mp4\n"
     ]
    },
    {
     "name": "stderr",
     "output_type": "stream",
     "text": [
      "100%|██████████| 4/4 [00:00<00:00, 4005.06it/s]"
     ]
    },
    {
     "name": "stdout",
     "output_type": "stream",
     "text": [
      "Very mean error\n"
     ]
    },
    {
     "name": "stderr",
     "output_type": "stream",
     "text": [
      "\n"
     ]
    }
   ],
   "source": [
    "lst=[]\n",
    "cwd = 'H:/20220919_chunks/bs6196_down'\n",
    "for file in os.listdir(cwd):\n",
    "    if file.endswith(\"cropped.mp4\"):\n",
    "        lst.append(file)\n",
    "\n",
    "for vids in lst:\n",
    "    try:          \n",
    "        deeplabcut.stitch_tracklets(config_path, os.path.join(cwd, vids), videotype='mp4', shuffle=1, trainingsetindex=0, n_tracks = 17)\n",
    "    except (ValueError,OSError): \n",
    "        print('Very mean error')"
   ]
  },
  {
   "cell_type": "code",
   "execution_count": 70,
   "metadata": {},
   "outputs": [
    {
     "name": "stdout",
     "output_type": "stream",
     "text": [
      "Processing...  H:/20220919_chunks/bs6197_down\\bs6197_10downsampledcropped.mp4\n"
     ]
    },
    {
     "name": "stderr",
     "output_type": "stream",
     "text": [
      "100%|██████████| 49/49 [00:00<00:00, 1965.11it/s]\n"
     ]
    },
    {
     "name": "stdout",
     "output_type": "stream",
     "text": [
      "Processing...  H:/20220919_chunks/bs6197_down\\bs6197_11downsampledcropped.mp4\n"
     ]
    },
    {
     "name": "stderr",
     "output_type": "stream",
     "text": [
      "100%|██████████| 5/5 [00:00<00:00, 2506.46it/s]\n",
      "c:\\Users\\labgrprattenborg\\Anaconda3\\envs\\DEEPLABCUT\\lib\\site-packages\\deeplabcut\\refine_training_dataset\\stitch.py:676: UserWarning: No optimal solution found. Employing black magic...\n",
      "  warnings.warn(\"No optimal solution found. Employing black magic...\")\n"
     ]
    },
    {
     "name": "stdout",
     "output_type": "stream",
     "text": [
      "Very mean error\n",
      "Processing...  H:/20220919_chunks/bs6197_down\\bs6197_12downsampledcropped.mp4\n"
     ]
    },
    {
     "name": "stderr",
     "output_type": "stream",
     "text": [
      "100%|██████████| 21/21 [00:00<00:00, 3509.18it/s]\n"
     ]
    },
    {
     "name": "stdout",
     "output_type": "stream",
     "text": [
      "Processing...  H:/20220919_chunks/bs6197_down\\bs6197_13downsampledcropped.mp4\n"
     ]
    },
    {
     "name": "stderr",
     "output_type": "stream",
     "text": [
      "100%|██████████| 21/21 [00:00<00:00, 4211.15it/s]"
     ]
    },
    {
     "name": "stdout",
     "output_type": "stream",
     "text": [
      "Processing... "
     ]
    },
    {
     "name": "stderr",
     "output_type": "stream",
     "text": [
      "\n"
     ]
    },
    {
     "name": "stdout",
     "output_type": "stream",
     "text": [
      " H:/20220919_chunks/bs6197_down\\bs6197_14downsampledcropped.mp4\n"
     ]
    },
    {
     "name": "stderr",
     "output_type": "stream",
     "text": [
      "100%|██████████| 27/27 [00:00<00:00, 2707.23it/s]\n"
     ]
    },
    {
     "name": "stdout",
     "output_type": "stream",
     "text": [
      "Processing...  H:/20220919_chunks/bs6197_down\\bs6197_15downsampledcropped.mp4\n"
     ]
    },
    {
     "name": "stderr",
     "output_type": "stream",
     "text": [
      "100%|██████████| 16/16 [00:00<00:00, 3208.49it/s]\n",
      "c:\\Users\\labgrprattenborg\\Anaconda3\\envs\\DEEPLABCUT\\lib\\site-packages\\deeplabcut\\refine_training_dataset\\stitch.py:676: UserWarning: No optimal solution found. Employing black magic...\n",
      "  warnings.warn(\"No optimal solution found. Employing black magic...\")\n"
     ]
    },
    {
     "name": "stdout",
     "output_type": "stream",
     "text": [
      "Very mean error\n",
      "Processing...  H:/20220919_chunks/bs6197_down\\bs6197_16downsampledcropped.mp4\n"
     ]
    },
    {
     "name": "stderr",
     "output_type": "stream",
     "text": [
      "100%|██████████| 12/12 [00:00<00:00, 3007.93it/s]\n",
      "c:\\Users\\labgrprattenborg\\Anaconda3\\envs\\DEEPLABCUT\\lib\\site-packages\\deeplabcut\\refine_training_dataset\\stitch.py:676: UserWarning: No optimal solution found. Employing black magic...\n",
      "  warnings.warn(\"No optimal solution found. Employing black magic...\")\n"
     ]
    },
    {
     "name": "stdout",
     "output_type": "stream",
     "text": [
      "Very mean error\n",
      "Processing...  H:/20220919_chunks/bs6197_down\\bs6197_17downsampledcropped.mp4\n"
     ]
    },
    {
     "name": "stderr",
     "output_type": "stream",
     "text": [
      "100%|██████████| 8/8 [00:00<00:00, 4007.46it/s]\n"
     ]
    },
    {
     "name": "stdout",
     "output_type": "stream",
     "text": [
      "Very mean error\n",
      "Processing...  H:/20220919_chunks/bs6197_down\\bs6197_18downsampledcropped.mp4\n"
     ]
    },
    {
     "name": "stderr",
     "output_type": "stream",
     "text": [
      "100%|██████████| 2/2 [00:00<?, ?it/s]\n"
     ]
    },
    {
     "name": "stdout",
     "output_type": "stream",
     "text": [
      "Very mean error\n",
      "Processing...  H:/20220919_chunks/bs6197_down\\bs6197_19downsampledcropped.mp4\n"
     ]
    },
    {
     "name": "stderr",
     "output_type": "stream",
     "text": [
      "100%|██████████| 7/7 [00:00<00:00, 3509.04it/s]\n"
     ]
    },
    {
     "name": "stdout",
     "output_type": "stream",
     "text": [
      "Very mean error\n",
      "Processing...  H:/20220919_chunks/bs6197_down\\bs6197_1downsampledcropped.mp4\n"
     ]
    },
    {
     "name": "stderr",
     "output_type": "stream",
     "text": [
      "100%|██████████| 1/1 [00:00<?, ?it/s]\n"
     ]
    },
    {
     "name": "stdout",
     "output_type": "stream",
     "text": [
      "Very mean error\n",
      "Processing...  H:/20220919_chunks/bs6197_down\\bs6197_20downsampledcropped.mp4\n"
     ]
    },
    {
     "name": "stderr",
     "output_type": "stream",
     "text": [
      "100%|██████████| 2/2 [00:00<?, ?it/s]\n"
     ]
    },
    {
     "name": "stdout",
     "output_type": "stream",
     "text": [
      "Very mean error\n",
      "Processing...  H:/20220919_chunks/bs6197_down\\bs6197_21downsampledcropped.mp4\n"
     ]
    },
    {
     "name": "stderr",
     "output_type": "stream",
     "text": [
      "100%|██████████| 12/12 [00:00<00:00, 3007.57it/s]\n"
     ]
    },
    {
     "name": "stdout",
     "output_type": "stream",
     "text": [
      "Very mean error\n",
      "Processing...  H:/20220919_chunks/bs6197_down\\bs6197_22downsampledcropped.mp4\n"
     ]
    },
    {
     "name": "stderr",
     "output_type": "stream",
     "text": [
      "100%|██████████| 1/1 [00:00<?, ?it/s]\n"
     ]
    },
    {
     "name": "stdout",
     "output_type": "stream",
     "text": [
      "Very mean error\n",
      "Processing...  H:/20220919_chunks/bs6197_down\\bs6197_23downsampledcropped.mp4\n"
     ]
    },
    {
     "name": "stderr",
     "output_type": "stream",
     "text": [
      "100%|██████████| 15/15 [00:00<00:00, 3007.53it/s]\n"
     ]
    },
    {
     "name": "stdout",
     "output_type": "stream",
     "text": [
      "Very mean error\n",
      "Processing...  H:/20220919_chunks/bs6197_down\\bs6197_24downsampledcropped.mp4\n"
     ]
    },
    {
     "name": "stderr",
     "output_type": "stream",
     "text": [
      "100%|██████████| 11/11 [00:00<00:00, 2754.63it/s]\n"
     ]
    },
    {
     "name": "stdout",
     "output_type": "stream",
     "text": [
      "Very mean error\n",
      "Processing...  H:/20220919_chunks/bs6197_down\\bs6197_25downsampledcropped.mp4\n"
     ]
    },
    {
     "name": "stderr",
     "output_type": "stream",
     "text": [
      "100%|██████████| 1/1 [00:00<?, ?it/s]\n"
     ]
    },
    {
     "name": "stdout",
     "output_type": "stream",
     "text": [
      "Very mean error\n",
      "Processing...  H:/20220919_chunks/bs6197_down\\bs6197_26downsampledcropped.mp4\n"
     ]
    },
    {
     "name": "stderr",
     "output_type": "stream",
     "text": [
      "100%|██████████| 10/10 [00:00<00:00, 3341.81it/s]\n"
     ]
    },
    {
     "name": "stdout",
     "output_type": "stream",
     "text": [
      "Very mean error\n",
      "Processing...  H:/20220919_chunks/bs6197_down\\bs6197_27downsampledcropped.mp4\n"
     ]
    },
    {
     "name": "stderr",
     "output_type": "stream",
     "text": [
      "100%|██████████| 8/8 [00:00<00:00, 4009.85it/s]\n"
     ]
    },
    {
     "name": "stdout",
     "output_type": "stream",
     "text": [
      "Very mean error\n",
      "Processing...  H:/20220919_chunks/bs6197_down\\bs6197_28downsampledcropped.mp4\n",
      "Very mean error\n",
      "Processing...  H:/20220919_chunks/bs6197_down\\bs6197_29downsampledcropped.mp4\n"
     ]
    },
    {
     "name": "stderr",
     "output_type": "stream",
     "text": [
      "100%|██████████| 2/2 [00:00<?, ?it/s]\n"
     ]
    },
    {
     "name": "stdout",
     "output_type": "stream",
     "text": [
      "Very mean error\n",
      "Processing...  H:/20220919_chunks/bs6197_down\\bs6197_2downsampledcropped.mp4\n"
     ]
    },
    {
     "name": "stderr",
     "output_type": "stream",
     "text": [
      "100%|██████████| 112/112 [00:00<00:00, 1517.55it/s]\n"
     ]
    },
    {
     "name": "stdout",
     "output_type": "stream",
     "text": [
      "Processing...  H:/20220919_chunks/bs6197_down\\bs6197_30downsampledcropped.mp4\n"
     ]
    },
    {
     "name": "stderr",
     "output_type": "stream",
     "text": [
      "100%|██████████| 14/14 [00:00<00:00, 2807.43it/s]"
     ]
    },
    {
     "name": "stdout",
     "output_type": "stream",
     "text": [
      "Very mean error\n",
      "Processing...  H:/20220919_chunks/bs6197_down\\bs6197_31downsampledcropped.mp4\n",
      "Very mean error\n",
      "Processing...  H:/20220919_chunks/bs6197_down\\bs6197_32downsampledcropped.mp4\n"
     ]
    },
    {
     "name": "stderr",
     "output_type": "stream",
     "text": [
      "\n",
      "c:\\Users\\labgrprattenborg\\Anaconda3\\envs\\DEEPLABCUT\\lib\\site-packages\\deeplabcut\\refine_training_dataset\\stitch.py:676: UserWarning: No optimal solution found. Employing black magic...\n",
      "  warnings.warn(\"No optimal solution found. Employing black magic...\")\n"
     ]
    },
    {
     "name": "stdout",
     "output_type": "stream",
     "text": [
      "Very mean error\n",
      "Processing...  H:/20220919_chunks/bs6197_down\\bs6197_33downsampledcropped.mp4\n",
      "Very mean error\n",
      "Processing...  H:/20220919_chunks/bs6197_down\\bs6197_34downsampledcropped.mp4\n",
      "Very mean error\n",
      "Processing...  H:/20220919_chunks/bs6197_down\\bs6197_35downsampledcropped.mp4\n",
      "Very mean error\n",
      "Processing...  H:/20220919_chunks/bs6197_down\\bs6197_36downsampledcropped.mp4\n"
     ]
    },
    {
     "name": "stderr",
     "output_type": "stream",
     "text": [
      "100%|██████████| 7/7 [00:00<00:00, 7018.92it/s]"
     ]
    },
    {
     "name": "stdout",
     "output_type": "stream",
     "text": [
      "Very mean error\n"
     ]
    },
    {
     "name": "stderr",
     "output_type": "stream",
     "text": [
      "\n"
     ]
    },
    {
     "name": "stdout",
     "output_type": "stream",
     "text": [
      "Processing...  H:/20220919_chunks/bs6197_down\\bs6197_37downsampledcropped.mp4\n"
     ]
    },
    {
     "name": "stderr",
     "output_type": "stream",
     "text": [
      "100%|██████████| 9/9 [00:00<00:00, 4519.18it/s]"
     ]
    },
    {
     "name": "stdout",
     "output_type": "stream",
     "text": [
      "Very mean error\n"
     ]
    },
    {
     "name": "stderr",
     "output_type": "stream",
     "text": [
      "\n"
     ]
    },
    {
     "name": "stdout",
     "output_type": "stream",
     "text": [
      "Processing...  H:/20220919_chunks/bs6197_down\\bs6197_38downsampledcropped.mp4\n",
      "Very mean error\n",
      "Processing...  H:/20220919_chunks/bs6197_down\\bs6197_39downsampledcropped.mp4\n",
      "Very mean error\n",
      "Processing...  H:/20220919_chunks/bs6197_down\\bs6197_3downsampledcropped.mp4\n"
     ]
    },
    {
     "name": "stderr",
     "output_type": "stream",
     "text": [
      "100%|██████████| 2/2 [00:00<00:00, 1002.58it/s]"
     ]
    },
    {
     "name": "stdout",
     "output_type": "stream",
     "text": [
      "Very mean error\n",
      "Processing...  H:/20220919_chunks/bs6197_down\\bs6197_40downsampledcropped.mp4\n"
     ]
    },
    {
     "name": "stderr",
     "output_type": "stream",
     "text": [
      "\n",
      "100%|██████████| 1/1 [00:00<?, ?it/s]"
     ]
    },
    {
     "name": "stdout",
     "output_type": "stream",
     "text": [
      "Very mean error\n",
      "Processing...  H:/20220919_chunks/bs6197_down\\bs6197_41downsampledcropped.mp4\n"
     ]
    },
    {
     "name": "stderr",
     "output_type": "stream",
     "text": [
      "\n",
      "100%|██████████| 4/4 [00:00<00:00, 4010.81it/s]\n"
     ]
    },
    {
     "name": "stdout",
     "output_type": "stream",
     "text": [
      "Very mean error\n",
      "Processing...  H:/20220919_chunks/bs6197_down\\bs6197_42downsampledcropped.mp4\n",
      "Very mean error\n",
      "Processing...  H:/20220919_chunks/bs6197_down\\bs6197_43downsampledcropped.mp4\n"
     ]
    },
    {
     "name": "stderr",
     "output_type": "stream",
     "text": [
      "100%|██████████| 12/12 [00:00<00:00, 3008.65it/s]"
     ]
    },
    {
     "name": "stdout",
     "output_type": "stream",
     "text": [
      "Very mean error\n"
     ]
    },
    {
     "name": "stderr",
     "output_type": "stream",
     "text": [
      "\n"
     ]
    },
    {
     "name": "stdout",
     "output_type": "stream",
     "text": [
      "Processing...  H:/20220919_chunks/bs6197_down\\bs6197_44downsampledcropped.mp4\n",
      "Very mean error\n",
      "Processing...  H:/20220919_chunks/bs6197_down\\bs6197_45downsampledcropped.mp4\n"
     ]
    },
    {
     "name": "stderr",
     "output_type": "stream",
     "text": [
      "100%|██████████| 5/5 [00:00<00:00, 5012.31it/s]"
     ]
    },
    {
     "name": "stdout",
     "output_type": "stream",
     "text": [
      "Very mean error\n",
      "Processing...  H:/20220919_chunks/bs6197_down\\bs6197_46downsampledcropped.mp4\n"
     ]
    },
    {
     "name": "stderr",
     "output_type": "stream",
     "text": [
      "\n",
      "100%|██████████| 15/15 [00:00<00:00, 5010.32it/s]\n"
     ]
    },
    {
     "name": "stdout",
     "output_type": "stream",
     "text": [
      "Very mean error\n",
      "Processing...  H:/20220919_chunks/bs6197_down\\bs6197_47downsampledcropped.mp4\n",
      "Very mean error\n",
      "Processing...  H:/20220919_chunks/bs6197_down\\bs6197_48downsampledcropped.mp4\n",
      "Very mean error\n",
      "Processing...  H:/20220919_chunks/bs6197_down\\bs6197_49downsampledcropped.mp4\n",
      "Very mean error\n",
      "Processing...  H:/20220919_chunks/bs6197_down\\bs6197_4downsampledcropped.mp4\n"
     ]
    },
    {
     "name": "stderr",
     "output_type": "stream",
     "text": [
      "100%|██████████| 4/4 [00:00<00:00, 4009.85it/s]"
     ]
    },
    {
     "name": "stdout",
     "output_type": "stream",
     "text": [
      "Very mean error\n",
      "Processing...  H:/20220919_chunks/bs6197_down\\bs6197_50downsampledcropped.mp4\n",
      "Very mean error\n"
     ]
    },
    {
     "name": "stderr",
     "output_type": "stream",
     "text": [
      "\n"
     ]
    },
    {
     "name": "stdout",
     "output_type": "stream",
     "text": [
      "Processing...  H:/20220919_chunks/bs6197_down\\bs6197_51downsampledcropped.mp4\n",
      "Very mean error\n",
      "Processing...  H:/20220919_chunks/bs6197_down\\bs6197_52downsampledcropped.mp4\n",
      "Very mean error\n",
      "Processing...  H:/20220919_chunks/bs6197_down\\bs6197_53downsampledcropped.mp4\n",
      "Very mean error\n",
      "Processing...  H:/20220919_chunks/bs6197_down\\bs6197_54downsampledcropped.mp4\n",
      "Very mean error\n",
      "Processing...  H:/20220919_chunks/bs6197_down\\bs6197_55downsampledcropped.mp4\n",
      "Very mean error\n",
      "Processing...  H:/20220919_chunks/bs6197_down\\bs6197_56downsampledcropped.mp4\n",
      "Very mean error\n",
      "Processing...  H:/20220919_chunks/bs6197_down\\bs6197_5downsampledcropped.mp4\n"
     ]
    },
    {
     "name": "stderr",
     "output_type": "stream",
     "text": [
      "100%|██████████| 8/8 [00:00<00:00, 4010.33it/s]"
     ]
    },
    {
     "name": "stdout",
     "output_type": "stream",
     "text": [
      "Very mean error\n",
      "Processing...  H:/20220919_chunks/bs6197_down\\bs6197_6downsampledcropped.mp4\n"
     ]
    },
    {
     "name": "stderr",
     "output_type": "stream",
     "text": [
      "\n",
      "100%|██████████| 6/6 [00:00<00:00, 3008.83it/s]"
     ]
    },
    {
     "name": "stdout",
     "output_type": "stream",
     "text": [
      "Very mean error\n",
      "Processing...  H:/20220919_chunks/bs6197_down\\bs6197_7downsampledcropped.mp4\n"
     ]
    },
    {
     "name": "stderr",
     "output_type": "stream",
     "text": [
      "\n",
      "100%|██████████| 17/17 [00:00<00:00, 2434.05it/s]\n"
     ]
    },
    {
     "name": "stdout",
     "output_type": "stream",
     "text": [
      "Processing...  H:/20220919_chunks/bs6197_down\\bs6197_8downsampledcropped.mp4\n"
     ]
    },
    {
     "name": "stderr",
     "output_type": "stream",
     "text": [
      "100%|██████████| 1/1 [00:00<?, ?it/s]\n",
      "c:\\Users\\labgrprattenborg\\Anaconda3\\envs\\DEEPLABCUT\\lib\\site-packages\\deeplabcut\\refine_training_dataset\\stitch.py:676: UserWarning: No optimal solution found. Employing black magic...\n",
      "  warnings.warn(\"No optimal solution found. Employing black magic...\")\n"
     ]
    },
    {
     "name": "stdout",
     "output_type": "stream",
     "text": [
      "Very mean error\n",
      "Processing...  H:/20220919_chunks/bs6197_down\\bs6197_9downsampledcropped.mp4\n"
     ]
    },
    {
     "name": "stderr",
     "output_type": "stream",
     "text": [
      "100%|██████████| 3/3 [00:00<00:00, 3008.11it/s]"
     ]
    },
    {
     "name": "stdout",
     "output_type": "stream",
     "text": [
      "Very mean error\n"
     ]
    },
    {
     "name": "stderr",
     "output_type": "stream",
     "text": [
      "\n"
     ]
    }
   ],
   "source": [
    "lst=[]\n",
    "cwd = 'H:/20220919_chunks/bs6197_down'\n",
    "for file in os.listdir(cwd):\n",
    "    if file.endswith(\"cropped.mp4\"):\n",
    "        lst.append(file)\n",
    "\n",
    "for vids in lst:\n",
    "    try:          \n",
    "        deeplabcut.stitch_tracklets(config_path, os.path.join(cwd, vids), videotype='mp4', shuffle=1, trainingsetindex=0, n_tracks = 17)\n",
    "    except (ValueError,OSError): \n",
    "        print('Very mean error')"
   ]
  }
 ],
 "metadata": {
  "kernelspec": {
   "display_name": "DEEPLABCUT",
   "language": "python",
   "name": "python3"
  },
  "language_info": {
   "codemirror_mode": {
    "name": "ipython",
    "version": 3
   },
   "file_extension": ".py",
   "mimetype": "text/x-python",
   "name": "python",
   "nbconvert_exporter": "python",
   "pygments_lexer": "ipython3",
   "version": "3.8.13"
  },
  "orig_nbformat": 4,
  "vscode": {
   "interpreter": {
    "hash": "eff76a82959a97d88c74746572abd5e24c826b707892bd3718b7f218430a8697"
   }
  }
 },
 "nbformat": 4,
 "nbformat_minor": 2
}
